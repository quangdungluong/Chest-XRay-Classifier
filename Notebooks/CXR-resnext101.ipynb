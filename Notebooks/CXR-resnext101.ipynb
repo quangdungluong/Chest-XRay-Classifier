{
 "cells": [
  {
   "cell_type": "markdown",
   "id": "7f3a9888",
   "metadata": {
    "papermill": {
     "duration": 0.021185,
     "end_time": "2022-04-08T15:35:27.630851",
     "exception": false,
     "start_time": "2022-04-08T15:35:27.609666",
     "status": "completed"
    },
    "tags": []
   },
   "source": [
    "# 1. Import required packages"
   ]
  },
  {
   "cell_type": "code",
   "execution_count": 1,
   "id": "d38a8fea",
   "metadata": {
    "_cell_guid": "b1076dfc-b9ad-4769-8c92-a6c4dae69d19",
    "_uuid": "8f2839f25d086af736a60e9eeb907d3b93b6e0e5",
    "execution": {
     "iopub.execute_input": "2022-04-08T15:35:27.696805Z",
     "iopub.status.busy": "2022-04-08T15:35:27.695238Z",
     "iopub.status.idle": "2022-04-08T15:35:45.682042Z",
     "shell.execute_reply": "2022-04-08T15:35:45.682827Z",
     "shell.execute_reply.started": "2022-04-08T15:14:54.353834Z"
    },
    "papermill": {
     "duration": 18.02608,
     "end_time": "2022-04-08T15:35:45.683149",
     "exception": false,
     "start_time": "2022-04-08T15:35:27.657069",
     "status": "completed"
    },
    "tags": []
   },
   "outputs": [],
   "source": [
    "%%capture\n",
    "!pip install timm\n",
    "!pip install randaugment"
   ]
  },
  {
   "cell_type": "code",
   "execution_count": 2,
   "id": "d6a6d3eb",
   "metadata": {
    "execution": {
     "iopub.execute_input": "2022-04-08T15:35:45.728540Z",
     "iopub.status.busy": "2022-04-08T15:35:45.727766Z",
     "iopub.status.idle": "2022-04-08T15:35:49.098806Z",
     "shell.execute_reply": "2022-04-08T15:35:49.098334Z",
     "shell.execute_reply.started": "2022-04-08T15:15:09.520848Z"
    },
    "papermill": {
     "duration": 3.398101,
     "end_time": "2022-04-08T15:35:49.098971",
     "exception": false,
     "start_time": "2022-04-08T15:35:45.700870",
     "status": "completed"
    },
    "tags": []
   },
   "outputs": [],
   "source": [
    "import os\n",
    "import PIL\n",
    "import time\n",
    "import timm\n",
    "import math\n",
    "import copy\n",
    "import torch\n",
    "import torchvision\n",
    "import itertools\n",
    "import numpy as np\n",
    "%matplotlib inline\n",
    "import torch.nn as nn\n",
    "from PIL import Image\n",
    "from copy import deepcopy\n",
    "import torch.optim as optim\n",
    "import matplotlib.pyplot as plt\n",
    "from timm.models.layers.activations import *\n",
    "from collections import OrderedDict\n",
    "from torchvision import transforms, models, datasets\n",
    "from torch.utils.data.sampler import SubsetRandomSampler\n",
    "device = torch.device(\"cuda:0\" if torch.cuda.is_available() else \"cpu\")\n",
    "from timm.loss import LabelSmoothingCrossEntropy\n",
    "from sklearn.metrics import confusion_matrix, accuracy_score, classification_report, roc_auc_score, roc_curve\n",
    "from randaugment import RandAugment, ImageNetPolicy, Cutout\n",
    "from tqdm import tqdm"
   ]
  },
  {
   "cell_type": "markdown",
   "id": "5a73efb6",
   "metadata": {
    "papermill": {
     "duration": 0.017095,
     "end_time": "2022-04-08T15:35:49.133594",
     "exception": false,
     "start_time": "2022-04-08T15:35:49.116499",
     "status": "completed"
    },
    "tags": []
   },
   "source": [
    "# 2. Dataloader"
   ]
  },
  {
   "cell_type": "code",
   "execution_count": 3,
   "id": "7b1e6555",
   "metadata": {
    "execution": {
     "iopub.execute_input": "2022-04-08T15:35:49.175260Z",
     "iopub.status.busy": "2022-04-08T15:35:49.174372Z",
     "iopub.status.idle": "2022-04-08T15:35:49.176446Z",
     "shell.execute_reply": "2022-04-08T15:35:49.176917Z",
     "shell.execute_reply.started": "2022-04-08T15:15:09.540534Z"
    },
    "papermill": {
     "duration": 0.025917,
     "end_time": "2022-04-08T15:35:49.177103",
     "exception": false,
     "start_time": "2022-04-08T15:35:49.151186",
     "status": "completed"
    },
    "tags": []
   },
   "outputs": [],
   "source": [
    "# Hyperparameters\n",
    "BATCH_SIZE = 16\n",
    "NUM_EPOCHS = 50"
   ]
  },
  {
   "cell_type": "code",
   "execution_count": 4,
   "id": "6bfe22f1",
   "metadata": {
    "execution": {
     "iopub.execute_input": "2022-04-08T15:35:49.246675Z",
     "iopub.status.busy": "2022-04-08T15:35:49.217411Z",
     "iopub.status.idle": "2022-04-08T15:35:49.248995Z",
     "shell.execute_reply": "2022-04-08T15:35:49.248542Z",
     "shell.execute_reply.started": "2022-04-08T15:15:09.563665Z"
    },
    "papermill": {
     "duration": 0.052059,
     "end_time": "2022-04-08T15:35:49.249128",
     "exception": false,
     "start_time": "2022-04-08T15:35:49.197069",
     "status": "completed"
    },
    "tags": []
   },
   "outputs": [],
   "source": [
    "root_dir = '/kaggle/input/chest-xray-classification'\n",
    "data_transforms = {\n",
    "    'train':transforms.Compose([\n",
    "        transforms.RandomRotation(20),\n",
    "        transforms.RandomResizedCrop(224),\n",
    "        transforms.RandomHorizontalFlip(),\n",
    "        Cutout(size=16),\n",
    "        RandAugment(),\n",
    "        ImageNetPolicy(),\n",
    "        transforms.ToTensor(),\n",
    "        transforms.Normalize([0.485, 0.456, 0.406], \n",
    "                             [0.229, 0.224, 0.225])\n",
    "    ]),\n",
    "    'val': transforms.Compose([\n",
    "        transforms.Resize(256),\n",
    "        transforms.CenterCrop(224),\n",
    "        transforms.ToTensor(),\n",
    "        transforms.Normalize([0.485, 0.456, 0.406], \n",
    "                             [0.229, 0.224, 0.225])\n",
    "    ]),\n",
    "    'test':transforms.Compose([\n",
    "        transforms.Resize(256),\n",
    "        transforms.CenterCrop(224),\n",
    "        transforms.ToTensor(),\n",
    "        transforms.Normalize([0.485, 0.456, 0.406], \n",
    "                             [0.229, 0.224, 0.225])\n",
    "    ])\n",
    "}"
   ]
  },
  {
   "cell_type": "code",
   "execution_count": 5,
   "id": "88ddda86",
   "metadata": {
    "execution": {
     "iopub.execute_input": "2022-04-08T15:35:49.290717Z",
     "iopub.status.busy": "2022-04-08T15:35:49.290093Z",
     "iopub.status.idle": "2022-04-08T15:35:56.400507Z",
     "shell.execute_reply": "2022-04-08T15:35:56.401197Z",
     "shell.execute_reply.started": "2022-04-08T15:15:09.599376Z"
    },
    "papermill": {
     "duration": 7.135072,
     "end_time": "2022-04-08T15:35:56.401355",
     "exception": false,
     "start_time": "2022-04-08T15:35:49.266283",
     "status": "completed"
    },
    "tags": []
   },
   "outputs": [
    {
     "name": "stdout",
     "output_type": "stream",
     "text": [
      "Dataset size:  {'train': 17813, 'val': 2227, 'test': 2229}\n",
      "Class names:  ['COVID', 'Lung_Opacity', 'Normal', 'Pneunomia', 'Tuberculosis']\n"
     ]
    }
   ],
   "source": [
    "image_datasets = {x : datasets.ImageFolder(os.path.join(root_dir, x), data_transforms[x]) for x in ['train', 'val', 'test']}\n",
    "data_loader = {x : torch.utils.data.DataLoader(image_datasets[x], batch_size=BATCH_SIZE if x!='test' else 2, shuffle=True, num_workers=2, pin_memory=True) for x in ['train', 'val', 'test']}\n",
    "dataset_sizes = {x : len(image_datasets[x]) for x in ['train', 'val', 'test']}\n",
    "class_names = image_datasets['train'].classes\n",
    "\n",
    "print('Dataset size: ', dataset_sizes)\n",
    "print('Class names: ', class_names)"
   ]
  },
  {
   "cell_type": "markdown",
   "id": "6a31d6b6",
   "metadata": {
    "papermill": {
     "duration": 0.017163,
     "end_time": "2022-04-08T15:35:56.436459",
     "exception": false,
     "start_time": "2022-04-08T15:35:56.419296",
     "status": "completed"
    },
    "tags": []
   },
   "source": [
    "# 3. ResNeXt101"
   ]
  },
  {
   "cell_type": "code",
   "execution_count": 6,
   "id": "a06c9724",
   "metadata": {
    "execution": {
     "iopub.execute_input": "2022-04-08T15:35:56.477854Z",
     "iopub.status.busy": "2022-04-08T15:35:56.477293Z",
     "iopub.status.idle": "2022-04-08T15:36:07.480341Z",
     "shell.execute_reply": "2022-04-08T15:36:07.480761Z",
     "shell.execute_reply.started": "2022-04-08T15:15:18.842813Z"
    },
    "papermill": {
     "duration": 11.027137,
     "end_time": "2022-04-08T15:36:07.480930",
     "exception": false,
     "start_time": "2022-04-08T15:35:56.453793",
     "status": "completed"
    },
    "tags": []
   },
   "outputs": [
    {
     "name": "stderr",
     "output_type": "stream",
     "text": [
      "Downloading: \"https://download.pytorch.org/models/resnext101_32x8d-8ba56ff5.pth\" to /root/.cache/torch/hub/checkpoints/resnext101_32x8d-8ba56ff5.pth\n"
     ]
    },
    {
     "data": {
      "text/plain": [
       "Linear(in_features=2048, out_features=1000, bias=True)"
      ]
     },
     "execution_count": 6,
     "metadata": {},
     "output_type": "execute_result"
    }
   ],
   "source": [
    "model = timm.create_model('resnext101_32x8d', pretrained=True)\n",
    "model.fc"
   ]
  },
  {
   "cell_type": "code",
   "execution_count": 7,
   "id": "50c16497",
   "metadata": {
    "execution": {
     "iopub.execute_input": "2022-04-08T15:36:07.524721Z",
     "iopub.status.busy": "2022-04-08T15:36:07.523996Z",
     "iopub.status.idle": "2022-04-08T15:36:10.777037Z",
     "shell.execute_reply": "2022-04-08T15:36:10.777687Z",
     "shell.execute_reply.started": "2022-04-08T15:15:28.576148Z"
    },
    "papermill": {
     "duration": 3.27853,
     "end_time": "2022-04-08T15:36:10.777840",
     "exception": false,
     "start_time": "2022-04-08T15:36:07.499310",
     "status": "completed"
    },
    "tags": []
   },
   "outputs": [
    {
     "name": "stdout",
     "output_type": "stream",
     "text": [
      "ResNeXt101-32x8d parameters:  89104197\n"
     ]
    }
   ],
   "source": [
    "from collections import OrderedDict\n",
    "\n",
    "fc = nn.Sequential(OrderedDict([\n",
    "    ('fc1', nn.Linear(2048, 1024)),\n",
    "    ('relu1', nn.ReLU(inplace=True)),\n",
    "    ('fc2', nn.Linear(1024, 256)),\n",
    "    ('relu2', nn.ReLU(inplace=True)),\n",
    "    ('fc3', nn.Linear(256, 5))\n",
    "]))\n",
    "\n",
    "model.fc = fc\n",
    "model = model.to(device)\n",
    "\n",
    "### Count model params\n",
    "for params in model.parameters():\n",
    "    params.requires_grad = True\n",
    "\n",
    "def count_params(model):\n",
    "    return sum(p.numel() for p in model.parameters() if p.requires_grad)\n",
    "\n",
    "print(\"ResNeXt101-32x8d parameters: \", count_params(model))"
   ]
  },
  {
   "cell_type": "markdown",
   "id": "1be899e9",
   "metadata": {
    "papermill": {
     "duration": 0.018152,
     "end_time": "2022-04-08T15:36:10.815046",
     "exception": false,
     "start_time": "2022-04-08T15:36:10.796894",
     "status": "completed"
    },
    "tags": []
   },
   "source": [
    "# 4. Training model"
   ]
  },
  {
   "cell_type": "code",
   "execution_count": 8,
   "id": "fc649b99",
   "metadata": {
    "execution": {
     "iopub.execute_input": "2022-04-08T15:36:10.860611Z",
     "iopub.status.busy": "2022-04-08T15:36:10.859144Z",
     "iopub.status.idle": "2022-04-08T15:36:10.861391Z",
     "shell.execute_reply": "2022-04-08T15:36:10.861793Z",
     "shell.execute_reply.started": "2022-04-08T15:15:31.728483Z"
    },
    "papermill": {
     "duration": 0.026931,
     "end_time": "2022-04-08T15:36:10.861934",
     "exception": false,
     "start_time": "2022-04-08T15:36:10.835003",
     "status": "completed"
    },
    "tags": []
   },
   "outputs": [],
   "source": [
    "criterion = LabelSmoothingCrossEntropy()\n",
    "optimizer = optim.SGD(model.parameters(), lr=0.01, momentum=0.9, weight_decay=0.0001)\n",
    "scheduler = optim.lr_scheduler.StepLR(optimizer, step_size=10, gamma=0.5)"
   ]
  },
  {
   "cell_type": "code",
   "execution_count": 9,
   "id": "5543d263",
   "metadata": {
    "execution": {
     "iopub.execute_input": "2022-04-08T15:36:10.912678Z",
     "iopub.status.busy": "2022-04-08T15:36:10.905925Z",
     "iopub.status.idle": "2022-04-08T15:36:10.914841Z",
     "shell.execute_reply": "2022-04-08T15:36:10.914440Z",
     "shell.execute_reply.started": "2022-04-08T15:15:31.741575Z"
    },
    "papermill": {
     "duration": 0.034812,
     "end_time": "2022-04-08T15:36:10.914971",
     "exception": false,
     "start_time": "2022-04-08T15:36:10.880159",
     "status": "completed"
    },
    "tags": []
   },
   "outputs": [],
   "source": [
    "def train_model(model, criterion, optimizer, scheduler, num_epochs=NUM_EPOCHS , path='model.pth'):\n",
    "    since = time.time()\n",
    "    best_model_wts = copy.deepcopy(model.state_dict())\n",
    "    best_loss = math.inf\n",
    "    best_acc = 0.\n",
    "\n",
    "    train_log = {'loss': [],\n",
    "                 'acc': []}\n",
    "    val_log = {'loss': [],\n",
    "              'acc': []}\n",
    "    \n",
    "    for epoch in range(num_epochs):\n",
    "        \n",
    "        print('-'*5, f'Epoch {epoch+1}/{num_epochs}', '-'*5)\n",
    "        \n",
    "        for phase in ['train', 'val']:\n",
    "            if phase == 'train':\n",
    "                model.train()\n",
    "            else:\n",
    "                model.eval()\n",
    "            \n",
    "            running_loss = 0.0\n",
    "            running_correct = 0\n",
    "            \n",
    "            for i, (inputs, labels) in tqdm(enumerate(data_loader[phase])):\n",
    "                inputs = inputs.to(device)\n",
    "                labels = labels.to(device)\n",
    "                \n",
    "                optimizer.zero_grad()\n",
    "                \n",
    "                with torch.set_grad_enabled(phase=='train'):\n",
    "                    outputs = model(inputs)\n",
    "                    _, preds = torch.max(outputs, 1)\n",
    "                    loss = criterion(outputs, labels)\n",
    "                    if phase=='train':\n",
    "                        loss.backward()\n",
    "                        optimizer.step()\n",
    "                \n",
    "                running_loss += loss.item()*inputs.size(0)\n",
    "                running_correct += torch.sum(preds==labels.data).item()\n",
    "                \n",
    "            epoch_loss = running_loss / dataset_sizes[phase]\n",
    "            epoch_acc = running_correct / dataset_sizes[phase]\n",
    "            print('{} loss: {:.4f} acc: {:.4f}'.format(phase, epoch_loss, epoch_acc))\n",
    "            \n",
    "            if phase == 'train':\n",
    "                scheduler.step()\n",
    "                train_log['loss'].append(epoch_loss)\n",
    "                train_log['acc'].append(epoch_acc)\n",
    "            else:\n",
    "                val_log['loss'].append(epoch_loss)\n",
    "                val_log['acc'].append(epoch_acc)\n",
    "                \n",
    "            if phase == 'val' and epoch_acc > best_acc:\n",
    "                print(f'New acc: {epoch_acc:.4f}, previous acc: {best_acc:.4f}')\n",
    "                best_loss = epoch_loss\n",
    "                best_acc = epoch_acc\n",
    "                best_model_wts = copy.deepcopy(model.state_dict())\n",
    "                torch.save(model.state_dict(), path)\n",
    "                \n",
    "    time_elapsed = time.time()-since\n",
    "    print('Training complete in: {:.0f}m {:.0f}s'.format(time_elapsed//60, time_elapsed%60))\n",
    "    print('Best val acc: {:.4f} Best val loss: {:.4f}'.format(best_acc, best_loss))\n",
    "    \n",
    "    model.load_state_dict(best_model_wts)\n",
    "    return model, train_log, val_log"
   ]
  },
  {
   "cell_type": "code",
   "execution_count": 10,
   "id": "f11e8c73",
   "metadata": {
    "execution": {
     "iopub.execute_input": "2022-04-08T15:36:10.955206Z",
     "iopub.status.busy": "2022-04-08T15:36:10.954420Z",
     "iopub.status.idle": "2022-04-08T22:30:45.233548Z",
     "shell.execute_reply": "2022-04-08T22:30:45.103214Z",
     "shell.execute_reply.started": "2022-04-08T15:16:04.916879Z"
    },
    "papermill": {
     "duration": 24874.300516,
     "end_time": "2022-04-08T22:30:45.233692",
     "exception": false,
     "start_time": "2022-04-08T15:36:10.933176",
     "status": "completed"
    },
    "tags": []
   },
   "outputs": [
    {
     "name": "stdout",
     "output_type": "stream",
     "text": [
      "----- Epoch 1/50 -----\n"
     ]
    },
    {
     "name": "stderr",
     "output_type": "stream",
     "text": [
      "1114it [07:55,  2.35it/s]"
     ]
    },
    {
     "name": "stdout",
     "output_type": "stream",
     "text": [
      "train loss: 1.0532 acc: 0.6541\n"
     ]
    },
    {
     "name": "stderr",
     "output_type": "stream",
     "text": [
      "\n",
      "140it [00:29,  4.74it/s]\n"
     ]
    },
    {
     "name": "stdout",
     "output_type": "stream",
     "text": [
      "val loss: 0.7519 acc: 0.8177\n",
      "New acc: 0.8177, previous acc: 0.0000\n",
      "----- Epoch 2/50 -----\n"
     ]
    },
    {
     "name": "stderr",
     "output_type": "stream",
     "text": [
      "1114it [07:48,  2.38it/s]"
     ]
    },
    {
     "name": "stdout",
     "output_type": "stream",
     "text": [
      "train loss: 0.9180 acc: 0.7283\n"
     ]
    },
    {
     "name": "stderr",
     "output_type": "stream",
     "text": [
      "\n",
      "140it [00:24,  5.62it/s]"
     ]
    },
    {
     "name": "stdout",
     "output_type": "stream",
     "text": [
      "val loss: 0.9015 acc: 0.7970\n",
      "----- Epoch 3/50 -----\n"
     ]
    },
    {
     "name": "stderr",
     "output_type": "stream",
     "text": [
      "\n",
      "1114it [07:44,  2.40it/s]"
     ]
    },
    {
     "name": "stdout",
     "output_type": "stream",
     "text": [
      "train loss: 0.8734 acc: 0.7525\n"
     ]
    },
    {
     "name": "stderr",
     "output_type": "stream",
     "text": [
      "\n",
      "140it [00:25,  5.54it/s]\n"
     ]
    },
    {
     "name": "stdout",
     "output_type": "stream",
     "text": [
      "val loss: 0.7031 acc: 0.8572\n",
      "New acc: 0.8572, previous acc: 0.8177\n",
      "----- Epoch 4/50 -----\n"
     ]
    },
    {
     "name": "stderr",
     "output_type": "stream",
     "text": [
      "1114it [07:47,  2.38it/s]"
     ]
    },
    {
     "name": "stdout",
     "output_type": "stream",
     "text": [
      "train loss: 0.8468 acc: 0.7656\n"
     ]
    },
    {
     "name": "stderr",
     "output_type": "stream",
     "text": [
      "\n",
      "140it [00:26,  5.38it/s]"
     ]
    },
    {
     "name": "stdout",
     "output_type": "stream",
     "text": [
      "val loss: 0.6785 acc: 0.8563\n",
      "----- Epoch 5/50 -----\n"
     ]
    },
    {
     "name": "stderr",
     "output_type": "stream",
     "text": [
      "\n",
      "1114it [07:52,  2.36it/s]"
     ]
    },
    {
     "name": "stdout",
     "output_type": "stream",
     "text": [
      "train loss: 0.8176 acc: 0.7807\n"
     ]
    },
    {
     "name": "stderr",
     "output_type": "stream",
     "text": [
      "\n",
      "140it [00:26,  5.26it/s]\n"
     ]
    },
    {
     "name": "stdout",
     "output_type": "stream",
     "text": [
      "val loss: 0.6913 acc: 0.8662\n",
      "New acc: 0.8662, previous acc: 0.8572\n",
      "----- Epoch 6/50 -----\n"
     ]
    },
    {
     "name": "stderr",
     "output_type": "stream",
     "text": [
      "1114it [07:52,  2.36it/s]"
     ]
    },
    {
     "name": "stdout",
     "output_type": "stream",
     "text": [
      "train loss: 0.8060 acc: 0.7885\n"
     ]
    },
    {
     "name": "stderr",
     "output_type": "stream",
     "text": [
      "\n",
      "140it [00:26,  5.32it/s]\n"
     ]
    },
    {
     "name": "stdout",
     "output_type": "stream",
     "text": [
      "val loss: 0.6168 acc: 0.8927\n",
      "New acc: 0.8927, previous acc: 0.8662\n",
      "----- Epoch 7/50 -----\n"
     ]
    },
    {
     "name": "stderr",
     "output_type": "stream",
     "text": [
      "1114it [07:49,  2.37it/s]"
     ]
    },
    {
     "name": "stdout",
     "output_type": "stream",
     "text": [
      "train loss: 0.7920 acc: 0.7931\n"
     ]
    },
    {
     "name": "stderr",
     "output_type": "stream",
     "text": [
      "\n",
      "140it [00:25,  5.58it/s]"
     ]
    },
    {
     "name": "stdout",
     "output_type": "stream",
     "text": [
      "val loss: 0.6403 acc: 0.8824\n",
      "----- Epoch 8/50 -----\n"
     ]
    },
    {
     "name": "stderr",
     "output_type": "stream",
     "text": [
      "\n",
      "1114it [07:50,  2.37it/s]"
     ]
    },
    {
     "name": "stdout",
     "output_type": "stream",
     "text": [
      "train loss: 0.7740 acc: 0.8036\n"
     ]
    },
    {
     "name": "stderr",
     "output_type": "stream",
     "text": [
      "\n",
      "140it [00:26,  5.19it/s]"
     ]
    },
    {
     "name": "stdout",
     "output_type": "stream",
     "text": [
      "val loss: 0.7025 acc: 0.8550\n",
      "----- Epoch 9/50 -----\n"
     ]
    },
    {
     "name": "stderr",
     "output_type": "stream",
     "text": [
      "\n",
      "1114it [07:50,  2.37it/s]"
     ]
    },
    {
     "name": "stdout",
     "output_type": "stream",
     "text": [
      "train loss: 0.7618 acc: 0.8113\n"
     ]
    },
    {
     "name": "stderr",
     "output_type": "stream",
     "text": [
      "\n",
      "140it [00:27,  5.14it/s]\n"
     ]
    },
    {
     "name": "stdout",
     "output_type": "stream",
     "text": [
      "val loss: 0.5768 acc: 0.9138\n",
      "New acc: 0.9138, previous acc: 0.8927\n",
      "----- Epoch 10/50 -----\n"
     ]
    },
    {
     "name": "stderr",
     "output_type": "stream",
     "text": [
      "1114it [07:43,  2.40it/s]"
     ]
    },
    {
     "name": "stdout",
     "output_type": "stream",
     "text": [
      "train loss: 0.7568 acc: 0.8114\n"
     ]
    },
    {
     "name": "stderr",
     "output_type": "stream",
     "text": [
      "\n",
      "140it [00:27,  5.03it/s]"
     ]
    },
    {
     "name": "stdout",
     "output_type": "stream",
     "text": [
      "val loss: 0.6326 acc: 0.8801\n",
      "----- Epoch 11/50 -----\n"
     ]
    },
    {
     "name": "stderr",
     "output_type": "stream",
     "text": [
      "\n",
      "1114it [07:48,  2.38it/s]"
     ]
    },
    {
     "name": "stdout",
     "output_type": "stream",
     "text": [
      "train loss: 0.6979 acc: 0.8442\n"
     ]
    },
    {
     "name": "stderr",
     "output_type": "stream",
     "text": [
      "\n",
      "140it [00:28,  4.91it/s]"
     ]
    },
    {
     "name": "stdout",
     "output_type": "stream",
     "text": [
      "val loss: 0.6090 acc: 0.9039\n",
      "----- Epoch 12/50 -----\n"
     ]
    },
    {
     "name": "stderr",
     "output_type": "stream",
     "text": [
      "\n",
      "1114it [07:48,  2.38it/s]"
     ]
    },
    {
     "name": "stdout",
     "output_type": "stream",
     "text": [
      "train loss: 0.6887 acc: 0.8517\n"
     ]
    },
    {
     "name": "stderr",
     "output_type": "stream",
     "text": [
      "\n",
      "140it [00:25,  5.44it/s]\n"
     ]
    },
    {
     "name": "stdout",
     "output_type": "stream",
     "text": [
      "val loss: 0.5639 acc: 0.9201\n",
      "New acc: 0.9201, previous acc: 0.9138\n",
      "----- Epoch 13/50 -----\n"
     ]
    },
    {
     "name": "stderr",
     "output_type": "stream",
     "text": [
      "1114it [07:51,  2.36it/s]"
     ]
    },
    {
     "name": "stdout",
     "output_type": "stream",
     "text": [
      "train loss: 0.6779 acc: 0.8529\n"
     ]
    },
    {
     "name": "stderr",
     "output_type": "stream",
     "text": [
      "\n",
      "140it [00:24,  5.62it/s]"
     ]
    },
    {
     "name": "stdout",
     "output_type": "stream",
     "text": [
      "val loss: 0.5648 acc: 0.9178\n",
      "----- Epoch 14/50 -----\n"
     ]
    },
    {
     "name": "stderr",
     "output_type": "stream",
     "text": [
      "\n",
      "1114it [07:48,  2.38it/s]"
     ]
    },
    {
     "name": "stdout",
     "output_type": "stream",
     "text": [
      "train loss: 0.6751 acc: 0.8559\n"
     ]
    },
    {
     "name": "stderr",
     "output_type": "stream",
     "text": [
      "\n",
      "140it [00:25,  5.56it/s]"
     ]
    },
    {
     "name": "stdout",
     "output_type": "stream",
     "text": [
      "val loss: 0.6041 acc: 0.9017\n",
      "----- Epoch 15/50 -----\n"
     ]
    },
    {
     "name": "stderr",
     "output_type": "stream",
     "text": [
      "\n",
      "1114it [07:47,  2.38it/s]"
     ]
    },
    {
     "name": "stdout",
     "output_type": "stream",
     "text": [
      "train loss: 0.6672 acc: 0.8581\n"
     ]
    },
    {
     "name": "stderr",
     "output_type": "stream",
     "text": [
      "\n",
      "140it [00:25,  5.50it/s]\n"
     ]
    },
    {
     "name": "stdout",
     "output_type": "stream",
     "text": [
      "val loss: 0.5504 acc: 0.9223\n",
      "New acc: 0.9223, previous acc: 0.9201\n",
      "----- Epoch 16/50 -----\n"
     ]
    },
    {
     "name": "stderr",
     "output_type": "stream",
     "text": [
      "1114it [07:47,  2.38it/s]"
     ]
    },
    {
     "name": "stdout",
     "output_type": "stream",
     "text": [
      "train loss: 0.6685 acc: 0.8572\n"
     ]
    },
    {
     "name": "stderr",
     "output_type": "stream",
     "text": [
      "\n",
      "140it [00:25,  5.57it/s]\n"
     ]
    },
    {
     "name": "stdout",
     "output_type": "stream",
     "text": [
      "val loss: 0.5467 acc: 0.9246\n",
      "New acc: 0.9246, previous acc: 0.9223\n",
      "----- Epoch 17/50 -----\n"
     ]
    },
    {
     "name": "stderr",
     "output_type": "stream",
     "text": [
      "1114it [07:55,  2.34it/s]"
     ]
    },
    {
     "name": "stdout",
     "output_type": "stream",
     "text": [
      "train loss: 0.6664 acc: 0.8606\n"
     ]
    },
    {
     "name": "stderr",
     "output_type": "stream",
     "text": [
      "\n",
      "140it [00:25,  5.41it/s]"
     ]
    },
    {
     "name": "stdout",
     "output_type": "stream",
     "text": [
      "val loss: 0.6097 acc: 0.9012\n",
      "----- Epoch 18/50 -----\n"
     ]
    },
    {
     "name": "stderr",
     "output_type": "stream",
     "text": [
      "\n",
      "1114it [07:50,  2.37it/s]"
     ]
    },
    {
     "name": "stdout",
     "output_type": "stream",
     "text": [
      "train loss: 0.6625 acc: 0.8613\n"
     ]
    },
    {
     "name": "stderr",
     "output_type": "stream",
     "text": [
      "\n",
      "140it [00:27,  5.05it/s]"
     ]
    },
    {
     "name": "stdout",
     "output_type": "stream",
     "text": [
      "val loss: 0.5818 acc: 0.9124\n",
      "----- Epoch 19/50 -----\n"
     ]
    },
    {
     "name": "stderr",
     "output_type": "stream",
     "text": [
      "\n",
      "1114it [07:51,  2.36it/s]"
     ]
    },
    {
     "name": "stdout",
     "output_type": "stream",
     "text": [
      "train loss: 0.6613 acc: 0.8645\n"
     ]
    },
    {
     "name": "stderr",
     "output_type": "stream",
     "text": [
      "\n",
      "140it [00:25,  5.51it/s]"
     ]
    },
    {
     "name": "stdout",
     "output_type": "stream",
     "text": [
      "val loss: 0.5679 acc: 0.9205\n",
      "----- Epoch 20/50 -----\n"
     ]
    },
    {
     "name": "stderr",
     "output_type": "stream",
     "text": [
      "\n",
      "1114it [07:51,  2.36it/s]"
     ]
    },
    {
     "name": "stdout",
     "output_type": "stream",
     "text": [
      "train loss: 0.6617 acc: 0.8623\n"
     ]
    },
    {
     "name": "stderr",
     "output_type": "stream",
     "text": [
      "\n",
      "140it [00:30,  4.66it/s]"
     ]
    },
    {
     "name": "stdout",
     "output_type": "stream",
     "text": [
      "val loss: 0.5501 acc: 0.9223\n",
      "----- Epoch 21/50 -----\n"
     ]
    },
    {
     "name": "stderr",
     "output_type": "stream",
     "text": [
      "\n",
      "1114it [07:48,  2.38it/s]"
     ]
    },
    {
     "name": "stdout",
     "output_type": "stream",
     "text": [
      "train loss: 0.6271 acc: 0.8809\n"
     ]
    },
    {
     "name": "stderr",
     "output_type": "stream",
     "text": [
      "\n",
      "140it [00:24,  5.64it/s]\n"
     ]
    },
    {
     "name": "stdout",
     "output_type": "stream",
     "text": [
      "val loss: 0.5231 acc: 0.9380\n",
      "New acc: 0.9380, previous acc: 0.9246\n",
      "----- Epoch 22/50 -----\n"
     ]
    },
    {
     "name": "stderr",
     "output_type": "stream",
     "text": [
      "1114it [07:53,  2.35it/s]"
     ]
    },
    {
     "name": "stdout",
     "output_type": "stream",
     "text": [
      "train loss: 0.6148 acc: 0.8874\n"
     ]
    },
    {
     "name": "stderr",
     "output_type": "stream",
     "text": [
      "\n",
      "140it [00:26,  5.20it/s]\n"
     ]
    },
    {
     "name": "stdout",
     "output_type": "stream",
     "text": [
      "val loss: 0.5324 acc: 0.9385\n",
      "New acc: 0.9385, previous acc: 0.9380\n",
      "----- Epoch 23/50 -----\n"
     ]
    },
    {
     "name": "stderr",
     "output_type": "stream",
     "text": [
      "1114it [07:57,  2.33it/s]"
     ]
    },
    {
     "name": "stdout",
     "output_type": "stream",
     "text": [
      "train loss: 0.6124 acc: 0.8879\n"
     ]
    },
    {
     "name": "stderr",
     "output_type": "stream",
     "text": [
      "\n",
      "140it [00:24,  5.61it/s]\n"
     ]
    },
    {
     "name": "stdout",
     "output_type": "stream",
     "text": [
      "val loss: 0.5168 acc: 0.9403\n",
      "New acc: 0.9403, previous acc: 0.9385\n",
      "----- Epoch 24/50 -----\n"
     ]
    },
    {
     "name": "stderr",
     "output_type": "stream",
     "text": [
      "1114it [07:50,  2.37it/s]"
     ]
    },
    {
     "name": "stdout",
     "output_type": "stream",
     "text": [
      "train loss: 0.6112 acc: 0.8876\n"
     ]
    },
    {
     "name": "stderr",
     "output_type": "stream",
     "text": [
      "\n",
      "140it [00:25,  5.51it/s]"
     ]
    },
    {
     "name": "stdout",
     "output_type": "stream",
     "text": [
      "val loss: 0.5211 acc: 0.9403\n",
      "----- Epoch 25/50 -----\n"
     ]
    },
    {
     "name": "stderr",
     "output_type": "stream",
     "text": [
      "\n",
      "1114it [07:51,  2.36it/s]"
     ]
    },
    {
     "name": "stdout",
     "output_type": "stream",
     "text": [
      "train loss: 0.6105 acc: 0.8865\n"
     ]
    },
    {
     "name": "stderr",
     "output_type": "stream",
     "text": [
      "\n",
      "140it [00:28,  4.87it/s]\n"
     ]
    },
    {
     "name": "stdout",
     "output_type": "stream",
     "text": [
      "val loss: 0.5124 acc: 0.9407\n",
      "New acc: 0.9407, previous acc: 0.9403\n",
      "----- Epoch 26/50 -----\n"
     ]
    },
    {
     "name": "stderr",
     "output_type": "stream",
     "text": [
      "1114it [07:51,  2.36it/s]"
     ]
    },
    {
     "name": "stdout",
     "output_type": "stream",
     "text": [
      "train loss: 0.6064 acc: 0.8917\n"
     ]
    },
    {
     "name": "stderr",
     "output_type": "stream",
     "text": [
      "\n",
      "140it [00:25,  5.52it/s]"
     ]
    },
    {
     "name": "stdout",
     "output_type": "stream",
     "text": [
      "val loss: 0.5502 acc: 0.9282\n",
      "----- Epoch 27/50 -----\n"
     ]
    },
    {
     "name": "stderr",
     "output_type": "stream",
     "text": [
      "\n",
      "1114it [07:50,  2.37it/s]"
     ]
    },
    {
     "name": "stdout",
     "output_type": "stream",
     "text": [
      "train loss: 0.6033 acc: 0.8921\n"
     ]
    },
    {
     "name": "stderr",
     "output_type": "stream",
     "text": [
      "\n",
      "140it [00:26,  5.36it/s]\n"
     ]
    },
    {
     "name": "stdout",
     "output_type": "stream",
     "text": [
      "val loss: 0.5040 acc: 0.9448\n",
      "New acc: 0.9448, previous acc: 0.9407\n",
      "----- Epoch 28/50 -----\n"
     ]
    },
    {
     "name": "stderr",
     "output_type": "stream",
     "text": [
      "1114it [07:51,  2.36it/s]"
     ]
    },
    {
     "name": "stdout",
     "output_type": "stream",
     "text": [
      "train loss: 0.6026 acc: 0.8927\n"
     ]
    },
    {
     "name": "stderr",
     "output_type": "stream",
     "text": [
      "\n",
      "140it [00:25,  5.59it/s]"
     ]
    },
    {
     "name": "stdout",
     "output_type": "stream",
     "text": [
      "val loss: 0.5127 acc: 0.9385\n",
      "----- Epoch 29/50 -----\n"
     ]
    },
    {
     "name": "stderr",
     "output_type": "stream",
     "text": [
      "\n",
      "1114it [07:46,  2.39it/s]"
     ]
    },
    {
     "name": "stdout",
     "output_type": "stream",
     "text": [
      "train loss: 0.5995 acc: 0.8937\n"
     ]
    },
    {
     "name": "stderr",
     "output_type": "stream",
     "text": [
      "\n",
      "140it [00:24,  5.73it/s]"
     ]
    },
    {
     "name": "stdout",
     "output_type": "stream",
     "text": [
      "val loss: 0.5062 acc: 0.9439\n",
      "----- Epoch 30/50 -----\n"
     ]
    },
    {
     "name": "stderr",
     "output_type": "stream",
     "text": [
      "\n",
      "1114it [07:50,  2.37it/s]"
     ]
    },
    {
     "name": "stdout",
     "output_type": "stream",
     "text": [
      "train loss: 0.6012 acc: 0.8924\n"
     ]
    },
    {
     "name": "stderr",
     "output_type": "stream",
     "text": [
      "\n",
      "140it [00:32,  4.25it/s]\n"
     ]
    },
    {
     "name": "stdout",
     "output_type": "stream",
     "text": [
      "val loss: 0.5138 acc: 0.9461\n",
      "New acc: 0.9461, previous acc: 0.9448\n",
      "----- Epoch 31/50 -----\n"
     ]
    },
    {
     "name": "stderr",
     "output_type": "stream",
     "text": [
      "1114it [07:45,  2.39it/s]"
     ]
    },
    {
     "name": "stdout",
     "output_type": "stream",
     "text": [
      "train loss: 0.5832 acc: 0.9005\n"
     ]
    },
    {
     "name": "stderr",
     "output_type": "stream",
     "text": [
      "\n",
      "140it [00:24,  5.67it/s]"
     ]
    },
    {
     "name": "stdout",
     "output_type": "stream",
     "text": [
      "val loss: 0.5128 acc: 0.9385\n",
      "----- Epoch 32/50 -----\n"
     ]
    },
    {
     "name": "stderr",
     "output_type": "stream",
     "text": [
      "\n",
      "1114it [07:47,  2.38it/s]"
     ]
    },
    {
     "name": "stdout",
     "output_type": "stream",
     "text": [
      "train loss: 0.5785 acc: 0.9054\n"
     ]
    },
    {
     "name": "stderr",
     "output_type": "stream",
     "text": [
      "\n",
      "140it [00:24,  5.62it/s]\n"
     ]
    },
    {
     "name": "stdout",
     "output_type": "stream",
     "text": [
      "val loss: 0.5083 acc: 0.9493\n",
      "New acc: 0.9493, previous acc: 0.9461\n",
      "----- Epoch 33/50 -----\n"
     ]
    },
    {
     "name": "stderr",
     "output_type": "stream",
     "text": [
      "1114it [07:50,  2.37it/s]"
     ]
    },
    {
     "name": "stdout",
     "output_type": "stream",
     "text": [
      "train loss: 0.5748 acc: 0.9067\n"
     ]
    },
    {
     "name": "stderr",
     "output_type": "stream",
     "text": [
      "\n",
      "140it [00:24,  5.68it/s]"
     ]
    },
    {
     "name": "stdout",
     "output_type": "stream",
     "text": [
      "val loss: 0.5048 acc: 0.9493\n",
      "----- Epoch 34/50 -----\n"
     ]
    },
    {
     "name": "stderr",
     "output_type": "stream",
     "text": [
      "\n",
      "1114it [07:48,  2.38it/s]"
     ]
    },
    {
     "name": "stdout",
     "output_type": "stream",
     "text": [
      "train loss: 0.5700 acc: 0.9087\n"
     ]
    },
    {
     "name": "stderr",
     "output_type": "stream",
     "text": [
      "\n",
      "140it [00:24,  5.62it/s]"
     ]
    },
    {
     "name": "stdout",
     "output_type": "stream",
     "text": [
      "val loss: 0.5071 acc: 0.9407\n",
      "----- Epoch 35/50 -----\n"
     ]
    },
    {
     "name": "stderr",
     "output_type": "stream",
     "text": [
      "\n",
      "1114it [07:49,  2.37it/s]"
     ]
    },
    {
     "name": "stdout",
     "output_type": "stream",
     "text": [
      "train loss: 0.5651 acc: 0.9119\n"
     ]
    },
    {
     "name": "stderr",
     "output_type": "stream",
     "text": [
      "\n",
      "140it [00:30,  4.53it/s]\n"
     ]
    },
    {
     "name": "stdout",
     "output_type": "stream",
     "text": [
      "val loss: 0.5019 acc: 0.9502\n",
      "New acc: 0.9502, previous acc: 0.9493\n",
      "----- Epoch 36/50 -----\n"
     ]
    },
    {
     "name": "stderr",
     "output_type": "stream",
     "text": [
      "1114it [07:48,  2.38it/s]"
     ]
    },
    {
     "name": "stdout",
     "output_type": "stream",
     "text": [
      "train loss: 0.5714 acc: 0.9080\n"
     ]
    },
    {
     "name": "stderr",
     "output_type": "stream",
     "text": [
      "\n",
      "140it [00:25,  5.54it/s]"
     ]
    },
    {
     "name": "stdout",
     "output_type": "stream",
     "text": [
      "val loss: 0.5104 acc: 0.9434\n",
      "----- Epoch 37/50 -----\n"
     ]
    },
    {
     "name": "stderr",
     "output_type": "stream",
     "text": [
      "\n",
      "1114it [07:50,  2.37it/s]"
     ]
    },
    {
     "name": "stdout",
     "output_type": "stream",
     "text": [
      "train loss: 0.5659 acc: 0.9106\n"
     ]
    },
    {
     "name": "stderr",
     "output_type": "stream",
     "text": [
      "\n",
      "140it [00:24,  5.72it/s]"
     ]
    },
    {
     "name": "stdout",
     "output_type": "stream",
     "text": [
      "val loss: 0.5099 acc: 0.9434\n",
      "----- Epoch 38/50 -----\n"
     ]
    },
    {
     "name": "stderr",
     "output_type": "stream",
     "text": [
      "\n",
      "1114it [07:50,  2.37it/s]"
     ]
    },
    {
     "name": "stdout",
     "output_type": "stream",
     "text": [
      "train loss: 0.5655 acc: 0.9115\n"
     ]
    },
    {
     "name": "stderr",
     "output_type": "stream",
     "text": [
      "\n",
      "140it [00:25,  5.55it/s]"
     ]
    },
    {
     "name": "stdout",
     "output_type": "stream",
     "text": [
      "val loss: 0.5139 acc: 0.9425\n",
      "----- Epoch 39/50 -----\n"
     ]
    },
    {
     "name": "stderr",
     "output_type": "stream",
     "text": [
      "\n",
      "1114it [07:49,  2.37it/s]"
     ]
    },
    {
     "name": "stdout",
     "output_type": "stream",
     "text": [
      "train loss: 0.5677 acc: 0.9093\n"
     ]
    },
    {
     "name": "stderr",
     "output_type": "stream",
     "text": [
      "\n",
      "140it [00:30,  4.60it/s]"
     ]
    },
    {
     "name": "stdout",
     "output_type": "stream",
     "text": [
      "val loss: 0.5144 acc: 0.9416\n",
      "----- Epoch 40/50 -----\n"
     ]
    },
    {
     "name": "stderr",
     "output_type": "stream",
     "text": [
      "\n",
      "1114it [07:45,  2.39it/s]"
     ]
    },
    {
     "name": "stdout",
     "output_type": "stream",
     "text": [
      "train loss: 0.5651 acc: 0.9114\n"
     ]
    },
    {
     "name": "stderr",
     "output_type": "stream",
     "text": [
      "\n",
      "140it [00:25,  5.58it/s]"
     ]
    },
    {
     "name": "stdout",
     "output_type": "stream",
     "text": [
      "val loss: 0.5230 acc: 0.9385\n",
      "----- Epoch 41/50 -----\n"
     ]
    },
    {
     "name": "stderr",
     "output_type": "stream",
     "text": [
      "\n",
      "1114it [07:57,  2.33it/s]"
     ]
    },
    {
     "name": "stdout",
     "output_type": "stream",
     "text": [
      "train loss: 0.5518 acc: 0.9181\n"
     ]
    },
    {
     "name": "stderr",
     "output_type": "stream",
     "text": [
      "\n",
      "140it [00:25,  5.53it/s]\n"
     ]
    },
    {
     "name": "stdout",
     "output_type": "stream",
     "text": [
      "val loss: 0.4970 acc: 0.9542\n",
      "New acc: 0.9542, previous acc: 0.9502\n",
      "----- Epoch 42/50 -----\n"
     ]
    },
    {
     "name": "stderr",
     "output_type": "stream",
     "text": [
      "1114it [07:51,  2.36it/s]"
     ]
    },
    {
     "name": "stdout",
     "output_type": "stream",
     "text": [
      "train loss: 0.5528 acc: 0.9183\n"
     ]
    },
    {
     "name": "stderr",
     "output_type": "stream",
     "text": [
      "\n",
      "140it [00:24,  5.75it/s]"
     ]
    },
    {
     "name": "stdout",
     "output_type": "stream",
     "text": [
      "val loss: 0.4966 acc: 0.9497\n",
      "----- Epoch 43/50 -----\n"
     ]
    },
    {
     "name": "stderr",
     "output_type": "stream",
     "text": [
      "\n",
      "1114it [07:52,  2.36it/s]"
     ]
    },
    {
     "name": "stdout",
     "output_type": "stream",
     "text": [
      "train loss: 0.5500 acc: 0.9199\n"
     ]
    },
    {
     "name": "stderr",
     "output_type": "stream",
     "text": [
      "\n",
      "140it [00:32,  4.29it/s]"
     ]
    },
    {
     "name": "stdout",
     "output_type": "stream",
     "text": [
      "val loss: 0.5024 acc: 0.9520\n",
      "----- Epoch 44/50 -----\n"
     ]
    },
    {
     "name": "stderr",
     "output_type": "stream",
     "text": [
      "\n",
      "1114it [07:48,  2.38it/s]"
     ]
    },
    {
     "name": "stdout",
     "output_type": "stream",
     "text": [
      "train loss: 0.5505 acc: 0.9213\n"
     ]
    },
    {
     "name": "stderr",
     "output_type": "stream",
     "text": [
      "\n",
      "140it [00:25,  5.59it/s]"
     ]
    },
    {
     "name": "stdout",
     "output_type": "stream",
     "text": [
      "val loss: 0.4976 acc: 0.9497\n",
      "----- Epoch 45/50 -----\n"
     ]
    },
    {
     "name": "stderr",
     "output_type": "stream",
     "text": [
      "\n",
      "1114it [07:55,  2.34it/s]"
     ]
    },
    {
     "name": "stdout",
     "output_type": "stream",
     "text": [
      "train loss: 0.5459 acc: 0.9227\n"
     ]
    },
    {
     "name": "stderr",
     "output_type": "stream",
     "text": [
      "\n",
      "140it [00:25,  5.48it/s]"
     ]
    },
    {
     "name": "stdout",
     "output_type": "stream",
     "text": [
      "val loss: 0.5076 acc: 0.9466\n",
      "----- Epoch 46/50 -----\n"
     ]
    },
    {
     "name": "stderr",
     "output_type": "stream",
     "text": [
      "\n",
      "1114it [07:52,  2.36it/s]"
     ]
    },
    {
     "name": "stdout",
     "output_type": "stream",
     "text": [
      "train loss: 0.5442 acc: 0.9239\n"
     ]
    },
    {
     "name": "stderr",
     "output_type": "stream",
     "text": [
      "\n",
      "140it [00:24,  5.73it/s]"
     ]
    },
    {
     "name": "stdout",
     "output_type": "stream",
     "text": [
      "val loss: 0.4977 acc: 0.9484\n",
      "----- Epoch 47/50 -----\n"
     ]
    },
    {
     "name": "stderr",
     "output_type": "stream",
     "text": [
      "\n",
      "1114it [07:49,  2.37it/s]"
     ]
    },
    {
     "name": "stdout",
     "output_type": "stream",
     "text": [
      "train loss: 0.5436 acc: 0.9231\n"
     ]
    },
    {
     "name": "stderr",
     "output_type": "stream",
     "text": [
      "\n",
      "140it [00:26,  5.21it/s]"
     ]
    },
    {
     "name": "stdout",
     "output_type": "stream",
     "text": [
      "val loss: 0.5036 acc: 0.9479\n",
      "----- Epoch 48/50 -----\n"
     ]
    },
    {
     "name": "stderr",
     "output_type": "stream",
     "text": [
      "\n",
      "1114it [07:53,  2.35it/s]"
     ]
    },
    {
     "name": "stdout",
     "output_type": "stream",
     "text": [
      "train loss: 0.5408 acc: 0.9253\n"
     ]
    },
    {
     "name": "stderr",
     "output_type": "stream",
     "text": [
      "\n",
      "140it [00:25,  5.58it/s]"
     ]
    },
    {
     "name": "stdout",
     "output_type": "stream",
     "text": [
      "val loss: 0.4990 acc: 0.9488\n",
      "----- Epoch 49/50 -----\n"
     ]
    },
    {
     "name": "stderr",
     "output_type": "stream",
     "text": [
      "\n",
      "1114it [07:56,  2.34it/s]"
     ]
    },
    {
     "name": "stdout",
     "output_type": "stream",
     "text": [
      "train loss: 0.5411 acc: 0.9238\n"
     ]
    },
    {
     "name": "stderr",
     "output_type": "stream",
     "text": [
      "\n",
      "140it [00:24,  5.69it/s]"
     ]
    },
    {
     "name": "stdout",
     "output_type": "stream",
     "text": [
      "val loss: 0.4942 acc: 0.9533\n",
      "----- Epoch 50/50 -----\n"
     ]
    },
    {
     "name": "stderr",
     "output_type": "stream",
     "text": [
      "\n",
      "1114it [07:49,  2.37it/s]"
     ]
    },
    {
     "name": "stdout",
     "output_type": "stream",
     "text": [
      "train loss: 0.5425 acc: 0.9228\n"
     ]
    },
    {
     "name": "stderr",
     "output_type": "stream",
     "text": [
      "\n",
      "140it [00:33,  4.23it/s]"
     ]
    },
    {
     "name": "stdout",
     "output_type": "stream",
     "text": [
      "val loss: 0.5109 acc: 0.9443\n",
      "Training complete in: 414m 28s\n",
      "Best val acc: 0.9542 Best val loss: 0.4970\n"
     ]
    },
    {
     "name": "stderr",
     "output_type": "stream",
     "text": [
      "\n"
     ]
    }
   ],
   "source": [
    "model, train_log, val_log = train_model(model, criterion, optimizer, scheduler)"
   ]
  },
  {
   "cell_type": "markdown",
   "id": "bf419683",
   "metadata": {
    "papermill": {
     "duration": 20.046418,
     "end_time": "2022-04-08T22:31:25.941578",
     "exception": false,
     "start_time": "2022-04-08T22:31:05.895160",
     "status": "completed"
    },
    "tags": []
   },
   "source": [
    "# 5. Plot loss and accuracy"
   ]
  },
  {
   "cell_type": "code",
   "execution_count": 11,
   "id": "3c5529ee",
   "metadata": {
    "execution": {
     "iopub.execute_input": "2022-04-08T22:32:07.158683Z",
     "iopub.status.busy": "2022-04-08T22:32:07.157810Z",
     "iopub.status.idle": "2022-04-08T22:32:07.509098Z",
     "shell.execute_reply": "2022-04-08T22:32:07.508606Z",
     "shell.execute_reply.started": "2022-04-08T15:19:20.290742Z"
    },
    "papermill": {
     "duration": 20.899188,
     "end_time": "2022-04-08T22:32:07.509275",
     "exception": false,
     "start_time": "2022-04-08T22:31:46.610087",
     "status": "completed"
    },
    "tags": []
   },
   "outputs": [
    {
     "data": {
      "image/png": "[encoded data removed]",
      "text/plain": [
       "<Figure size 720x360 with 2 Axes>"
      ]
     },
     "metadata": {
      "needs_background": "light"
     },
     "output_type": "display_data"
    }
   ],
   "source": [
    "def plot_model_history(train_log, val_log, num_epochs):\n",
    "    n = len(train_log)\n",
    "    x = np.arange(num_epochs)\n",
    "    fig = plt.figure(figsize=(10, 5))\n",
    "    plt.title(\"Training progress\", fontsize=15)\n",
    "    for i, k in enumerate(train_log.keys()):       \n",
    "        plt.subplot(n//2, 2, i+1)\n",
    "        plt.plot(x, train_log[k], label=f'train_{k}', lw=3, c=\"b\")\n",
    "        plt.plot(x, val_log[k], label=f'val_{k}', lw=3, c=\"r\")\n",
    "        plt.legend(fontsize=12)\n",
    "        plt.xlabel(\"Epoch\", fontsize=15)\n",
    "        plt.ylabel(f\"{k}\", fontsize=15)\n",
    "    plt.show()\n",
    "    \n",
    "plot_model_history(train_log, val_log, NUM_EPOCHS)"
   ]
  },
  {
   "cell_type": "markdown",
   "id": "9121be80",
   "metadata": {
    "papermill": {
     "duration": 20.666795,
     "end_time": "2022-04-08T22:32:48.585270",
     "exception": false,
     "start_time": "2022-04-08T22:32:27.918475",
     "status": "completed"
    },
    "tags": []
   },
   "source": [
    "# 6. Prediction on Test set"
   ]
  },
  {
   "cell_type": "code",
   "execution_count": 12,
   "id": "0bd1dbe4",
   "metadata": {
    "execution": {
     "iopub.execute_input": "2022-04-08T22:33:28.854539Z",
     "iopub.status.busy": "2022-04-08T22:33:28.853695Z",
     "iopub.status.idle": "2022-04-08T22:33:28.856243Z",
     "shell.execute_reply": "2022-04-08T22:33:28.855779Z",
     "shell.execute_reply.started": "2022-04-08T15:19:37.257322Z"
    },
    "papermill": {
     "duration": 20.035219,
     "end_time": "2022-04-08T22:33:28.856360",
     "exception": false,
     "start_time": "2022-04-08T22:33:08.821141",
     "status": "completed"
    },
    "tags": []
   },
   "outputs": [],
   "source": [
    "def plot_confusion_matrix(cm, classes,\n",
    "                          normalize=False,\n",
    "                          title='Confusion matrix',\n",
    "                          cmap=plt.cm.Blues):\n",
    "    \"\"\"\n",
    "    This function prints and plots the confusion matrix.\n",
    "    Normalization can be applied by setting `normalize=True`.\n",
    "    \"\"\"\n",
    "    plt.imshow(cm, interpolation='nearest', cmap=cmap)\n",
    "    plt.title(title)\n",
    "    plt.colorbar()\n",
    "    tick_marks = np.arange(len(classes))\n",
    "    plt.xticks(tick_marks, classes, rotation=45)\n",
    "    plt.yticks(tick_marks, classes)\n",
    "\n",
    "    if normalize:\n",
    "        cm = cm.astype('float') / cm.sum(axis=1)[:, np.newaxis]\n",
    "\n",
    "    thresh = cm.max() / 2.\n",
    "    for i, j in itertools.product(range(cm.shape[0]), range(cm.shape[1])):\n",
    "        plt.text(j, i, cm[i, j],\n",
    "                 horizontalalignment=\"center\",\n",
    "                 color=\"white\" if cm[i, j] > thresh else \"black\")\n",
    "\n",
    "    plt.tight_layout()\n",
    "    plt.ylabel('True label')\n",
    "    plt.xlabel('Predicted label')"
   ]
  },
  {
   "cell_type": "code",
   "execution_count": 13,
   "id": "d52092a5",
   "metadata": {
    "execution": {
     "iopub.execute_input": "2022-04-08T22:34:09.696687Z",
     "iopub.status.busy": "2022-04-08T22:34:09.695843Z",
     "iopub.status.idle": "2022-04-08T22:34:10.058452Z",
     "shell.execute_reply": "2022-04-08T22:34:10.057699Z",
     "shell.execute_reply.started": "2022-04-08T15:19:39.078985Z"
    },
    "papermill": {
     "duration": 20.714372,
     "end_time": "2022-04-08T22:34:10.058628",
     "exception": false,
     "start_time": "2022-04-08T22:33:49.344256",
     "status": "completed"
    },
    "tags": []
   },
   "outputs": [
    {
     "data": {
      "text/plain": [
       "<All keys matched successfully>"
      ]
     },
     "execution_count": 13,
     "metadata": {},
     "output_type": "execute_result"
    }
   ],
   "source": [
    "# model = timm.create_model('resnext101_32x8d', pretrained=True)\n",
    "# fc = nn.Sequential(OrderedDict([\n",
    "#     ('fc1', nn.Linear(2048, 1024)),\n",
    "#     ('relu1', nn.ReLU(inplace=True)),\n",
    "#     ('fc2', nn.Linear(1024, 256)),\n",
    "#     ('relu2', nn.ReLU(inplace=True)),\n",
    "#     ('fc3', nn.Linear(256, 5))\n",
    "# ]))\n",
    "\n",
    "# model.fc = fc\n",
    "# model = model.to(device)\n",
    "\n",
    "model.load_state_dict(torch.load('./model.pth'))"
   ]
  },
  {
   "cell_type": "code",
   "execution_count": 14,
   "id": "4d6ecf86",
   "metadata": {
    "execution": {
     "iopub.execute_input": "2022-04-08T22:34:50.941314Z",
     "iopub.status.busy": "2022-04-08T22:34:50.940435Z",
     "iopub.status.idle": "2022-04-08T22:35:36.531378Z",
     "shell.execute_reply": "2022-04-08T22:35:36.531758Z",
     "shell.execute_reply.started": "2022-04-08T15:23:09.768672Z"
    },
    "papermill": {
     "duration": 66.252396,
     "end_time": "2022-04-08T22:35:36.531923",
     "exception": false,
     "start_time": "2022-04-08T22:34:30.279527",
     "status": "completed"
    },
    "tags": []
   },
   "outputs": [
    {
     "name": "stdout",
     "output_type": "stream",
     "text": [
      "Testing complete in 0m 45s\n",
      "              precision    recall  f1-score   support\n",
      "\n",
      "           0    0.98551   0.93923   0.96181       362\n",
      "           1    0.95509   0.91860   0.93649       602\n",
      "           2    0.93327   0.97642   0.95436      1060\n",
      "           3    0.97674   0.93333   0.95455       135\n",
      "           4    0.98507   0.94286   0.96350        70\n",
      "\n",
      "    accuracy                        0.95110      2229\n",
      "   macro avg    0.96714   0.94209   0.95414      2229\n",
      "weighted avg    0.95191   0.95110   0.95104      2229\n",
      "\n"
     ]
    },
    {
     "data": {
      "image/png": "[encoded data removed]",
      "text/plain": [
       "<Figure size 432x288 with 2 Axes>"
      ]
     },
     "metadata": {
      "needs_background": "light"
     },
     "output_type": "display_data"
    }
   ],
   "source": [
    "since = time.time()\n",
    "model.eval()\n",
    "y_test = []\n",
    "y_pred = []\n",
    "y_pred_proba = []\n",
    "for images, labels in data_loader['test']:\n",
    "    images = images.to(device)\n",
    "    labels = labels.to(device)\n",
    "    outputs = model(images)\n",
    "    _, predictions = outputs.max(1)\n",
    "    \n",
    "    y_test.append(labels.data.cpu().numpy())\n",
    "    y_pred.append(predictions.data.cpu().numpy())\n",
    "    y_pred_proba.append(outputs.data.cpu().numpy())\n",
    "    \n",
    "y_test = np.concatenate(y_test)\n",
    "y_pred = np.concatenate(y_pred)\n",
    "y_pred_proba = np.concatenate(y_pred_proba)\n",
    "time_elapsed = time.time() - since\n",
    "\n",
    "print('Testing complete in {:.0f}m {:.0f}s'.format(time_elapsed // 60, time_elapsed % 60))\n",
    "\n",
    "confusion_mtx = confusion_matrix(y_test, y_pred)\n",
    "# plot the confusion matrix\n",
    "plot_labels = ['COVID', 'Lung_Opacity', 'Normal', 'Pneunomia', 'Tuberculosis']\n",
    "\n",
    "plot_confusion_matrix(confusion_mtx, plot_labels)\n",
    "report = classification_report(y_test, y_pred, digits=5)\n",
    "print(report)"
   ]
  },
  {
   "cell_type": "code",
   "execution_count": 15,
   "id": "a6084dd2",
   "metadata": {
    "execution": {
     "iopub.execute_input": "2022-04-08T22:36:17.051841Z",
     "iopub.status.busy": "2022-04-08T22:36:17.040803Z",
     "iopub.status.idle": "2022-04-08T22:36:17.060177Z",
     "shell.execute_reply": "2022-04-08T22:36:17.059666Z",
     "shell.execute_reply.started": "2022-04-08T15:09:50.475314Z"
    },
    "papermill": {
     "duration": 19.947536,
     "end_time": "2022-04-08T22:36:17.060307",
     "exception": false,
     "start_time": "2022-04-08T22:35:57.112771",
     "status": "completed"
    },
    "tags": []
   },
   "outputs": [],
   "source": [
    "def softmax(vec):\n",
    "    exponential = np.exp(vec)\n",
    "    probabilities = exponential / np.sum(exponential)\n",
    "    return probabilities\n",
    "\n",
    "y_pred_proba = np.array([list(softmax(i)) for i in y_pred_proba])"
   ]
  },
  {
   "cell_type": "code",
   "execution_count": 16,
   "id": "dbbc01bd",
   "metadata": {
    "execution": {
     "iopub.execute_input": "2022-04-08T22:36:57.823886Z",
     "iopub.status.busy": "2022-04-08T22:36:57.823033Z",
     "iopub.status.idle": "2022-04-08T22:36:58.337058Z",
     "shell.execute_reply": "2022-04-08T22:36:58.338154Z"
    },
    "papermill": {
     "duration": 20.983983,
     "end_time": "2022-04-08T22:36:58.338376",
     "exception": false,
     "start_time": "2022-04-08T22:36:37.354393",
     "status": "completed"
    },
    "tags": []
   },
   "outputs": [
    {
     "name": "stdout",
     "output_type": "stream",
     "text": [
      "ROC curve (area = 0.9948)\n"
     ]
    },
    {
     "data": {
      "image/png": "[encoded data removed]",
      "text/plain": [
       "<Figure size 432x288 with 1 Axes>"
      ]
     },
     "metadata": {
      "needs_background": "light"
     },
     "output_type": "display_data"
    }
   ],
   "source": [
    "roc_auc = roc_auc_score(y_test, y_pred_proba, multi_class='ovo')\n",
    "print('ROC curve (area = %0.4f)' % roc_auc)\n",
    "fpr = {}\n",
    "tpr = {}\n",
    "thresh ={}\n",
    "for i in range(5):\n",
    "    fpr[i], tpr[i], thresh[i] = roc_curve(y_test, y_pred_proba[:, i], pos_label=i)\n",
    "\n",
    "# plotting    \n",
    "plt.plot(fpr[0], tpr[0], color='red', label='Class 0 vs Rest')\n",
    "plt.plot(fpr[1], tpr[1], color='green', label='Class 1 vs Rest')\n",
    "plt.plot(fpr[2], tpr[2], color='blue', label='Class 2 vs Rest')\n",
    "plt.plot(fpr[3], tpr[3], color='gray', label='Class 3 vs Rest')\n",
    "plt.plot(fpr[4], tpr[4], color='purple', label='Class 4 vs Rest')\n",
    "plt.plot([0, 1], [0, 1], color='orange', linestyle='--')\n",
    "plt.title('Multiclass ROC curve')\n",
    "plt.xlabel('False Positive Rate')\n",
    "plt.ylabel('True Positive rate')\n",
    "plt.legend(loc='best')\n",
    "plt.savefig('Multiclass ROC',dpi=300); "
   ]
  }
 ],
 "metadata": {
  "kernelspec": {
   "display_name": "Python 3",
   "language": "python",
   "name": "python3"
  },
  "language_info": {
   "codemirror_mode": {
    "name": "ipython",
    "version": 3
   },
   "file_extension": ".py",
   "mimetype": "text/x-python",
   "name": "python",
   "nbconvert_exporter": "python",
   "pygments_lexer": "ipython3",
   "version": "3.7.12"
  },
  "papermill": {
   "default_parameters": {},
   "duration": 25320.962217,
   "end_time": "2022-04-08T22:37:20.472798",
   "environment_variables": {},
   "exception": null,
   "input_path": "__notebook__.ipynb",
   "output_path": "__notebook__.ipynb",
   "parameters": {},
   "start_time": "2022-04-08T15:35:19.510581",
   "version": "2.3.3"
  }
 },
 "nbformat": 4,
 "nbformat_minor": 5
}
