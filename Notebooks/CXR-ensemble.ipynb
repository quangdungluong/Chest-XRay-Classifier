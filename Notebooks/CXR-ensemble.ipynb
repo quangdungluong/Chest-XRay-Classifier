{
 "cells": [
  {
   "cell_type": "code",
   "execution_count": 1,
   "id": "b3523c3d",
   "metadata": {
    "_cell_guid": "b1076dfc-b9ad-4769-8c92-a6c4dae69d19",
    "_uuid": "8f2839f25d086af736a60e9eeb907d3b93b6e0e5",
    "execution": {
     "iopub.execute_input": "2022-02-08T10:03:28.023156Z",
     "iopub.status.busy": "2022-02-08T10:03:28.019846Z",
     "iopub.status.idle": "2022-02-08T10:03:51.636550Z",
     "shell.execute_reply": "2022-02-08T10:03:51.635484Z",
     "shell.execute_reply.started": "2022-02-08T09:46:03.242242Z"
    },
    "papermill": {
     "duration": 23.656448,
     "end_time": "2022-02-08T10:03:51.636761",
     "exception": false,
     "start_time": "2022-02-08T10:03:27.980313",
     "status": "completed"
    },
    "tags": []
   },
   "outputs": [],
   "source": [
    "%%capture\n",
    "!pip install timm\n",
    "!pip install randaugment"
   ]
  },
  {
   "cell_type": "code",
   "execution_count": 2,
   "id": "ebaf95a2",
   "metadata": {
    "execution": {
     "iopub.execute_input": "2022-02-08T10:03:51.672109Z",
     "iopub.status.busy": "2022-02-08T10:03:51.671063Z",
     "iopub.status.idle": "2022-02-08T10:03:55.527364Z",
     "shell.execute_reply": "2022-02-08T10:03:55.526758Z",
     "shell.execute_reply.started": "2022-02-08T09:58:33.195081Z"
    },
    "papermill": {
     "duration": 3.877569,
     "end_time": "2022-02-08T10:03:55.527522",
     "exception": false,
     "start_time": "2022-02-08T10:03:51.649953",
     "status": "completed"
    },
    "tags": []
   },
   "outputs": [],
   "source": [
    "import os\n",
    "import timm\n",
    "import torch\n",
    "import torch.nn as nn\n",
    "from torchvision import transforms, datasets\n",
    "from randaugment import RandAugment, ImageNetPolicy, Cutout\n",
    "from collections import OrderedDict\n",
    "\n",
    "import itertools\n",
    "import numpy as np\n",
    "import matplotlib.pyplot as plt\n",
    "import time\n",
    "from sklearn.metrics import confusion_matrix, accuracy_score, classification_report, roc_auc_score, roc_curve\n",
    "device = torch.device(\"cuda\" if torch.cuda.is_available else \"cpu\")"
   ]
  },
  {
   "cell_type": "code",
   "execution_count": 3,
   "id": "72aa120a",
   "metadata": {
    "execution": {
     "iopub.execute_input": "2022-02-08T10:03:55.605714Z",
     "iopub.status.busy": "2022-02-08T10:03:55.604959Z",
     "iopub.status.idle": "2022-02-08T10:03:55.609413Z",
     "shell.execute_reply": "2022-02-08T10:03:55.609949Z",
     "shell.execute_reply.started": "2022-02-08T09:46:39.929605Z"
    },
    "papermill": {
     "duration": 0.068895,
     "end_time": "2022-02-08T10:03:55.610129",
     "exception": false,
     "start_time": "2022-02-08T10:03:55.541234",
     "status": "completed"
    },
    "tags": []
   },
   "outputs": [],
   "source": [
    "root_dir = '/kaggle/input/chest-xray-classification'\n",
    "data_transforms = {\n",
    "    'train':transforms.Compose([\n",
    "        transforms.RandomRotation(30),\n",
    "        transforms.RandomResizedCrop(224),\n",
    "        transforms.RandomHorizontalFlip(),\n",
    "        Cutout(size=16),\n",
    "        RandAugment(),\n",
    "        ImageNetPolicy(),\n",
    "        transforms.ToTensor(),\n",
    "        transforms.Normalize([0.485, 0.456, 0.406], \n",
    "                             [0.229, 0.224, 0.225])\n",
    "    ]),\n",
    "    'val': transforms.Compose([\n",
    "        transforms.Resize(256),\n",
    "        transforms.CenterCrop(224),\n",
    "        transforms.ToTensor(),\n",
    "        transforms.Normalize([0.485, 0.456, 0.406], \n",
    "                             [0.229, 0.224, 0.225])\n",
    "    ]),\n",
    "    'test':transforms.Compose([\n",
    "        transforms.Resize(256),\n",
    "        transforms.CenterCrop(224),\n",
    "        transforms.ToTensor(),\n",
    "        transforms.Normalize([0.485, 0.456, 0.406], \n",
    "                             [0.229, 0.224, 0.225])\n",
    "    ])\n",
    "}"
   ]
  },
  {
   "cell_type": "code",
   "execution_count": 4,
   "id": "6a0806ea",
   "metadata": {
    "execution": {
     "iopub.execute_input": "2022-02-08T10:03:55.643421Z",
     "iopub.status.busy": "2022-02-08T10:03:55.642657Z",
     "iopub.status.idle": "2022-02-08T10:04:02.398700Z",
     "shell.execute_reply": "2022-02-08T10:04:02.398033Z",
     "shell.execute_reply.started": "2022-02-08T09:47:12.540014Z"
    },
    "papermill": {
     "duration": 6.775786,
     "end_time": "2022-02-08T10:04:02.398902",
     "exception": false,
     "start_time": "2022-02-08T10:03:55.623116",
     "status": "completed"
    },
    "tags": []
   },
   "outputs": [],
   "source": [
    "batch_size = 32\n",
    "image_datasets = {x : datasets.ImageFolder(os.path.join(root_dir, x), data_transforms[x]) for x in ['train', 'val', 'test']}\n",
    "data_loader = {x : torch.utils.data.DataLoader(image_datasets[x], batch_size=batch_size if x!='test' else 2, shuffle=True, num_workers=2, pin_memory=True) for x in ['train', 'val', 'test']}\n",
    "dataset_sizes = {x : len(image_datasets[x]) for x in ['train', 'val', 'test']}\n",
    "class_names = image_datasets['train'].classes"
   ]
  },
  {
   "cell_type": "code",
   "execution_count": 5,
   "id": "9239dd2d",
   "metadata": {
    "execution": {
     "iopub.execute_input": "2022-02-08T10:04:02.432536Z",
     "iopub.status.busy": "2022-02-08T10:04:02.431412Z",
     "iopub.status.idle": "2022-02-08T10:04:02.435868Z",
     "shell.execute_reply": "2022-02-08T10:04:02.435260Z",
     "shell.execute_reply.started": "2022-02-08T09:47:15.113864Z"
    },
    "papermill": {
     "duration": 0.023524,
     "end_time": "2022-02-08T10:04:02.436007",
     "exception": false,
     "start_time": "2022-02-08T10:04:02.412483",
     "status": "completed"
    },
    "tags": []
   },
   "outputs": [
    {
     "name": "stdout",
     "output_type": "stream",
     "text": [
      "{'train': 17813, 'val': 2227, 'test': 2229}\n",
      "['COVID', 'Lung_Opacity', 'Normal', 'Pneunomia', 'Tuberculosis']\n"
     ]
    }
   ],
   "source": [
    "print(dataset_sizes)\n",
    "print(class_names)"
   ]
  },
  {
   "cell_type": "markdown",
   "id": "aeafeccb",
   "metadata": {
    "papermill": {
     "duration": 0.012939,
     "end_time": "2022-02-08T10:04:02.462830",
     "exception": false,
     "start_time": "2022-02-08T10:04:02.449891",
     "status": "completed"
    },
    "tags": []
   },
   "source": [
    "# Model"
   ]
  },
  {
   "cell_type": "code",
   "execution_count": 6,
   "id": "8ab7a10c",
   "metadata": {
    "execution": {
     "iopub.execute_input": "2022-02-08T10:04:02.499494Z",
     "iopub.status.busy": "2022-02-08T10:04:02.498759Z",
     "iopub.status.idle": "2022-02-08T10:04:07.263083Z",
     "shell.execute_reply": "2022-02-08T10:04:07.263611Z",
     "shell.execute_reply.started": "2022-02-08T09:49:28.180050Z"
    },
    "papermill": {
     "duration": 4.787542,
     "end_time": "2022-02-08T10:04:07.263817",
     "exception": false,
     "start_time": "2022-02-08T10:04:02.476275",
     "status": "completed"
    },
    "tags": []
   },
   "outputs": [
    {
     "data": {
      "text/plain": [
       "<All keys matched successfully>"
      ]
     },
     "execution_count": 6,
     "metadata": {},
     "output_type": "execute_result"
    }
   ],
   "source": [
    "efficientnet_b2 = timm.create_model('efficientnet_b2')\n",
    "classifier = nn.Sequential(OrderedDict([\n",
    "    ('fc1', nn.Linear(1408, 512)),\n",
    "    ('relu1', nn.ReLU()),\n",
    "    ('fc2', nn.Linear(512, 256)),\n",
    "    ('relu2', nn.ReLU()),\n",
    "    ('fc3', nn.Linear(256, 5))\n",
    "]))\n",
    "efficientnet_b2.classifier = classifier\n",
    "efficientnet_b2 = efficientnet_b2.to(device)\n",
    "efficientnet_b2.load_state_dict(torch.load('../input/cxr-weight/effnet_b2.pth'))"
   ]
  },
  {
   "cell_type": "code",
   "execution_count": 7,
   "id": "f74bdefa",
   "metadata": {
    "execution": {
     "iopub.execute_input": "2022-02-08T10:04:07.298576Z",
     "iopub.status.busy": "2022-02-08T10:04:07.297864Z",
     "iopub.status.idle": "2022-02-08T10:04:12.723658Z",
     "shell.execute_reply": "2022-02-08T10:04:12.724168Z",
     "shell.execute_reply.started": "2022-02-08T09:58:37.630908Z"
    },
    "papermill": {
     "duration": 5.446771,
     "end_time": "2022-02-08T10:04:12.724417",
     "exception": false,
     "start_time": "2022-02-08T10:04:07.277646",
     "status": "completed"
    },
    "tags": []
   },
   "outputs": [
    {
     "data": {
      "text/plain": [
       "<All keys matched successfully>"
      ]
     },
     "execution_count": 7,
     "metadata": {},
     "output_type": "execute_result"
    }
   ],
   "source": [
    "swin_transformer = timm.create_model('swin_base_patch4_window7_224')\n",
    "head = nn.Sequential(OrderedDict([\n",
    "    ('fc1', nn.Linear(1024, 512)),\n",
    "    ('relu1', nn.ReLU()),\n",
    "    ('fc2', nn.Linear(512, 256)),\n",
    "    ('relu2', nn.ReLU()),\n",
    "    ('fc3', nn.Linear(256, 5))\n",
    "]))\n",
    "swin_transformer.head = head\n",
    "swin_transformer = swin_transformer.to(device)\n",
    "swin_transformer.load_state_dict(torch.load('../input/cxr-weight/swin_transformer.pth'))"
   ]
  },
  {
   "cell_type": "markdown",
   "id": "2747bbb3",
   "metadata": {
    "papermill": {
     "duration": 0.013827,
     "end_time": "2022-02-08T10:04:12.752631",
     "exception": false,
     "start_time": "2022-02-08T10:04:12.738804",
     "status": "completed"
    },
    "tags": []
   },
   "source": [
    "# Ensemble"
   ]
  },
  {
   "cell_type": "code",
   "execution_count": 8,
   "id": "14899a0e",
   "metadata": {
    "execution": {
     "iopub.execute_input": "2022-02-08T10:04:12.787683Z",
     "iopub.status.busy": "2022-02-08T10:04:12.786970Z",
     "iopub.status.idle": "2022-02-08T10:04:12.803097Z",
     "shell.execute_reply": "2022-02-08T10:04:12.802368Z",
     "shell.execute_reply.started": "2022-02-08T09:58:40.496794Z"
    },
    "papermill": {
     "duration": 0.036823,
     "end_time": "2022-02-08T10:04:12.803245",
     "exception": false,
     "start_time": "2022-02-08T10:04:12.766422",
     "status": "completed"
    },
    "tags": []
   },
   "outputs": [],
   "source": [
    "class Ensemble_Model(nn.Module):\n",
    "    def __init__(self):\n",
    "        super(Ensemble_Model, self).__init__()\n",
    "        self.effnet_b2 = efficientnet_b2\n",
    "        self.swin = swin_transformer\n",
    "        \n",
    "    def forward(self, x):\n",
    "        x1 = self.effnet_b2(x)\n",
    "        x2 = self.swin(x)\n",
    "        x = sum([x1, x2])/2\n",
    "        return x\n",
    "\n",
    "model = Ensemble_Model().to(device)"
   ]
  },
  {
   "cell_type": "code",
   "execution_count": 9,
   "id": "23deb8fc",
   "metadata": {
    "execution": {
     "iopub.execute_input": "2022-02-08T10:04:12.842221Z",
     "iopub.status.busy": "2022-02-08T10:04:12.841195Z",
     "iopub.status.idle": "2022-02-08T10:04:12.844055Z",
     "shell.execute_reply": "2022-02-08T10:04:12.844644Z",
     "shell.execute_reply.started": "2022-02-08T09:53:52.263929Z"
    },
    "papermill": {
     "duration": 0.026948,
     "end_time": "2022-02-08T10:04:12.844801",
     "exception": false,
     "start_time": "2022-02-08T10:04:12.817853",
     "status": "completed"
    },
    "tags": []
   },
   "outputs": [],
   "source": [
    "def plot_confusion_matrix(cm, classes,\n",
    "                          normalize=False,\n",
    "                          title='Confusion matrix',\n",
    "                          cmap=plt.cm.Blues):\n",
    "    \"\"\"\n",
    "    This function prints and plots the confusion matrix.\n",
    "    Normalization can be applied by setting `normalize=True`.\n",
    "    \"\"\"\n",
    "    plt.imshow(cm, interpolation='nearest', cmap=cmap)\n",
    "    plt.title(title)\n",
    "    plt.colorbar()\n",
    "    tick_marks = np.arange(len(classes))\n",
    "    plt.xticks(tick_marks, classes, rotation=45)\n",
    "    plt.yticks(tick_marks, classes)\n",
    "\n",
    "    if normalize:\n",
    "        cm = cm.astype('float') / cm.sum(axis=1)[:, np.newaxis]\n",
    "\n",
    "    thresh = cm.max() / 2.\n",
    "    for i, j in itertools.product(range(cm.shape[0]), range(cm.shape[1])):\n",
    "        plt.text(j, i, cm[i, j],\n",
    "                 horizontalalignment=\"center\",\n",
    "                 color=\"white\" if cm[i, j] > thresh else \"black\")\n",
    "\n",
    "    plt.tight_layout()\n",
    "    plt.ylabel('True label')\n",
    "    plt.xlabel('Predicted label')"
   ]
  },
  {
   "cell_type": "code",
   "execution_count": 10,
   "id": "cecf1696",
   "metadata": {
    "execution": {
     "iopub.execute_input": "2022-02-08T10:04:12.886626Z",
     "iopub.status.busy": "2022-02-08T10:04:12.875928Z",
     "iopub.status.idle": "2022-02-08T10:05:53.612761Z",
     "shell.execute_reply": "2022-02-08T10:05:53.612169Z",
     "shell.execute_reply.started": "2022-02-08T09:58:43.488990Z"
    },
    "papermill": {
     "duration": 100.754189,
     "end_time": "2022-02-08T10:05:53.612923",
     "exception": false,
     "start_time": "2022-02-08T10:04:12.858734",
     "status": "completed"
    },
    "tags": []
   },
   "outputs": [
    {
     "name": "stdout",
     "output_type": "stream",
     "text": [
      "Testing complete in 1m 40s\n",
      "              precision    recall  f1-score   support\n",
      "\n",
      "           0    0.99399   0.91436   0.95252       362\n",
      "           1    0.95408   0.93189   0.94286       602\n",
      "           2    0.93339   0.97830   0.95532      1060\n",
      "           3    1.00000   0.91852   0.95753       135\n",
      "           4    0.91781   0.95714   0.93706        70\n",
      "\n",
      "    accuracy                        0.95110      2229\n",
      "   macro avg    0.95986   0.94004   0.94906      2229\n",
      "weighted avg    0.95237   0.95110   0.95106      2229\n",
      "\n"
     ]
    },
    {
     "data": {
      "image/png": "[encoded data removed]",
      "text/plain": [
       "<Figure size 432x288 with 2 Axes>"
      ]
     },
     "metadata": {
      "needs_background": "light"
     },
     "output_type": "display_data"
    }
   ],
   "source": [
    "model.eval()\n",
    "since = time.time()\n",
    "y_test = []\n",
    "y_pred = []\n",
    "y_pred_proba = []\n",
    "for images, labels in data_loader['test']:\n",
    "    images = images.to(device)\n",
    "    labels = labels.to(device)\n",
    "    outputs = model(images)\n",
    "    _, predictions = outputs.max(1)\n",
    "    \n",
    "    y_test.append(labels.data.cpu().numpy())\n",
    "    y_pred.append(predictions.data.cpu().numpy())\n",
    "    y_pred_proba.append(outputs.data.cpu().numpy())\n",
    "    \n",
    "y_test = np.concatenate(y_test)\n",
    "y_pred = np.concatenate(y_pred)\n",
    "y_pred_proba = np.concatenate(y_pred_proba)\n",
    "time_elapsed = time.time() - since\n",
    "\n",
    "print('Testing complete in {:.0f}m {:.0f}s'.format(time_elapsed // 60, time_elapsed % 60))\n",
    "\n",
    "confusion_mtx = confusion_matrix(y_test, y_pred)\n",
    "# plot the confusion matrix\n",
    "plot_labels = ['COVID', 'Lung_Opacity', 'Normal', 'Pneunomia', 'Tuberculosis']\n",
    "\n",
    "plot_confusion_matrix(confusion_mtx, plot_labels)\n",
    "report = classification_report(y_test, y_pred, digits=5)\n",
    "print(report)"
   ]
  },
  {
   "cell_type": "code",
   "execution_count": 11,
   "id": "5407b97c",
   "metadata": {
    "execution": {
     "iopub.execute_input": "2022-02-08T10:05:53.657704Z",
     "iopub.status.busy": "2022-02-08T10:05:53.655913Z",
     "iopub.status.idle": "2022-02-08T10:05:53.870068Z",
     "shell.execute_reply": "2022-02-08T10:05:53.870610Z",
     "shell.execute_reply.started": "2022-02-08T10:00:35.753126Z"
    },
    "papermill": {
     "duration": 0.242499,
     "end_time": "2022-02-08T10:05:53.870801",
     "exception": false,
     "start_time": "2022-02-08T10:05:53.628302",
     "status": "completed"
    },
    "tags": []
   },
   "outputs": [],
   "source": [
    "def softmax(vec):\n",
    "    exponential = np.exp(vec)\n",
    "    probabilities = exponential / np.sum(exponential)\n",
    "    return probabilities\n",
    "\n",
    "y_pred_proba = np.array([list(softmax(i)) for i in y_pred_proba])"
   ]
  },
  {
   "cell_type": "code",
   "execution_count": 12,
   "id": "6563be0b",
   "metadata": {
    "execution": {
     "iopub.execute_input": "2022-02-08T10:05:53.912836Z",
     "iopub.status.busy": "2022-02-08T10:05:53.911886Z",
     "iopub.status.idle": "2022-02-08T10:05:54.613199Z",
     "shell.execute_reply": "2022-02-08T10:05:54.614520Z",
     "shell.execute_reply.started": "2022-02-08T10:00:42.252585Z"
    },
    "papermill": {
     "duration": 0.728378,
     "end_time": "2022-02-08T10:05:54.614831",
     "exception": false,
     "start_time": "2022-02-08T10:05:53.886453",
     "status": "completed"
    },
    "tags": []
   },
   "outputs": [
    {
     "name": "stdout",
     "output_type": "stream",
     "text": [
      "ROC curve (area = 0.9965)\n"
     ]
    },
    {
     "data": {
      "image/png": "[encoded data removed]",
      "text/plain": [
       "<Figure size 432x288 with 1 Axes>"
      ]
     },
     "metadata": {
      "needs_background": "light"
     },
     "output_type": "display_data"
    }
   ],
   "source": [
    "roc_auc = roc_auc_score(y_test, y_pred_proba, multi_class='ovo')\n",
    "print('ROC curve (area = %0.4f)' % roc_auc)\n",
    "fpr = {}\n",
    "tpr = {}\n",
    "thresh ={}\n",
    "for i in range(5):\n",
    "    fpr[i], tpr[i], thresh[i] = roc_curve(y_test, y_pred_proba[:, i], pos_label=i)\n",
    "\n",
    "# plotting    \n",
    "plt.plot(fpr[0], tpr[0], color='red', label='Class 0 vs Rest')\n",
    "plt.plot(fpr[1], tpr[1], color='green', label='Class 1 vs Rest')\n",
    "plt.plot(fpr[2], tpr[2], color='blue', label='Class 2 vs Rest')\n",
    "plt.plot(fpr[3], tpr[3], color='gray', label='Class 3 vs Rest')\n",
    "plt.plot(fpr[4], tpr[4], color='purple', label='Class 4 vs Rest')\n",
    "plt.plot([0, 1], [0, 1], color='orange', linestyle='--')\n",
    "plt.title('Multiclass ROC curve')\n",
    "plt.xlabel('False Positive Rate')\n",
    "plt.ylabel('True Positive rate')\n",
    "plt.legend(loc='best')\n",
    "plt.savefig('Multiclass ROC',dpi=300); "
   ]
  }
 ],
 "metadata": {
  "kernelspec": {
   "display_name": "Python 3",
   "language": "python",
   "name": "python3"
  },
  "language_info": {
   "codemirror_mode": {
    "name": "ipython",
    "version": 3
   },
   "file_extension": ".py",
   "mimetype": "text/x-python",
   "name": "python",
   "nbconvert_exporter": "python",
   "pygments_lexer": "ipython3",
   "version": "3.7.12"
  },
  "papermill": {
   "default_parameters": {},
   "duration": 158.588623,
   "end_time": "2022-02-08T10:05:56.583548",
   "environment_variables": {},
   "exception": null,
   "input_path": "__notebook__.ipynb",
   "output_path": "__notebook__.ipynb",
   "parameters": {},
   "start_time": "2022-02-08T10:03:17.994925",
   "version": "2.3.3"
  }
 },
 "nbformat": 4,
 "nbformat_minor": 5
}
