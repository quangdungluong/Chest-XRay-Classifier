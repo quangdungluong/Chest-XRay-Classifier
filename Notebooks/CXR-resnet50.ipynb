{
 "cells": [
  {
   "cell_type": "markdown",
   "id": "ade86004",
   "metadata": {
    "papermill": {
     "duration": 0.017809,
     "end_time": "2022-04-08T15:35:26.981077",
     "exception": false,
     "start_time": "2022-04-08T15:35:26.963268",
     "status": "completed"
    },
    "tags": []
   },
   "source": [
    "# 1. Import required packages"
   ]
  },
  {
   "cell_type": "code",
   "execution_count": 1,
   "id": "25e3ae29",
   "metadata": {
    "_cell_guid": "b1076dfc-b9ad-4769-8c92-a6c4dae69d19",
    "_uuid": "8f2839f25d086af736a60e9eeb907d3b93b6e0e5",
    "execution": {
     "iopub.execute_input": "2022-04-08T15:35:27.026762Z",
     "iopub.status.busy": "2022-04-08T15:35:27.025976Z",
     "iopub.status.idle": "2022-04-08T15:35:45.058340Z",
     "shell.execute_reply": "2022-04-08T15:35:45.058742Z",
     "shell.execute_reply.started": "2022-04-08T15:25:29.977315Z"
    },
    "papermill": {
     "duration": 18.06025,
     "end_time": "2022-04-08T15:35:45.059026",
     "exception": false,
     "start_time": "2022-04-08T15:35:26.998776",
     "status": "completed"
    },
    "tags": []
   },
   "outputs": [],
   "source": [
    "%%capture\n",
    "!pip install timm\n",
    "!pip install randaugment"
   ]
  },
  {
   "cell_type": "code",
   "execution_count": 2,
   "id": "98f9b157",
   "metadata": {
    "execution": {
     "iopub.execute_input": "2022-04-08T15:35:45.103540Z",
     "iopub.status.busy": "2022-04-08T15:35:45.102786Z",
     "iopub.status.idle": "2022-04-08T15:35:48.562485Z",
     "shell.execute_reply": "2022-04-08T15:35:48.561593Z",
     "shell.execute_reply.started": "2022-04-08T15:25:49.880836Z"
    },
    "papermill": {
     "duration": 3.486404,
     "end_time": "2022-04-08T15:35:48.562639",
     "exception": false,
     "start_time": "2022-04-08T15:35:45.076235",
     "status": "completed"
    },
    "tags": []
   },
   "outputs": [],
   "source": [
    "import os\n",
    "import PIL\n",
    "import time\n",
    "import timm\n",
    "import math\n",
    "import copy\n",
    "import torch\n",
    "import torchvision\n",
    "import itertools\n",
    "import numpy as np\n",
    "%matplotlib inline\n",
    "import torch.nn as nn\n",
    "from PIL import Image\n",
    "from copy import deepcopy\n",
    "import torch.optim as optim\n",
    "import matplotlib.pyplot as plt\n",
    "from timm.models.layers.activations import *\n",
    "from collections import OrderedDict\n",
    "from torchvision import transforms, models, datasets\n",
    "from torch.utils.data.sampler import SubsetRandomSampler\n",
    "device = torch.device(\"cuda:0\" if torch.cuda.is_available() else \"cpu\")\n",
    "from timm.loss import LabelSmoothingCrossEntropy\n",
    "from sklearn.metrics import confusion_matrix, accuracy_score, classification_report, roc_auc_score, roc_curve\n",
    "from randaugment import RandAugment, ImageNetPolicy, Cutout\n",
    "from tqdm import tqdm"
   ]
  },
  {
   "cell_type": "markdown",
   "id": "4f9b795a",
   "metadata": {
    "papermill": {
     "duration": 0.016612,
     "end_time": "2022-04-08T15:35:48.596206",
     "exception": false,
     "start_time": "2022-04-08T15:35:48.579594",
     "status": "completed"
    },
    "tags": []
   },
   "source": [
    "# 2. Dataloader"
   ]
  },
  {
   "cell_type": "code",
   "execution_count": 3,
   "id": "5eada8c2",
   "metadata": {
    "execution": {
     "iopub.execute_input": "2022-04-08T15:35:48.633875Z",
     "iopub.status.busy": "2022-04-08T15:35:48.633178Z",
     "iopub.status.idle": "2022-04-08T15:35:48.635836Z",
     "shell.execute_reply": "2022-04-08T15:35:48.635412Z",
     "shell.execute_reply.started": "2022-04-08T15:25:53.150217Z"
    },
    "papermill": {
     "duration": 0.023049,
     "end_time": "2022-04-08T15:35:48.635947",
     "exception": false,
     "start_time": "2022-04-08T15:35:48.612898",
     "status": "completed"
    },
    "tags": []
   },
   "outputs": [],
   "source": [
    "# Hyperparameters\n",
    "BATCH_SIZE = 16\n",
    "NUM_EPOCHS = 50"
   ]
  },
  {
   "cell_type": "code",
   "execution_count": 4,
   "id": "c2475c53",
   "metadata": {
    "execution": {
     "iopub.execute_input": "2022-04-08T15:35:48.677505Z",
     "iopub.status.busy": "2022-04-08T15:35:48.676730Z",
     "iopub.status.idle": "2022-04-08T15:35:48.696698Z",
     "shell.execute_reply": "2022-04-08T15:35:48.696278Z",
     "shell.execute_reply.started": "2022-04-08T15:25:53.157466Z"
    },
    "papermill": {
     "duration": 0.044347,
     "end_time": "2022-04-08T15:35:48.696833",
     "exception": false,
     "start_time": "2022-04-08T15:35:48.652486",
     "status": "completed"
    },
    "tags": []
   },
   "outputs": [],
   "source": [
    "root_dir = '/kaggle/input/chest-xray-classification'\n",
    "data_transforms = {\n",
    "    'train':transforms.Compose([\n",
    "        transforms.RandomRotation(20),\n",
    "        transforms.RandomResizedCrop(224),\n",
    "        transforms.RandomHorizontalFlip(),\n",
    "        Cutout(size=16),\n",
    "        RandAugment(),\n",
    "        ImageNetPolicy(),\n",
    "        transforms.ToTensor(),\n",
    "        transforms.Normalize([0.485, 0.456, 0.406], \n",
    "                             [0.229, 0.224, 0.225])\n",
    "    ]),\n",
    "    'val': transforms.Compose([\n",
    "        transforms.Resize(256),\n",
    "        transforms.CenterCrop(224),\n",
    "        transforms.ToTensor(),\n",
    "        transforms.Normalize([0.485, 0.456, 0.406], \n",
    "                             [0.229, 0.224, 0.225])\n",
    "    ]),\n",
    "    'test':transforms.Compose([\n",
    "        transforms.Resize(256),\n",
    "        transforms.CenterCrop(224),\n",
    "        transforms.ToTensor(),\n",
    "        transforms.Normalize([0.485, 0.456, 0.406], \n",
    "                             [0.229, 0.224, 0.225])\n",
    "    ])\n",
    "}"
   ]
  },
  {
   "cell_type": "code",
   "execution_count": 5,
   "id": "b1535ce1",
   "metadata": {
    "execution": {
     "iopub.execute_input": "2022-04-08T15:35:48.737208Z",
     "iopub.status.busy": "2022-04-08T15:35:48.736587Z",
     "iopub.status.idle": "2022-04-08T15:35:56.504347Z",
     "shell.execute_reply": "2022-04-08T15:35:56.505051Z",
     "shell.execute_reply.started": "2022-04-08T15:25:53.190667Z"
    },
    "papermill": {
     "duration": 7.790584,
     "end_time": "2022-04-08T15:35:56.505217",
     "exception": false,
     "start_time": "2022-04-08T15:35:48.714633",
     "status": "completed"
    },
    "tags": []
   },
   "outputs": [
    {
     "name": "stdout",
     "output_type": "stream",
     "text": [
      "Dataset size:  {'train': 17813, 'val': 2227, 'test': 2229}\n",
      "Class names:  ['COVID', 'Lung_Opacity', 'Normal', 'Pneunomia', 'Tuberculosis']\n"
     ]
    }
   ],
   "source": [
    "image_datasets = {x : datasets.ImageFolder(os.path.join(root_dir, x), data_transforms[x]) for x in ['train', 'val', 'test']}\n",
    "data_loader = {x : torch.utils.data.DataLoader(image_datasets[x], batch_size=BATCH_SIZE, shuffle=True, num_workers=2) for x in ['train', 'val', 'test']}\n",
    "dataset_sizes = {x : len(image_datasets[x]) for x in ['train', 'val', 'test']}\n",
    "class_names = image_datasets['train'].classes\n",
    "\n",
    "print('Dataset size: ', dataset_sizes)\n",
    "print('Class names: ', class_names)"
   ]
  },
  {
   "cell_type": "markdown",
   "id": "396d7f0f",
   "metadata": {
    "papermill": {
     "duration": 0.016831,
     "end_time": "2022-04-08T15:35:56.539899",
     "exception": false,
     "start_time": "2022-04-08T15:35:56.523068",
     "status": "completed"
    },
    "tags": []
   },
   "source": [
    "# 3. ResNet50"
   ]
  },
  {
   "cell_type": "code",
   "execution_count": 6,
   "id": "3722aa97",
   "metadata": {
    "execution": {
     "iopub.execute_input": "2022-04-08T15:35:56.580194Z",
     "iopub.status.busy": "2022-04-08T15:35:56.579565Z",
     "iopub.status.idle": "2022-04-08T15:36:02.524961Z",
     "shell.execute_reply": "2022-04-08T15:36:02.524475Z",
     "shell.execute_reply.started": "2022-04-08T15:25:59.746375Z"
    },
    "papermill": {
     "duration": 5.967869,
     "end_time": "2022-04-08T15:36:02.525090",
     "exception": false,
     "start_time": "2022-04-08T15:35:56.557221",
     "status": "completed"
    },
    "tags": []
   },
   "outputs": [
    {
     "name": "stderr",
     "output_type": "stream",
     "text": [
      "Downloading: \"https://github.com/rwightman/pytorch-image-models/releases/download/v0.1-rsb-weights/resnet50_a1_0-14fe96d1.pth\" to /root/.cache/torch/hub/checkpoints/resnet50_a1_0-14fe96d1.pth\n"
     ]
    },
    {
     "data": {
      "text/plain": [
       "Linear(in_features=2048, out_features=1000, bias=True)"
      ]
     },
     "execution_count": 6,
     "metadata": {},
     "output_type": "execute_result"
    }
   ],
   "source": [
    "model = timm.create_model('resnet50', pretrained=True)\n",
    "model.fc"
   ]
  },
  {
   "cell_type": "code",
   "execution_count": 7,
   "id": "3e6f1528",
   "metadata": {
    "execution": {
     "iopub.execute_input": "2022-04-08T15:36:02.567894Z",
     "iopub.status.busy": "2022-04-08T15:36:02.567135Z",
     "iopub.status.idle": "2022-04-08T15:36:05.501135Z",
     "shell.execute_reply": "2022-04-08T15:36:05.500626Z",
     "shell.execute_reply.started": "2022-04-08T15:26:13.569928Z"
    },
    "papermill": {
     "duration": 2.958288,
     "end_time": "2022-04-08T15:36:05.501267",
     "exception": false,
     "start_time": "2022-04-08T15:36:02.542979",
     "status": "completed"
    },
    "tags": []
   },
   "outputs": [
    {
     "name": "stdout",
     "output_type": "stream",
     "text": [
      "ResNet50 parameters:  25869893\n"
     ]
    }
   ],
   "source": [
    "from collections import OrderedDict\n",
    "\n",
    "fc = nn.Sequential(OrderedDict([\n",
    "    ('fc1', nn.Linear(2048, 1024)),\n",
    "    ('relu1', nn.ReLU(inplace=True)),\n",
    "    ('fc2', nn.Linear(1024, 256)),\n",
    "    ('relu2', nn.ReLU(inplace=True)),\n",
    "    ('fc3', nn.Linear(256, 5))\n",
    "]))\n",
    "\n",
    "model.fc = fc\n",
    "model = model.to(device)\n",
    "\n",
    "### Count model params\n",
    "for params in model.parameters():\n",
    "    params.requires_grad = True\n",
    "\n",
    "def count_params(model):\n",
    "    return sum(p.numel() for p in model.parameters() if p.requires_grad)\n",
    "\n",
    "print(\"ResNet50 parameters: \", count_params(model))"
   ]
  },
  {
   "cell_type": "markdown",
   "id": "a524a1d9",
   "metadata": {
    "papermill": {
     "duration": 0.017692,
     "end_time": "2022-04-08T15:36:05.537024",
     "exception": false,
     "start_time": "2022-04-08T15:36:05.519332",
     "status": "completed"
    },
    "tags": []
   },
   "source": [
    "# 4. Training model"
   ]
  },
  {
   "cell_type": "code",
   "execution_count": 8,
   "id": "46800825",
   "metadata": {
    "execution": {
     "iopub.execute_input": "2022-04-08T15:36:05.582735Z",
     "iopub.status.busy": "2022-04-08T15:36:05.581880Z",
     "iopub.status.idle": "2022-04-08T15:36:05.583901Z",
     "shell.execute_reply": "2022-04-08T15:36:05.584286Z",
     "shell.execute_reply.started": "2022-04-08T15:26:16.472351Z"
    },
    "papermill": {
     "duration": 0.027909,
     "end_time": "2022-04-08T15:36:05.584439",
     "exception": false,
     "start_time": "2022-04-08T15:36:05.556530",
     "status": "completed"
    },
    "tags": []
   },
   "outputs": [],
   "source": [
    "criterion = LabelSmoothingCrossEntropy()\n",
    "optimizer = optim.SGD(model.parameters(), lr=0.01, momentum=0.9, weight_decay=0.0001)\n",
    "scheduler = optim.lr_scheduler.StepLR(optimizer, step_size=10, gamma=0.5)"
   ]
  },
  {
   "cell_type": "code",
   "execution_count": 9,
   "id": "637ebad8",
   "metadata": {
    "execution": {
     "iopub.execute_input": "2022-04-08T15:36:05.636965Z",
     "iopub.status.busy": "2022-04-08T15:36:05.636096Z",
     "iopub.status.idle": "2022-04-08T15:36:05.638517Z",
     "shell.execute_reply": "2022-04-08T15:36:05.638119Z",
     "shell.execute_reply.started": "2022-04-08T15:26:16.481315Z"
    },
    "papermill": {
     "duration": 0.034972,
     "end_time": "2022-04-08T15:36:05.638619",
     "exception": false,
     "start_time": "2022-04-08T15:36:05.603647",
     "status": "completed"
    },
    "tags": []
   },
   "outputs": [],
   "source": [
    "def train_model(model, criterion, optimizer, scheduler, num_epochs=NUM_EPOCHS , path='model.pth'):\n",
    "    since = time.time()\n",
    "    best_model_wts = copy.deepcopy(model.state_dict())\n",
    "    best_loss = math.inf\n",
    "    best_acc = 0.\n",
    "\n",
    "    train_log = {'loss': [],\n",
    "                 'acc': []}\n",
    "    val_log = {'loss': [],\n",
    "              'acc': []}\n",
    "    \n",
    "    for epoch in range(num_epochs):\n",
    "        \n",
    "        print('-'*5, f'Epoch {epoch+1}/{num_epochs}', '-'*5)\n",
    "        \n",
    "        for phase in ['train', 'val']:\n",
    "            if phase == 'train':\n",
    "                model.train()\n",
    "            else:\n",
    "                model.eval()\n",
    "            \n",
    "            running_loss = 0.0\n",
    "            running_correct = 0\n",
    "            \n",
    "            for i, (inputs, labels) in tqdm(enumerate(data_loader[phase])):\n",
    "                inputs = inputs.to(device)\n",
    "                labels = labels.to(device)\n",
    "                \n",
    "                optimizer.zero_grad()\n",
    "                \n",
    "                with torch.set_grad_enabled(phase=='train'):\n",
    "                    outputs = model(inputs)\n",
    "                    _, preds = torch.max(outputs, 1)\n",
    "                    loss = criterion(outputs, labels)\n",
    "                    if phase=='train':\n",
    "                        loss.backward()\n",
    "                        optimizer.step()\n",
    "                \n",
    "                running_loss += loss.item()*inputs.size(0)\n",
    "                running_correct += torch.sum(preds==labels.data).item()\n",
    "                \n",
    "            epoch_loss = running_loss / dataset_sizes[phase]\n",
    "            epoch_acc = running_correct / dataset_sizes[phase]\n",
    "            print('{} loss: {:.4f} acc: {:.4f}'.format(phase, epoch_loss, epoch_acc))\n",
    "            \n",
    "            if phase == 'train':\n",
    "                scheduler.step()\n",
    "                train_log['loss'].append(epoch_loss)\n",
    "                train_log['acc'].append(epoch_acc)\n",
    "            else:\n",
    "                val_log['loss'].append(epoch_loss)\n",
    "                val_log['acc'].append(epoch_acc)\n",
    "            \n",
    "            if phase == 'val' and epoch_acc > best_acc:\n",
    "                print(f'New acc: {epoch_acc:.4f}, previous acc: {best_acc:.4f}')\n",
    "                best_loss = epoch_loss\n",
    "                best_acc = epoch_acc\n",
    "                best_model_wts = copy.deepcopy(model.state_dict())\n",
    "                torch.save(model.state_dict(), path)\n",
    "                \n",
    "    time_elapsed = time.time()-since\n",
    "    print('Training complete in: {:.0f}m {:.0f}s'.format(time_elapsed//60, time_elapsed%60))\n",
    "    print('Best val acc: {:.4f} Best val loss: {:.4f}'.format(best_acc, best_loss))\n",
    "    \n",
    "    model.load_state_dict(best_model_wts)\n",
    "    return model, train_log, val_log"
   ]
  },
  {
   "cell_type": "code",
   "execution_count": 10,
   "id": "aeb72626",
   "metadata": {
    "execution": {
     "iopub.execute_input": "2022-04-08T15:36:05.678899Z",
     "iopub.status.busy": "2022-04-08T15:36:05.678038Z",
     "iopub.status.idle": "2022-04-08T19:53:32.821289Z",
     "shell.execute_reply": "2022-04-08T19:53:32.821700Z",
     "shell.execute_reply.started": "2022-04-08T15:26:21.499410Z"
    },
    "papermill": {
     "duration": 15447.16533,
     "end_time": "2022-04-08T19:53:32.821862",
     "exception": false,
     "start_time": "2022-04-08T15:36:05.656532",
     "status": "completed"
    },
    "tags": []
   },
   "outputs": [
    {
     "name": "stdout",
     "output_type": "stream",
     "text": [
      "----- Epoch 1/50 -----\n"
     ]
    },
    {
     "name": "stderr",
     "output_type": "stream",
     "text": [
      "1114it [05:07,  3.63it/s]"
     ]
    },
    {
     "name": "stdout",
     "output_type": "stream",
     "text": [
      "train loss: 1.2547 acc: 0.5425\n"
     ]
    },
    {
     "name": "stderr",
     "output_type": "stream",
     "text": [
      "\n",
      "140it [00:23,  6.03it/s]\n"
     ]
    },
    {
     "name": "stdout",
     "output_type": "stream",
     "text": [
      "val loss: 1.0673 acc: 0.6542\n",
      "New acc: 0.6542, previous acc: 0.0000\n",
      "----- Epoch 2/50 -----\n"
     ]
    },
    {
     "name": "stderr",
     "output_type": "stream",
     "text": [
      "1114it [04:41,  3.96it/s]"
     ]
    },
    {
     "name": "stdout",
     "output_type": "stream",
     "text": [
      "train loss: 1.1326 acc: 0.6064\n"
     ]
    },
    {
     "name": "stderr",
     "output_type": "stream",
     "text": [
      "\n",
      "140it [00:19,  7.16it/s]\n"
     ]
    },
    {
     "name": "stdout",
     "output_type": "stream",
     "text": [
      "val loss: 0.9683 acc: 0.7009\n",
      "New acc: 0.7009, previous acc: 0.6542\n",
      "----- Epoch 3/50 -----\n"
     ]
    },
    {
     "name": "stderr",
     "output_type": "stream",
     "text": [
      "1114it [04:44,  3.91it/s]"
     ]
    },
    {
     "name": "stdout",
     "output_type": "stream",
     "text": [
      "train loss: 1.0580 acc: 0.6470\n"
     ]
    },
    {
     "name": "stderr",
     "output_type": "stream",
     "text": [
      "\n",
      "140it [00:19,  7.11it/s]\n"
     ]
    },
    {
     "name": "stdout",
     "output_type": "stream",
     "text": [
      "val loss: 0.8357 acc: 0.7777\n",
      "New acc: 0.7777, previous acc: 0.7009\n",
      "----- Epoch 4/50 -----\n"
     ]
    },
    {
     "name": "stderr",
     "output_type": "stream",
     "text": [
      "1114it [04:45,  3.90it/s]"
     ]
    },
    {
     "name": "stdout",
     "output_type": "stream",
     "text": [
      "train loss: 0.9933 acc: 0.6824\n"
     ]
    },
    {
     "name": "stderr",
     "output_type": "stream",
     "text": [
      "\n",
      "140it [00:21,  6.59it/s]\n"
     ]
    },
    {
     "name": "stdout",
     "output_type": "stream",
     "text": [
      "val loss: 0.7929 acc: 0.8047\n",
      "New acc: 0.8047, previous acc: 0.7777\n",
      "----- Epoch 5/50 -----\n"
     ]
    },
    {
     "name": "stderr",
     "output_type": "stream",
     "text": [
      "1114it [04:46,  3.88it/s]"
     ]
    },
    {
     "name": "stdout",
     "output_type": "stream",
     "text": [
      "train loss: 0.9510 acc: 0.7071\n"
     ]
    },
    {
     "name": "stderr",
     "output_type": "stream",
     "text": [
      "\n",
      "140it [00:20,  6.90it/s]"
     ]
    },
    {
     "name": "stdout",
     "output_type": "stream",
     "text": [
      "val loss: 0.8083 acc: 0.7845\n",
      "----- Epoch 6/50 -----\n"
     ]
    },
    {
     "name": "stderr",
     "output_type": "stream",
     "text": [
      "\n",
      "1114it [04:49,  3.85it/s]"
     ]
    },
    {
     "name": "stdout",
     "output_type": "stream",
     "text": [
      "train loss: 0.9045 acc: 0.7336\n"
     ]
    },
    {
     "name": "stderr",
     "output_type": "stream",
     "text": [
      "\n",
      "140it [00:19,  7.16it/s]\n"
     ]
    },
    {
     "name": "stdout",
     "output_type": "stream",
     "text": [
      "val loss: 0.7116 acc: 0.8388\n",
      "New acc: 0.8388, previous acc: 0.8047\n",
      "----- Epoch 7/50 -----\n"
     ]
    },
    {
     "name": "stderr",
     "output_type": "stream",
     "text": [
      "1114it [04:49,  3.85it/s]"
     ]
    },
    {
     "name": "stdout",
     "output_type": "stream",
     "text": [
      "train loss: 0.8836 acc: 0.7441\n"
     ]
    },
    {
     "name": "stderr",
     "output_type": "stream",
     "text": [
      "\n",
      "140it [00:20,  6.68it/s]"
     ]
    },
    {
     "name": "stdout",
     "output_type": "stream",
     "text": [
      "val loss: 0.7689 acc: 0.8163\n",
      "----- Epoch 8/50 -----\n"
     ]
    },
    {
     "name": "stderr",
     "output_type": "stream",
     "text": [
      "\n",
      "1114it [04:52,  3.81it/s]"
     ]
    },
    {
     "name": "stdout",
     "output_type": "stream",
     "text": [
      "train loss: 0.8581 acc: 0.7568\n"
     ]
    },
    {
     "name": "stderr",
     "output_type": "stream",
     "text": [
      "\n",
      "140it [00:21,  6.53it/s]"
     ]
    },
    {
     "name": "stdout",
     "output_type": "stream",
     "text": [
      "val loss: 0.7586 acc: 0.8348\n",
      "----- Epoch 9/50 -----\n"
     ]
    },
    {
     "name": "stderr",
     "output_type": "stream",
     "text": [
      "\n",
      "1114it [04:47,  3.88it/s]"
     ]
    },
    {
     "name": "stdout",
     "output_type": "stream",
     "text": [
      "train loss: 0.8406 acc: 0.7699\n"
     ]
    },
    {
     "name": "stderr",
     "output_type": "stream",
     "text": [
      "\n",
      "140it [00:19,  7.07it/s]\n"
     ]
    },
    {
     "name": "stdout",
     "output_type": "stream",
     "text": [
      "val loss: 0.6568 acc: 0.8693\n",
      "New acc: 0.8693, previous acc: 0.8388\n",
      "----- Epoch 10/50 -----\n"
     ]
    },
    {
     "name": "stderr",
     "output_type": "stream",
     "text": [
      "1114it [04:45,  3.91it/s]"
     ]
    },
    {
     "name": "stdout",
     "output_type": "stream",
     "text": [
      "train loss: 0.8267 acc: 0.7734\n"
     ]
    },
    {
     "name": "stderr",
     "output_type": "stream",
     "text": [
      "\n",
      "140it [00:21,  6.44it/s]"
     ]
    },
    {
     "name": "stdout",
     "output_type": "stream",
     "text": [
      "val loss: 0.6581 acc: 0.8675\n",
      "----- Epoch 11/50 -----\n"
     ]
    },
    {
     "name": "stderr",
     "output_type": "stream",
     "text": [
      "\n",
      "1114it [04:44,  3.92it/s]"
     ]
    },
    {
     "name": "stdout",
     "output_type": "stream",
     "text": [
      "train loss: 0.7976 acc: 0.7882\n"
     ]
    },
    {
     "name": "stderr",
     "output_type": "stream",
     "text": [
      "\n",
      "140it [00:19,  7.15it/s]"
     ]
    },
    {
     "name": "stdout",
     "output_type": "stream",
     "text": [
      "val loss: 0.6713 acc: 0.8608\n",
      "----- Epoch 12/50 -----\n"
     ]
    },
    {
     "name": "stderr",
     "output_type": "stream",
     "text": [
      "\n",
      "1114it [04:46,  3.89it/s]"
     ]
    },
    {
     "name": "stdout",
     "output_type": "stream",
     "text": [
      "train loss: 0.7833 acc: 0.7947\n"
     ]
    },
    {
     "name": "stderr",
     "output_type": "stream",
     "text": [
      "\n",
      "140it [00:18,  7.39it/s]"
     ]
    },
    {
     "name": "stdout",
     "output_type": "stream",
     "text": [
      "val loss: 0.6646 acc: 0.8644\n",
      "----- Epoch 13/50 -----\n"
     ]
    },
    {
     "name": "stderr",
     "output_type": "stream",
     "text": [
      "\n",
      "1114it [04:45,  3.90it/s]"
     ]
    },
    {
     "name": "stdout",
     "output_type": "stream",
     "text": [
      "train loss: 0.7769 acc: 0.7970\n"
     ]
    },
    {
     "name": "stderr",
     "output_type": "stream",
     "text": [
      "\n",
      "140it [00:23,  6.04it/s]"
     ]
    },
    {
     "name": "stdout",
     "output_type": "stream",
     "text": [
      "val loss: 0.6740 acc: 0.8630\n",
      "----- Epoch 14/50 -----\n"
     ]
    },
    {
     "name": "stderr",
     "output_type": "stream",
     "text": [
      "\n",
      "1114it [04:46,  3.89it/s]"
     ]
    },
    {
     "name": "stdout",
     "output_type": "stream",
     "text": [
      "train loss: 0.7731 acc: 0.8036\n"
     ]
    },
    {
     "name": "stderr",
     "output_type": "stream",
     "text": [
      "\n",
      "140it [00:19,  7.09it/s]"
     ]
    },
    {
     "name": "stdout",
     "output_type": "stream",
     "text": [
      "val loss: 0.6675 acc: 0.8604\n",
      "----- Epoch 15/50 -----\n"
     ]
    },
    {
     "name": "stderr",
     "output_type": "stream",
     "text": [
      "\n",
      "1114it [04:48,  3.86it/s]"
     ]
    },
    {
     "name": "stdout",
     "output_type": "stream",
     "text": [
      "train loss: 0.7648 acc: 0.8068\n"
     ]
    },
    {
     "name": "stderr",
     "output_type": "stream",
     "text": [
      "\n",
      "140it [00:19,  7.34it/s]\n"
     ]
    },
    {
     "name": "stdout",
     "output_type": "stream",
     "text": [
      "val loss: 0.6363 acc: 0.8783\n",
      "New acc: 0.8783, previous acc: 0.8693\n",
      "----- Epoch 16/50 -----\n"
     ]
    },
    {
     "name": "stderr",
     "output_type": "stream",
     "text": [
      "1114it [04:49,  3.85it/s]"
     ]
    },
    {
     "name": "stdout",
     "output_type": "stream",
     "text": [
      "train loss: 0.7564 acc: 0.8106\n"
     ]
    },
    {
     "name": "stderr",
     "output_type": "stream",
     "text": [
      "\n",
      "140it [00:19,  7.04it/s]\n"
     ]
    },
    {
     "name": "stdout",
     "output_type": "stream",
     "text": [
      "val loss: 0.6435 acc: 0.8850\n",
      "New acc: 0.8850, previous acc: 0.8783\n",
      "----- Epoch 17/50 -----\n"
     ]
    },
    {
     "name": "stderr",
     "output_type": "stream",
     "text": [
      "1114it [04:49,  3.85it/s]"
     ]
    },
    {
     "name": "stdout",
     "output_type": "stream",
     "text": [
      "train loss: 0.7560 acc: 0.8099\n"
     ]
    },
    {
     "name": "stderr",
     "output_type": "stream",
     "text": [
      "\n",
      "140it [00:24,  5.81it/s]\n"
     ]
    },
    {
     "name": "stdout",
     "output_type": "stream",
     "text": [
      "val loss: 0.6117 acc: 0.8949\n",
      "New acc: 0.8949, previous acc: 0.8850\n",
      "----- Epoch 18/50 -----\n"
     ]
    },
    {
     "name": "stderr",
     "output_type": "stream",
     "text": [
      "1114it [04:51,  3.82it/s]"
     ]
    },
    {
     "name": "stdout",
     "output_type": "stream",
     "text": [
      "train loss: 0.7531 acc: 0.8104\n"
     ]
    },
    {
     "name": "stderr",
     "output_type": "stream",
     "text": [
      "\n",
      "140it [00:21,  6.52it/s]\n"
     ]
    },
    {
     "name": "stdout",
     "output_type": "stream",
     "text": [
      "val loss: 0.6012 acc: 0.9003\n",
      "New acc: 0.9003, previous acc: 0.8949\n",
      "----- Epoch 19/50 -----\n"
     ]
    },
    {
     "name": "stderr",
     "output_type": "stream",
     "text": [
      "1114it [04:41,  3.95it/s]"
     ]
    },
    {
     "name": "stdout",
     "output_type": "stream",
     "text": [
      "train loss: 0.7484 acc: 0.8146\n"
     ]
    },
    {
     "name": "stderr",
     "output_type": "stream",
     "text": [
      "\n",
      "140it [00:19,  7.04it/s]"
     ]
    },
    {
     "name": "stdout",
     "output_type": "stream",
     "text": [
      "val loss: 0.6147 acc: 0.8945\n",
      "----- Epoch 20/50 -----\n"
     ]
    },
    {
     "name": "stderr",
     "output_type": "stream",
     "text": [
      "\n",
      "1114it [04:42,  3.95it/s]"
     ]
    },
    {
     "name": "stdout",
     "output_type": "stream",
     "text": [
      "train loss: 0.7442 acc: 0.8178\n"
     ]
    },
    {
     "name": "stderr",
     "output_type": "stream",
     "text": [
      "\n",
      "140it [00:19,  7.19it/s]\n"
     ]
    },
    {
     "name": "stdout",
     "output_type": "stream",
     "text": [
      "val loss: 0.5973 acc: 0.9070\n",
      "New acc: 0.9070, previous acc: 0.9003\n",
      "----- Epoch 21/50 -----\n"
     ]
    },
    {
     "name": "stderr",
     "output_type": "stream",
     "text": [
      "1114it [04:46,  3.88it/s]"
     ]
    },
    {
     "name": "stdout",
     "output_type": "stream",
     "text": [
      "train loss: 0.7268 acc: 0.8267\n"
     ]
    },
    {
     "name": "stderr",
     "output_type": "stream",
     "text": [
      "\n",
      "140it [00:19,  7.19it/s]"
     ]
    },
    {
     "name": "stdout",
     "output_type": "stream",
     "text": [
      "val loss: 0.6061 acc: 0.8954\n",
      "----- Epoch 22/50 -----\n"
     ]
    },
    {
     "name": "stderr",
     "output_type": "stream",
     "text": [
      "\n",
      "1114it [04:44,  3.91it/s]"
     ]
    },
    {
     "name": "stdout",
     "output_type": "stream",
     "text": [
      "train loss: 0.7221 acc: 0.8281\n"
     ]
    },
    {
     "name": "stderr",
     "output_type": "stream",
     "text": [
      "\n",
      "140it [00:25,  5.51it/s]\n"
     ]
    },
    {
     "name": "stdout",
     "output_type": "stream",
     "text": [
      "val loss: 0.5763 acc: 0.9138\n",
      "New acc: 0.9138, previous acc: 0.9070\n",
      "----- Epoch 23/50 -----\n"
     ]
    },
    {
     "name": "stderr",
     "output_type": "stream",
     "text": [
      "1114it [04:46,  3.88it/s]"
     ]
    },
    {
     "name": "stdout",
     "output_type": "stream",
     "text": [
      "train loss: 0.7203 acc: 0.8314\n"
     ]
    },
    {
     "name": "stderr",
     "output_type": "stream",
     "text": [
      "\n",
      "140it [00:19,  7.25it/s]"
     ]
    },
    {
     "name": "stdout",
     "output_type": "stream",
     "text": [
      "val loss: 0.5791 acc: 0.9106\n",
      "----- Epoch 24/50 -----\n"
     ]
    },
    {
     "name": "stderr",
     "output_type": "stream",
     "text": [
      "\n",
      "1114it [04:48,  3.87it/s]"
     ]
    },
    {
     "name": "stdout",
     "output_type": "stream",
     "text": [
      "train loss: 0.7115 acc: 0.8360\n"
     ]
    },
    {
     "name": "stderr",
     "output_type": "stream",
     "text": [
      "\n",
      "140it [00:19,  7.10it/s]"
     ]
    },
    {
     "name": "stdout",
     "output_type": "stream",
     "text": [
      "val loss: 0.5968 acc: 0.9030\n",
      "----- Epoch 25/50 -----\n"
     ]
    },
    {
     "name": "stderr",
     "output_type": "stream",
     "text": [
      "\n",
      "1114it [04:49,  3.85it/s]"
     ]
    },
    {
     "name": "stdout",
     "output_type": "stream",
     "text": [
      "train loss: 0.7126 acc: 0.8322\n"
     ]
    },
    {
     "name": "stderr",
     "output_type": "stream",
     "text": [
      "\n",
      "140it [00:19,  7.01it/s]"
     ]
    },
    {
     "name": "stdout",
     "output_type": "stream",
     "text": [
      "val loss: 0.5865 acc: 0.9012\n",
      "----- Epoch 26/50 -----\n"
     ]
    },
    {
     "name": "stderr",
     "output_type": "stream",
     "text": [
      "\n",
      "1114it [04:48,  3.86it/s]"
     ]
    },
    {
     "name": "stdout",
     "output_type": "stream",
     "text": [
      "train loss: 0.7043 acc: 0.8377\n"
     ]
    },
    {
     "name": "stderr",
     "output_type": "stream",
     "text": [
      "\n",
      "140it [00:19,  7.36it/s]"
     ]
    },
    {
     "name": "stdout",
     "output_type": "stream",
     "text": [
      "val loss: 0.5903 acc: 0.9120\n",
      "----- Epoch 27/50 -----\n"
     ]
    },
    {
     "name": "stderr",
     "output_type": "stream",
     "text": [
      "\n",
      "1114it [04:45,  3.91it/s]"
     ]
    },
    {
     "name": "stdout",
     "output_type": "stream",
     "text": [
      "train loss: 0.7032 acc: 0.8385\n"
     ]
    },
    {
     "name": "stderr",
     "output_type": "stream",
     "text": [
      "\n",
      "140it [00:25,  5.44it/s]"
     ]
    },
    {
     "name": "stdout",
     "output_type": "stream",
     "text": [
      "val loss: 0.6092 acc: 0.8958\n",
      "----- Epoch 28/50 -----\n"
     ]
    },
    {
     "name": "stderr",
     "output_type": "stream",
     "text": [
      "\n",
      "1114it [04:46,  3.88it/s]"
     ]
    },
    {
     "name": "stdout",
     "output_type": "stream",
     "text": [
      "train loss: 0.7041 acc: 0.8379\n"
     ]
    },
    {
     "name": "stderr",
     "output_type": "stream",
     "text": [
      "\n",
      "140it [00:20,  6.88it/s]"
     ]
    },
    {
     "name": "stdout",
     "output_type": "stream",
     "text": [
      "val loss: 0.5945 acc: 0.9044\n",
      "----- Epoch 29/50 -----\n"
     ]
    },
    {
     "name": "stderr",
     "output_type": "stream",
     "text": [
      "\n",
      "1114it [04:46,  3.89it/s]"
     ]
    },
    {
     "name": "stdout",
     "output_type": "stream",
     "text": [
      "train loss: 0.7062 acc: 0.8379\n"
     ]
    },
    {
     "name": "stderr",
     "output_type": "stream",
     "text": [
      "\n",
      "140it [00:18,  7.39it/s]"
     ]
    },
    {
     "name": "stdout",
     "output_type": "stream",
     "text": [
      "val loss: 0.5738 acc: 0.9133\n",
      "----- Epoch 30/50 -----\n"
     ]
    },
    {
     "name": "stderr",
     "output_type": "stream",
     "text": [
      "\n",
      "1114it [04:46,  3.89it/s]"
     ]
    },
    {
     "name": "stdout",
     "output_type": "stream",
     "text": [
      "train loss: 0.6991 acc: 0.8403\n"
     ]
    },
    {
     "name": "stderr",
     "output_type": "stream",
     "text": [
      "\n",
      "140it [00:19,  7.21it/s]"
     ]
    },
    {
     "name": "stdout",
     "output_type": "stream",
     "text": [
      "val loss: 0.5899 acc: 0.9066\n",
      "----- Epoch 31/50 -----\n"
     ]
    },
    {
     "name": "stderr",
     "output_type": "stream",
     "text": [
      "\n",
      "1114it [04:56,  3.76it/s]"
     ]
    },
    {
     "name": "stdout",
     "output_type": "stream",
     "text": [
      "train loss: 0.6912 acc: 0.8444\n"
     ]
    },
    {
     "name": "stderr",
     "output_type": "stream",
     "text": [
      "\n",
      "140it [00:19,  7.17it/s]\n"
     ]
    },
    {
     "name": "stdout",
     "output_type": "stream",
     "text": [
      "val loss: 0.5745 acc: 0.9160\n",
      "New acc: 0.9160, previous acc: 0.9138\n",
      "----- Epoch 32/50 -----\n"
     ]
    },
    {
     "name": "stderr",
     "output_type": "stream",
     "text": [
      "1114it [04:48,  3.86it/s]"
     ]
    },
    {
     "name": "stdout",
     "output_type": "stream",
     "text": [
      "train loss: 0.6908 acc: 0.8447\n"
     ]
    },
    {
     "name": "stderr",
     "output_type": "stream",
     "text": [
      "\n",
      "140it [00:19,  7.17it/s]"
     ]
    },
    {
     "name": "stdout",
     "output_type": "stream",
     "text": [
      "val loss: 0.5783 acc: 0.9133\n",
      "----- Epoch 33/50 -----\n"
     ]
    },
    {
     "name": "stderr",
     "output_type": "stream",
     "text": [
      "\n",
      "1114it [04:49,  3.85it/s]"
     ]
    },
    {
     "name": "stdout",
     "output_type": "stream",
     "text": [
      "train loss: 0.6828 acc: 0.8522\n"
     ]
    },
    {
     "name": "stderr",
     "output_type": "stream",
     "text": [
      "\n",
      "140it [00:19,  7.19it/s]\n"
     ]
    },
    {
     "name": "stdout",
     "output_type": "stream",
     "text": [
      "val loss: 0.5606 acc: 0.9250\n",
      "New acc: 0.9250, previous acc: 0.9160\n",
      "----- Epoch 34/50 -----\n"
     ]
    },
    {
     "name": "stderr",
     "output_type": "stream",
     "text": [
      "1114it [04:52,  3.80it/s]"
     ]
    },
    {
     "name": "stdout",
     "output_type": "stream",
     "text": [
      "train loss: 0.6926 acc: 0.8441\n"
     ]
    },
    {
     "name": "stderr",
     "output_type": "stream",
     "text": [
      "\n",
      "140it [00:19,  7.03it/s]"
     ]
    },
    {
     "name": "stdout",
     "output_type": "stream",
     "text": [
      "val loss: 0.5624 acc: 0.9237\n",
      "----- Epoch 35/50 -----\n"
     ]
    },
    {
     "name": "stderr",
     "output_type": "stream",
     "text": [
      "\n",
      "1114it [04:53,  3.79it/s]"
     ]
    },
    {
     "name": "stdout",
     "output_type": "stream",
     "text": [
      "train loss: 0.6878 acc: 0.8469\n"
     ]
    },
    {
     "name": "stderr",
     "output_type": "stream",
     "text": [
      "\n",
      "140it [00:24,  5.63it/s]"
     ]
    },
    {
     "name": "stdout",
     "output_type": "stream",
     "text": [
      "val loss: 0.5640 acc: 0.9210\n",
      "----- Epoch 36/50 -----\n"
     ]
    },
    {
     "name": "stderr",
     "output_type": "stream",
     "text": [
      "\n",
      "1114it [04:49,  3.85it/s]"
     ]
    },
    {
     "name": "stdout",
     "output_type": "stream",
     "text": [
      "train loss: 0.6848 acc: 0.8508\n"
     ]
    },
    {
     "name": "stderr",
     "output_type": "stream",
     "text": [
      "\n",
      "140it [00:25,  5.44it/s]"
     ]
    },
    {
     "name": "stdout",
     "output_type": "stream",
     "text": [
      "val loss: 0.5588 acc: 0.9246\n",
      "----- Epoch 37/50 -----\n"
     ]
    },
    {
     "name": "stderr",
     "output_type": "stream",
     "text": [
      "\n",
      "1114it [04:44,  3.91it/s]"
     ]
    },
    {
     "name": "stdout",
     "output_type": "stream",
     "text": [
      "train loss: 0.6865 acc: 0.8485\n"
     ]
    },
    {
     "name": "stderr",
     "output_type": "stream",
     "text": [
      "\n",
      "140it [00:20,  6.93it/s]"
     ]
    },
    {
     "name": "stdout",
     "output_type": "stream",
     "text": [
      "val loss: 0.5638 acc: 0.9192\n",
      "----- Epoch 38/50 -----\n"
     ]
    },
    {
     "name": "stderr",
     "output_type": "stream",
     "text": [
      "\n",
      "1114it [04:43,  3.93it/s]"
     ]
    },
    {
     "name": "stdout",
     "output_type": "stream",
     "text": [
      "train loss: 0.6838 acc: 0.8495\n"
     ]
    },
    {
     "name": "stderr",
     "output_type": "stream",
     "text": [
      "\n",
      "140it [00:19,  7.28it/s]"
     ]
    },
    {
     "name": "stdout",
     "output_type": "stream",
     "text": [
      "val loss: 0.5820 acc: 0.9093\n",
      "----- Epoch 39/50 -----\n"
     ]
    },
    {
     "name": "stderr",
     "output_type": "stream",
     "text": [
      "\n",
      "1114it [04:43,  3.93it/s]"
     ]
    },
    {
     "name": "stdout",
     "output_type": "stream",
     "text": [
      "train loss: 0.6820 acc: 0.8511\n"
     ]
    },
    {
     "name": "stderr",
     "output_type": "stream",
     "text": [
      "\n",
      "140it [00:19,  7.14it/s]"
     ]
    },
    {
     "name": "stdout",
     "output_type": "stream",
     "text": [
      "val loss: 0.5683 acc: 0.9174\n",
      "----- Epoch 40/50 -----\n"
     ]
    },
    {
     "name": "stderr",
     "output_type": "stream",
     "text": [
      "\n",
      "1114it [04:46,  3.89it/s]"
     ]
    },
    {
     "name": "stdout",
     "output_type": "stream",
     "text": [
      "train loss: 0.6858 acc: 0.8480\n"
     ]
    },
    {
     "name": "stderr",
     "output_type": "stream",
     "text": [
      "\n",
      "140it [00:27,  5.09it/s]"
     ]
    },
    {
     "name": "stdout",
     "output_type": "stream",
     "text": [
      "val loss: 0.5566 acc: 0.9223\n",
      "----- Epoch 41/50 -----\n"
     ]
    },
    {
     "name": "stderr",
     "output_type": "stream",
     "text": [
      "\n",
      "1114it [04:50,  3.83it/s]"
     ]
    },
    {
     "name": "stdout",
     "output_type": "stream",
     "text": [
      "train loss: 0.6798 acc: 0.8524\n"
     ]
    },
    {
     "name": "stderr",
     "output_type": "stream",
     "text": [
      "\n",
      "140it [00:19,  7.15it/s]\n"
     ]
    },
    {
     "name": "stdout",
     "output_type": "stream",
     "text": [
      "val loss: 0.5535 acc: 0.9282\n",
      "New acc: 0.9282, previous acc: 0.9250\n",
      "----- Epoch 42/50 -----\n"
     ]
    },
    {
     "name": "stderr",
     "output_type": "stream",
     "text": [
      "1114it [04:46,  3.88it/s]"
     ]
    },
    {
     "name": "stdout",
     "output_type": "stream",
     "text": [
      "train loss: 0.6763 acc: 0.8522\n"
     ]
    },
    {
     "name": "stderr",
     "output_type": "stream",
     "text": [
      "\n",
      "140it [00:19,  7.31it/s]"
     ]
    },
    {
     "name": "stdout",
     "output_type": "stream",
     "text": [
      "val loss: 0.5581 acc: 0.9259\n",
      "----- Epoch 43/50 -----\n"
     ]
    },
    {
     "name": "stderr",
     "output_type": "stream",
     "text": [
      "\n",
      "1114it [04:47,  3.88it/s]"
     ]
    },
    {
     "name": "stdout",
     "output_type": "stream",
     "text": [
      "train loss: 0.6812 acc: 0.8530\n"
     ]
    },
    {
     "name": "stderr",
     "output_type": "stream",
     "text": [
      "\n",
      "140it [00:19,  7.22it/s]"
     ]
    },
    {
     "name": "stdout",
     "output_type": "stream",
     "text": [
      "val loss: 0.5568 acc: 0.9237\n",
      "----- Epoch 44/50 -----\n"
     ]
    },
    {
     "name": "stderr",
     "output_type": "stream",
     "text": [
      "\n",
      "1114it [04:49,  3.85it/s]"
     ]
    },
    {
     "name": "stdout",
     "output_type": "stream",
     "text": [
      "train loss: 0.6747 acc: 0.8535\n"
     ]
    },
    {
     "name": "stderr",
     "output_type": "stream",
     "text": [
      "\n",
      "140it [00:19,  7.10it/s]"
     ]
    },
    {
     "name": "stdout",
     "output_type": "stream",
     "text": [
      "val loss: 0.5574 acc: 0.9255\n",
      "----- Epoch 45/50 -----\n"
     ]
    },
    {
     "name": "stderr",
     "output_type": "stream",
     "text": [
      "\n",
      "1114it [04:45,  3.90it/s]"
     ]
    },
    {
     "name": "stdout",
     "output_type": "stream",
     "text": [
      "train loss: 0.6792 acc: 0.8476\n"
     ]
    },
    {
     "name": "stderr",
     "output_type": "stream",
     "text": [
      "\n",
      "140it [00:19,  7.30it/s]"
     ]
    },
    {
     "name": "stdout",
     "output_type": "stream",
     "text": [
      "val loss: 0.5660 acc: 0.9205\n",
      "----- Epoch 46/50 -----\n"
     ]
    },
    {
     "name": "stderr",
     "output_type": "stream",
     "text": [
      "\n",
      "1114it [04:47,  3.87it/s]"
     ]
    },
    {
     "name": "stdout",
     "output_type": "stream",
     "text": [
      "train loss: 0.6793 acc: 0.8526\n"
     ]
    },
    {
     "name": "stderr",
     "output_type": "stream",
     "text": [
      "\n",
      "140it [00:19,  7.12it/s]"
     ]
    },
    {
     "name": "stdout",
     "output_type": "stream",
     "text": [
      "val loss: 0.5560 acc: 0.9250\n",
      "----- Epoch 47/50 -----\n"
     ]
    },
    {
     "name": "stderr",
     "output_type": "stream",
     "text": [
      "\n",
      "1114it [04:47,  3.87it/s]"
     ]
    },
    {
     "name": "stdout",
     "output_type": "stream",
     "text": [
      "train loss: 0.6699 acc: 0.8564\n"
     ]
    },
    {
     "name": "stderr",
     "output_type": "stream",
     "text": [
      "\n",
      "140it [00:19,  7.08it/s]"
     ]
    },
    {
     "name": "stdout",
     "output_type": "stream",
     "text": [
      "val loss: 0.5722 acc: 0.9178\n",
      "----- Epoch 48/50 -----\n"
     ]
    },
    {
     "name": "stderr",
     "output_type": "stream",
     "text": [
      "\n",
      "1114it [04:47,  3.87it/s]\n"
     ]
    },
    {
     "name": "stdout",
     "output_type": "stream",
     "text": [
      "train loss: 0.6713 acc: 0.8538\n"
     ]
    },
    {
     "name": "stderr",
     "output_type": "stream",
     "text": [
      "140it [00:19,  7.29it/s]"
     ]
    },
    {
     "name": "stdout",
     "output_type": "stream",
     "text": [
      "val loss: 0.5689 acc: 0.9205\n",
      "----- Epoch 49/50 -----\n"
     ]
    },
    {
     "name": "stderr",
     "output_type": "stream",
     "text": [
      "\n",
      "1114it [04:49,  3.84it/s]"
     ]
    },
    {
     "name": "stdout",
     "output_type": "stream",
     "text": [
      "train loss: 0.6654 acc: 0.8598\n"
     ]
    },
    {
     "name": "stderr",
     "output_type": "stream",
     "text": [
      "\n",
      "140it [00:28,  4.84it/s]"
     ]
    },
    {
     "name": "stdout",
     "output_type": "stream",
     "text": [
      "val loss: 0.5491 acc: 0.9282\n",
      "----- Epoch 50/50 -----\n"
     ]
    },
    {
     "name": "stderr",
     "output_type": "stream",
     "text": [
      "\n",
      "1114it [04:50,  3.84it/s]"
     ]
    },
    {
     "name": "stdout",
     "output_type": "stream",
     "text": [
      "train loss: 0.6755 acc: 0.8537\n"
     ]
    },
    {
     "name": "stderr",
     "output_type": "stream",
     "text": [
      "\n",
      "140it [00:20,  6.88it/s]"
     ]
    },
    {
     "name": "stdout",
     "output_type": "stream",
     "text": [
      "val loss: 0.5594 acc: 0.9259\n",
      "Training complete in: 257m 27s\n",
      "Best val acc: 0.9282 Best val loss: 0.5535\n"
     ]
    },
    {
     "name": "stderr",
     "output_type": "stream",
     "text": [
      "\n"
     ]
    }
   ],
   "source": [
    "model, train_log, val_log = train_model(model, criterion, optimizer, scheduler)"
   ]
  },
  {
   "cell_type": "code",
   "execution_count": 11,
   "id": "872a9ba5",
   "metadata": {
    "execution": {
     "iopub.execute_input": "2022-04-08T19:54:07.120460Z",
     "iopub.status.busy": "2022-04-08T19:54:07.119702Z",
     "iopub.status.idle": "2022-04-08T19:54:07.480404Z",
     "shell.execute_reply": "2022-04-08T19:54:07.479436Z",
     "shell.execute_reply.started": "2022-04-08T15:32:11.638066Z"
    },
    "papermill": {
     "duration": 17.673648,
     "end_time": "2022-04-08T19:54:07.480538",
     "exception": false,
     "start_time": "2022-04-08T19:53:49.806890",
     "status": "completed"
    },
    "tags": []
   },
   "outputs": [
    {
     "data": {
      "image/png": "[encoded data removed]",
      "text/plain": [
       "<Figure size 720x360 with 2 Axes>"
      ]
     },
     "metadata": {
      "needs_background": "light"
     },
     "output_type": "display_data"
    }
   ],
   "source": [
    "def plot_model_history(train_log, val_log, num_epochs):\n",
    "    n = len(train_log)\n",
    "    x = np.arange(num_epochs)\n",
    "    fig = plt.figure(figsize=(10, 5))\n",
    "    plt.title(\"Training progress\", fontsize=15)\n",
    "    for i, k in enumerate(train_log.keys()):       \n",
    "        plt.subplot(n//2, 2, i+1)\n",
    "        plt.plot(x, train_log[k], label=f'train_{k}', lw=3, c=\"b\")\n",
    "        plt.plot(x, val_log[k], label=f'val_{k}', lw=3, c=\"r\")\n",
    "        plt.legend(fontsize=12)\n",
    "        plt.xlabel(\"Epoch\", fontsize=15)\n",
    "        plt.ylabel(f\"{k}\", fontsize=15)\n",
    "    plt.show()\n",
    "    \n",
    "plot_model_history(train_log, val_log, NUM_EPOCHS)"
   ]
  },
  {
   "cell_type": "markdown",
   "id": "a73ae7cd",
   "metadata": {
    "papermill": {
     "duration": 17.152593,
     "end_time": "2022-04-08T19:54:41.709319",
     "exception": false,
     "start_time": "2022-04-08T19:54:24.556726",
     "status": "completed"
    },
    "tags": []
   },
   "source": [
    "# 5. Prediction on Test set"
   ]
  },
  {
   "cell_type": "code",
   "execution_count": 12,
   "id": "503275ea",
   "metadata": {
    "execution": {
     "iopub.execute_input": "2022-04-08T19:55:15.969790Z",
     "iopub.status.busy": "2022-04-08T19:55:15.969140Z",
     "iopub.status.idle": "2022-04-08T19:55:15.972009Z",
     "shell.execute_reply": "2022-04-08T19:55:15.971565Z",
     "shell.execute_reply.started": "2022-04-08T15:32:22.896776Z"
    },
    "papermill": {
     "duration": 17.450223,
     "end_time": "2022-04-08T19:55:15.972130",
     "exception": false,
     "start_time": "2022-04-08T19:54:58.521907",
     "status": "completed"
    },
    "tags": []
   },
   "outputs": [],
   "source": [
    "def plot_confusion_matrix(cm, classes,\n",
    "                          normalize=False,\n",
    "                          title='Confusion matrix',\n",
    "                          cmap=plt.cm.Blues):\n",
    "    \"\"\"\n",
    "    This function prints and plots the confusion matrix.\n",
    "    Normalization can be applied by setting `normalize=True`.\n",
    "    \"\"\"\n",
    "    plt.imshow(cm, interpolation='nearest', cmap=cmap)\n",
    "    plt.title(title)\n",
    "    plt.colorbar()\n",
    "    tick_marks = np.arange(len(classes))\n",
    "    plt.xticks(tick_marks, classes, rotation=45)\n",
    "    plt.yticks(tick_marks, classes)\n",
    "\n",
    "    if normalize:\n",
    "        cm = cm.astype('float') / cm.sum(axis=1)[:, np.newaxis]\n",
    "\n",
    "    thresh = cm.max() / 2.\n",
    "    for i, j in itertools.product(range(cm.shape[0]), range(cm.shape[1])):\n",
    "        plt.text(j, i, cm[i, j],\n",
    "                 horizontalalignment=\"center\",\n",
    "                 color=\"white\" if cm[i, j] > thresh else \"black\")\n",
    "\n",
    "    plt.tight_layout()\n",
    "    plt.ylabel('True label')\n",
    "    plt.xlabel('Predicted label')"
   ]
  },
  {
   "cell_type": "code",
   "execution_count": 13,
   "id": "9a58dd72",
   "metadata": {
    "execution": {
     "iopub.execute_input": "2022-04-08T19:55:50.405439Z",
     "iopub.status.busy": "2022-04-08T19:55:50.403460Z",
     "iopub.status.idle": "2022-04-08T19:55:50.511260Z",
     "shell.execute_reply": "2022-04-08T19:55:50.511673Z",
     "shell.execute_reply.started": "2022-04-08T15:32:23.616559Z"
    },
    "papermill": {
     "duration": 17.759398,
     "end_time": "2022-04-08T19:55:50.511846",
     "exception": false,
     "start_time": "2022-04-08T19:55:32.752448",
     "status": "completed"
    },
    "tags": []
   },
   "outputs": [
    {
     "data": {
      "text/plain": [
       "<All keys matched successfully>"
      ]
     },
     "execution_count": 13,
     "metadata": {},
     "output_type": "execute_result"
    }
   ],
   "source": [
    "# model = timm.create_model('resnet50', pretrained=True)\n",
    "# fc = nn.Sequential(OrderedDict([\n",
    "#     ('fc1', nn.Linear(2048, 1024)),\n",
    "#     ('relu1', nn.ReLU(inplace=True)),\n",
    "#     ('fc2', nn.Linear(1024, 256)),\n",
    "#     ('relu2', nn.ReLU(inplace=True)),\n",
    "#     ('fc3', nn.Linear(256, 5))\n",
    "# ]))\n",
    "\n",
    "# model.fc = fc\n",
    "# model = model.to(device)\n",
    "\n",
    "model.load_state_dict(torch.load('./model.pth'))"
   ]
  },
  {
   "cell_type": "code",
   "execution_count": 14,
   "id": "5da9ccb3",
   "metadata": {
    "execution": {
     "iopub.execute_input": "2022-04-08T19:56:24.585584Z",
     "iopub.status.busy": "2022-04-08T19:56:24.584554Z",
     "iopub.status.idle": "2022-04-08T19:56:51.941952Z",
     "shell.execute_reply": "2022-04-08T19:56:51.942450Z",
     "shell.execute_reply.started": "2022-04-08T15:32:25.384785Z"
    },
    "papermill": {
     "duration": 44.880269,
     "end_time": "2022-04-08T19:56:51.942594",
     "exception": false,
     "start_time": "2022-04-08T19:56:07.062325",
     "status": "completed"
    },
    "tags": []
   },
   "outputs": [
    {
     "name": "stdout",
     "output_type": "stream",
     "text": [
      "Testing complete in 0m 27s\n",
      "              precision    recall  f1-score   support\n",
      "\n",
      "           0    0.96530   0.84530   0.90133       362\n",
      "           1    0.90344   0.91694   0.91014       602\n",
      "           2    0.91089   0.95472   0.93229      1060\n",
      "           3    0.98387   0.90370   0.94208       135\n",
      "           4    0.90909   0.85714   0.88235        70\n",
      "\n",
      "    accuracy                        0.92059      2229\n",
      "   macro avg    0.93452   0.89556   0.91364      2229\n",
      "weighted avg    0.92208   0.92059   0.92030      2229\n",
      "\n"
     ]
    },
    {
     "data": {
      "image/png": "[encoded data removed]",
      "text/plain": [
       "<Figure size 432x288 with 2 Axes>"
      ]
     },
     "metadata": {
      "needs_background": "light"
     },
     "output_type": "display_data"
    }
   ],
   "source": [
    "since = time.time()\n",
    "model.eval()\n",
    "y_test = []\n",
    "y_pred = []\n",
    "y_pred_proba = []\n",
    "for images, labels in data_loader['test']:\n",
    "    images = images.to(device)\n",
    "    labels = labels.to(device)\n",
    "    outputs = model(images)\n",
    "    _, predictions = outputs.max(1)\n",
    "    \n",
    "    y_test.append(labels.data.cpu().numpy())\n",
    "    y_pred.append(predictions.data.cpu().numpy())\n",
    "    y_pred_proba.append(outputs.data.cpu().numpy())\n",
    "    \n",
    "y_test = np.concatenate(y_test)\n",
    "y_pred = np.concatenate(y_pred)\n",
    "y_pred_proba = np.concatenate(y_pred_proba)\n",
    "time_elapsed = time.time() - since\n",
    "\n",
    "print('Testing complete in {:.0f}m {:.0f}s'.format(time_elapsed // 60, time_elapsed % 60))\n",
    "\n",
    "confusion_mtx = confusion_matrix(y_test, y_pred)\n",
    "# plot the confusion matrix\n",
    "plot_labels = ['COVID', 'Lung_Opacity', 'Normal', 'Pneunomia', 'Tuberculosis']\n",
    "\n",
    "plot_confusion_matrix(confusion_mtx, plot_labels)\n",
    "report = classification_report(y_test, y_pred, digits=5)\n",
    "print(report)"
   ]
  },
  {
   "cell_type": "code",
   "execution_count": 15,
   "id": "d5fa69f2",
   "metadata": {
    "execution": {
     "iopub.execute_input": "2022-04-08T19:57:26.249690Z",
     "iopub.status.busy": "2022-04-08T19:57:26.242861Z",
     "iopub.status.idle": "2022-04-08T19:57:26.252533Z",
     "shell.execute_reply": "2022-04-08T19:57:26.251695Z",
     "shell.execute_reply.started": "2022-04-08T15:33:21.508356Z"
    },
    "papermill": {
     "duration": 17.231185,
     "end_time": "2022-04-08T19:57:26.252667",
     "exception": false,
     "start_time": "2022-04-08T19:57:09.021482",
     "status": "completed"
    },
    "tags": []
   },
   "outputs": [],
   "source": [
    "def softmax(vec):\n",
    "    exponential = np.exp(vec)\n",
    "    probabilities = exponential / np.sum(exponential)\n",
    "    return probabilities\n",
    "\n",
    "y_pred_proba = np.array([list(softmax(i)) for i in y_pred_proba])"
   ]
  },
  {
   "cell_type": "code",
   "execution_count": 16,
   "id": "094ba6f8",
   "metadata": {
    "execution": {
     "iopub.execute_input": "2022-04-08T19:58:00.797653Z",
     "iopub.status.busy": "2022-04-08T19:58:00.797111Z",
     "iopub.status.idle": "2022-04-08T19:58:01.303183Z",
     "shell.execute_reply": "2022-04-08T19:58:01.303609Z",
     "shell.execute_reply.started": "2022-04-08T15:33:21.778620Z"
    },
    "papermill": {
     "duration": 18.039253,
     "end_time": "2022-04-08T19:58:01.303772",
     "exception": false,
     "start_time": "2022-04-08T19:57:43.264519",
     "status": "completed"
    },
    "tags": []
   },
   "outputs": [
    {
     "name": "stdout",
     "output_type": "stream",
     "text": [
      "ROC curve (area = 0.9906)\n"
     ]
    },
    {
     "data": {
      "image/png": "[encoded data removed]",
      "text/plain": [
       "<Figure size 432x288 with 1 Axes>"
      ]
     },
     "metadata": {
      "needs_background": "light"
     },
     "output_type": "display_data"
    }
   ],
   "source": [
    "roc_auc = roc_auc_score(y_test, y_pred_proba, multi_class='ovo')\n",
    "print('ROC curve (area = %0.4f)' % roc_auc)\n",
    "fpr = {}\n",
    "tpr = {}\n",
    "thresh ={}\n",
    "for i in range(5):\n",
    "    fpr[i], tpr[i], thresh[i] = roc_curve(y_test, y_pred_proba[:, i], pos_label=i)\n",
    "\n",
    "# plotting    \n",
    "plt.plot(fpr[0], tpr[0], color='red', label='Class 0 vs Rest')\n",
    "plt.plot(fpr[1], tpr[1], color='green', label='Class 1 vs Rest')\n",
    "plt.plot(fpr[2], tpr[2], color='blue', label='Class 2 vs Rest')\n",
    "plt.plot(fpr[3], tpr[3], color='gray', label='Class 3 vs Rest')\n",
    "plt.plot(fpr[4], tpr[4], color='purple', label='Class 4 vs Rest')\n",
    "plt.plot([0, 1], [0, 1], color='orange', linestyle='--')\n",
    "plt.title('Multiclass ROC curve')\n",
    "plt.xlabel('False Positive Rate')\n",
    "plt.ylabel('True Positive rate')\n",
    "plt.legend(loc='best')\n",
    "plt.savefig('Multiclass ROC',dpi=300); "
   ]
  }
 ],
 "metadata": {
  "kernelspec": {
   "display_name": "Python 3",
   "language": "python",
   "name": "python3"
  },
  "language_info": {
   "codemirror_mode": {
    "name": "ipython",
    "version": 3
   },
   "file_extension": ".py",
   "mimetype": "text/x-python",
   "name": "python",
   "nbconvert_exporter": "python",
   "pygments_lexer": "ipython3",
   "version": "3.7.12"
  },
  "papermill": {
   "default_parameters": {},
   "duration": 15782.762307,
   "end_time": "2022-04-08T19:58:21.447681",
   "environment_variables": {},
   "exception": null,
   "input_path": "__notebook__.ipynb",
   "output_path": "__notebook__.ipynb",
   "parameters": {},
   "start_time": "2022-04-08T15:35:18.685374",
   "version": "2.3.3"
  }
 },
 "nbformat": 4,
 "nbformat_minor": 5
}
