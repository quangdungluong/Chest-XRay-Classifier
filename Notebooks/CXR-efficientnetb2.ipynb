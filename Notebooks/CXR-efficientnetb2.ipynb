{
 "cells": [
  {
   "cell_type": "markdown",
   "id": "e2cb4275",
   "metadata": {
    "papermill": {
     "duration": 0.030343,
     "end_time": "2022-01-18T03:19:25.258370",
     "exception": false,
     "start_time": "2022-01-18T03:19:25.228027",
     "status": "completed"
    },
    "tags": []
   },
   "source": [
    "# 1. Import required libraries"
   ]
  },
  {
   "cell_type": "code",
   "execution_count": 1,
   "id": "daf921e0",
   "metadata": {
    "_cell_guid": "b1076dfc-b9ad-4769-8c92-a6c4dae69d19",
    "_uuid": "8f2839f25d086af736a60e9eeb907d3b93b6e0e5",
    "execution": {
     "iopub.execute_input": "2022-01-18T03:19:25.359087Z",
     "iopub.status.busy": "2022-01-18T03:19:25.346835Z",
     "iopub.status.idle": "2022-01-18T03:19:47.864634Z",
     "shell.execute_reply": "2022-01-18T03:19:47.863054Z",
     "shell.execute_reply.started": "2022-01-18T02:57:38.767732Z"
    },
    "papermill": {
     "duration": 22.577627,
     "end_time": "2022-01-18T03:19:47.864923",
     "exception": false,
     "start_time": "2022-01-18T03:19:25.287296",
     "status": "completed"
    },
    "tags": []
   },
   "outputs": [],
   "source": [
    "%%capture\n",
    "!pip install timm\n",
    "!pip install randaugment"
   ]
  },
  {
   "cell_type": "code",
   "execution_count": 2,
   "id": "f13e8334",
   "metadata": {
    "execution": {
     "iopub.execute_input": "2022-01-18T03:19:47.945324Z",
     "iopub.status.busy": "2022-01-18T03:19:47.944016Z",
     "iopub.status.idle": "2022-01-18T03:19:51.988275Z",
     "shell.execute_reply": "2022-01-18T03:19:51.988870Z",
     "shell.execute_reply.started": "2022-01-18T03:12:37.738421Z"
    },
    "papermill": {
     "duration": 4.091484,
     "end_time": "2022-01-18T03:19:51.989072",
     "exception": false,
     "start_time": "2022-01-18T03:19:47.897588",
     "status": "completed"
    },
    "tags": []
   },
   "outputs": [],
   "source": [
    "import os\n",
    "import PIL\n",
    "import time\n",
    "import timm\n",
    "import math\n",
    "import copy\n",
    "import torch\n",
    "import torchvision\n",
    "import itertools\n",
    "import numpy as np\n",
    "%matplotlib inline\n",
    "import torch.nn as nn\n",
    "from PIL import Image\n",
    "from copy import deepcopy\n",
    "import torch.optim as optim\n",
    "import matplotlib.pyplot as plt\n",
    "from timm.models.layers.activations import *\n",
    "from collections import OrderedDict\n",
    "from torchvision import transforms, models, datasets\n",
    "from torch.utils.data.sampler import SubsetRandomSampler\n",
    "device = torch.device(\"cuda:0\" if torch.cuda.is_available() else \"cpu\")\n",
    "from timm.loss import LabelSmoothingCrossEntropy\n",
    "from sklearn.metrics import confusion_matrix, accuracy_score, classification_report, roc_auc_score, roc_curve\n",
    "from randaugment import RandAugment, ImageNetPolicy, Cutout\n",
    "from tqdm import tqdm"
   ]
  },
  {
   "cell_type": "markdown",
   "id": "1e0d234d",
   "metadata": {
    "papermill": {
     "duration": 0.017477,
     "end_time": "2022-01-18T03:19:52.024820",
     "exception": false,
     "start_time": "2022-01-18T03:19:52.007343",
     "status": "completed"
    },
    "tags": []
   },
   "source": [
    "# 2. Data Preparation"
   ]
  },
  {
   "cell_type": "code",
   "execution_count": 3,
   "id": "6c32eb43",
   "metadata": {
    "execution": {
     "iopub.execute_input": "2022-01-18T03:19:52.064263Z",
     "iopub.status.busy": "2022-01-18T03:19:52.063289Z",
     "iopub.status.idle": "2022-01-18T03:19:52.068585Z",
     "shell.execute_reply": "2022-01-18T03:19:52.068009Z",
     "shell.execute_reply.started": "2022-01-18T02:59:11.896387Z"
    },
    "papermill": {
     "duration": 0.0263,
     "end_time": "2022-01-18T03:19:52.068739",
     "exception": false,
     "start_time": "2022-01-18T03:19:52.042439",
     "status": "completed"
    },
    "tags": []
   },
   "outputs": [],
   "source": [
    "# Hyperparameters\n",
    "batch_size = 32\n",
    "num_epochs = 50"
   ]
  },
  {
   "cell_type": "code",
   "execution_count": 4,
   "id": "99518cdb",
   "metadata": {
    "execution": {
     "iopub.execute_input": "2022-01-18T03:19:52.148305Z",
     "iopub.status.busy": "2022-01-18T03:19:52.111679Z",
     "iopub.status.idle": "2022-01-18T03:19:52.152799Z",
     "shell.execute_reply": "2022-01-18T03:19:52.151836Z",
     "shell.execute_reply.started": "2022-01-18T02:59:22.541680Z"
    },
    "papermill": {
     "duration": 0.066839,
     "end_time": "2022-01-18T03:19:52.152924",
     "exception": false,
     "start_time": "2022-01-18T03:19:52.086085",
     "status": "completed"
    },
    "tags": []
   },
   "outputs": [],
   "source": [
    "root_dir = '/kaggle/input/chest-xray-classification'\n",
    "data_transforms = {\n",
    "    'train':transforms.Compose([\n",
    "        transforms.RandomRotation(30),\n",
    "        transforms.RandomResizedCrop(224),\n",
    "        transforms.RandomHorizontalFlip(),\n",
    "        Cutout(size=16),\n",
    "        RandAugment(),\n",
    "        ImageNetPolicy(),\n",
    "        transforms.ToTensor(),\n",
    "        transforms.Normalize([0.485, 0.456, 0.406], \n",
    "                             [0.229, 0.224, 0.225])\n",
    "    ]),\n",
    "    'val': transforms.Compose([\n",
    "        transforms.Resize(256),\n",
    "        transforms.CenterCrop(224),\n",
    "        transforms.ToTensor(),\n",
    "        transforms.Normalize([0.485, 0.456, 0.406], \n",
    "                             [0.229, 0.224, 0.225])\n",
    "    ]),\n",
    "    'test':transforms.Compose([\n",
    "        transforms.Resize(256),\n",
    "        transforms.CenterCrop(224),\n",
    "        transforms.ToTensor(),\n",
    "        transforms.Normalize([0.485, 0.456, 0.406], \n",
    "                             [0.229, 0.224, 0.225])\n",
    "    ])\n",
    "}"
   ]
  },
  {
   "cell_type": "code",
   "execution_count": 5,
   "id": "0140eedf",
   "metadata": {
    "execution": {
     "iopub.execute_input": "2022-01-18T03:19:52.196262Z",
     "iopub.status.busy": "2022-01-18T03:19:52.195602Z",
     "iopub.status.idle": "2022-01-18T03:19:59.231430Z",
     "shell.execute_reply": "2022-01-18T03:19:59.230404Z",
     "shell.execute_reply.started": "2022-01-18T02:59:23.718244Z"
    },
    "papermill": {
     "duration": 7.061657,
     "end_time": "2022-01-18T03:19:59.231599",
     "exception": false,
     "start_time": "2022-01-18T03:19:52.169942",
     "status": "completed"
    },
    "tags": []
   },
   "outputs": [],
   "source": [
    "image_datasets = {x : datasets.ImageFolder(os.path.join(root_dir, x), data_transforms[x]) for x in ['train', 'val', 'test']}\n",
    "data_loader = {x : torch.utils.data.DataLoader(image_datasets[x], batch_size=batch_size if x!='test' else 2, shuffle=True, num_workers=2, pin_memory=True) for x in ['train', 'val', 'test']}\n",
    "dataset_sizes = {x : len(image_datasets[x]) for x in ['train', 'val', 'test']}\n",
    "class_names = image_datasets['train'].classes"
   ]
  },
  {
   "cell_type": "code",
   "execution_count": 6,
   "id": "cee17556",
   "metadata": {
    "execution": {
     "iopub.execute_input": "2022-01-18T03:19:59.272985Z",
     "iopub.status.busy": "2022-01-18T03:19:59.271748Z",
     "iopub.status.idle": "2022-01-18T03:19:59.275921Z",
     "shell.execute_reply": "2022-01-18T03:19:59.276452Z",
     "shell.execute_reply.started": "2022-01-18T02:59:29.889003Z"
    },
    "papermill": {
     "duration": 0.026767,
     "end_time": "2022-01-18T03:19:59.276616",
     "exception": false,
     "start_time": "2022-01-18T03:19:59.249849",
     "status": "completed"
    },
    "tags": []
   },
   "outputs": [
    {
     "name": "stdout",
     "output_type": "stream",
     "text": [
      "{'train': 17813, 'val': 2227, 'test': 2229}\n",
      "['COVID', 'Lung_Opacity', 'Normal', 'Pneunomia', 'Tuberculosis']\n"
     ]
    }
   ],
   "source": [
    "print(dataset_sizes)\n",
    "print(class_names)"
   ]
  },
  {
   "cell_type": "markdown",
   "id": "03ac4967",
   "metadata": {
    "papermill": {
     "duration": 0.017486,
     "end_time": "2022-01-18T03:19:59.311894",
     "exception": false,
     "start_time": "2022-01-18T03:19:59.294408",
     "status": "completed"
    },
    "tags": []
   },
   "source": [
    "# 3. Model"
   ]
  },
  {
   "cell_type": "code",
   "execution_count": 7,
   "id": "aa0fca2b",
   "metadata": {
    "execution": {
     "iopub.execute_input": "2022-01-18T03:19:59.356610Z",
     "iopub.status.busy": "2022-01-18T03:19:59.355815Z",
     "iopub.status.idle": "2022-01-18T03:20:02.356961Z",
     "shell.execute_reply": "2022-01-18T03:20:02.357541Z",
     "shell.execute_reply.started": "2022-01-18T03:16:19.215709Z"
    },
    "papermill": {
     "duration": 3.027885,
     "end_time": "2022-01-18T03:20:02.357721",
     "exception": false,
     "start_time": "2022-01-18T03:19:59.329836",
     "status": "completed"
    },
    "tags": []
   },
   "outputs": [
    {
     "name": "stderr",
     "output_type": "stream",
     "text": [
      "Downloading: \"https://github.com/rwightman/pytorch-image-models/releases/download/v0.1-weights/efficientnet_b2_ra-bcdf34b7.pth\" to /root/.cache/torch/hub/checkpoints/efficientnet_b2_ra-bcdf34b7.pth\n"
     ]
    },
    {
     "data": {
      "text/plain": [
       "Linear(in_features=1408, out_features=1000, bias=True)"
      ]
     },
     "execution_count": 7,
     "metadata": {},
     "output_type": "execute_result"
    }
   ],
   "source": [
    "model = timm.create_model('efficientnet_b2', pretrained=True)\n",
    "model.classifier"
   ]
  },
  {
   "cell_type": "code",
   "execution_count": 8,
   "id": "521d77c0",
   "metadata": {
    "execution": {
     "iopub.execute_input": "2022-01-18T03:20:02.404639Z",
     "iopub.status.busy": "2022-01-18T03:20:02.399793Z",
     "iopub.status.idle": "2022-01-18T03:20:05.784727Z",
     "shell.execute_reply": "2022-01-18T03:20:05.784147Z",
     "shell.execute_reply.started": "2022-01-18T03:16:31.739357Z"
    },
    "papermill": {
     "duration": 3.408279,
     "end_time": "2022-01-18T03:20:05.784905",
     "exception": false,
     "start_time": "2022-01-18T03:20:02.376626",
     "status": "completed"
    },
    "tags": []
   },
   "outputs": [
    {
     "name": "stdout",
     "output_type": "stream",
     "text": [
      "8555015\n"
     ]
    }
   ],
   "source": [
    "from collections import OrderedDict\n",
    "classifier = nn.Sequential(OrderedDict([\n",
    "    ('fc1', nn.Linear(1408, 512)),\n",
    "    ('relu1', nn.ReLU()),\n",
    "    ('fc2', nn.Linear(512, 256)),\n",
    "    ('relu2', nn.ReLU()),\n",
    "    ('fc3', nn.Linear(256, 5))\n",
    "]))\n",
    "model.classifier = classifier\n",
    "model = model.to(device)\n",
    "\n",
    "for params in model.parameters():\n",
    "    params.requires_grad = True\n",
    "    \n",
    "def count_params(model):\n",
    "    return sum(p.numel() for p in model.parameters() if p.requires_grad)\n",
    "print(count_params(model))"
   ]
  },
  {
   "cell_type": "markdown",
   "id": "4d19e0b3",
   "metadata": {
    "papermill": {
     "duration": 0.020154,
     "end_time": "2022-01-18T03:20:05.824953",
     "exception": false,
     "start_time": "2022-01-18T03:20:05.804799",
     "status": "completed"
    },
    "tags": []
   },
   "source": [
    "# 4. Training"
   ]
  },
  {
   "cell_type": "code",
   "execution_count": 9,
   "id": "5207b901",
   "metadata": {
    "execution": {
     "iopub.execute_input": "2022-01-18T03:20:05.873064Z",
     "iopub.status.busy": "2022-01-18T03:20:05.872048Z",
     "iopub.status.idle": "2022-01-18T03:20:05.875418Z",
     "shell.execute_reply": "2022-01-18T03:20:05.874816Z",
     "shell.execute_reply.started": "2022-01-18T03:16:34.661121Z"
    },
    "papermill": {
     "duration": 0.031825,
     "end_time": "2022-01-18T03:20:05.875577",
     "exception": false,
     "start_time": "2022-01-18T03:20:05.843752",
     "status": "completed"
    },
    "tags": []
   },
   "outputs": [],
   "source": [
    "criterion = LabelSmoothingCrossEntropy()\n",
    "optimizer = optim.SGD(model.parameters(), lr=0.01, momentum=0.9, weight_decay=0.0001)\n",
    "scheduler = optim.lr_scheduler.ReduceLROnPlateau(optimizer, mode='max', factor=0.1, patience=3)"
   ]
  },
  {
   "cell_type": "code",
   "execution_count": 10,
   "id": "8377df78",
   "metadata": {
    "execution": {
     "iopub.execute_input": "2022-01-18T03:20:05.929450Z",
     "iopub.status.busy": "2022-01-18T03:20:05.922539Z",
     "iopub.status.idle": "2022-01-18T03:20:05.932137Z",
     "shell.execute_reply": "2022-01-18T03:20:05.932757Z",
     "shell.execute_reply.started": "2022-01-18T03:16:35.137522Z"
    },
    "papermill": {
     "duration": 0.038311,
     "end_time": "2022-01-18T03:20:05.932905",
     "exception": false,
     "start_time": "2022-01-18T03:20:05.894594",
     "status": "completed"
    },
    "tags": []
   },
   "outputs": [],
   "source": [
    "def train_model(model, criterion, optimizer, scheduler, num_epochs=num_epochs , path='model.pth'):\n",
    "    since = time.time()\n",
    "    best_model_wts = copy.deepcopy(model.state_dict())\n",
    "    best_loss = math.inf\n",
    "    best_acc = 0.\n",
    "    \n",
    "    for epoch in range(num_epochs):\n",
    "        since_e = time.time()\n",
    "        print(f'Epoch {epoch+1}/{num_epochs}')\n",
    "        for phase in ['train', 'val']:\n",
    "            if phase == 'train':\n",
    "                model.train()\n",
    "            else:\n",
    "                model.eval()\n",
    "            \n",
    "            running_loss = 0.0\n",
    "            running_correct = 0\n",
    "            \n",
    "            for i, (inputs, labels) in tqdm(enumerate(data_loader[phase])):\n",
    "                inputs = inputs.to(device)\n",
    "                labels = labels.to(device)\n",
    "                \n",
    "                optimizer.zero_grad()\n",
    "                if i%1000==999:\n",
    "                    print(f\"[{epoch+1}, {i} loss: {running_loss/(i*inputs.size(0)):.4f}]\")\n",
    "                \n",
    "                with torch.set_grad_enabled(phase=='train'):\n",
    "                    outputs = model(inputs)\n",
    "                    _, preds = torch.max(outputs, 1)\n",
    "                    loss = criterion(outputs, labels)\n",
    "                    if phase=='train':\n",
    "                        loss.backward()\n",
    "                        optimizer.step()\n",
    "                \n",
    "                running_loss += loss.item()*inputs.size(0)\n",
    "                running_correct += torch.sum(preds==labels.data)\n",
    "                \n",
    "            epoch_loss = running_loss / dataset_sizes[phase]\n",
    "            epoch_acc = running_correct / dataset_sizes[phase]\n",
    "            print('{} loss: {:.4f} acc: {:.4f}'.format(phase, epoch_loss, epoch_acc))\n",
    "            \n",
    "            if phase == 'val':\n",
    "                scheduler.step(epoch_acc)\n",
    "            if phase == 'val' and epoch_acc > best_acc:\n",
    "                print(f'New acc: {epoch_acc:.4f}, previous acc: {best_acc:.4f}')\n",
    "                best_loss = epoch_loss\n",
    "                best_acc = epoch_acc\n",
    "                best_model_wts = copy.deepcopy(model.state_dict())\n",
    "                torch.save(model.state_dict(), path)\n",
    "        time_e = time.time() - since_e\n",
    "        print(f'Training epoch {epoch+1} complete in: {time_e//60:.0f}m {time_e%60:.0f}s')\n",
    "    time_elapsed = time.time()-since\n",
    "    print('Training complete in: {:.0f}m {:.0f}s'.format(time_elapsed//60, time_elapsed%60))\n",
    "    print('Best val acc: {:.4f} Best val loss: {:.4f}'.format(best_acc, best_loss))\n",
    "    \n",
    "    model.load_state_dict(best_model_wts)\n",
    "    return model"
   ]
  },
  {
   "cell_type": "code",
   "execution_count": 11,
   "id": "21e6ad98",
   "metadata": {
    "execution": {
     "iopub.execute_input": "2022-01-18T03:20:05.976060Z",
     "iopub.status.busy": "2022-01-18T03:20:05.974083Z",
     "iopub.status.idle": "2022-01-18T08:13:53.218934Z",
     "shell.execute_reply": "2022-01-18T08:13:53.219491Z"
    },
    "papermill": {
     "duration": 17627.267826,
     "end_time": "2022-01-18T08:13:53.219744",
     "exception": false,
     "start_time": "2022-01-18T03:20:05.951918",
     "status": "completed"
    },
    "tags": []
   },
   "outputs": [
    {
     "name": "stdout",
     "output_type": "stream",
     "text": [
      "Epoch 1/50\n"
     ]
    },
    {
     "name": "stderr",
     "output_type": "stream",
     "text": [
      "557it [05:53,  1.57it/s]"
     ]
    },
    {
     "name": "stdout",
     "output_type": "stream",
     "text": [
      "train loss: 1.0474 acc: 0.6551\n"
     ]
    },
    {
     "name": "stderr",
     "output_type": "stream",
     "text": [
      "\n",
      "70it [00:27,  2.55it/s]\n"
     ]
    },
    {
     "name": "stdout",
     "output_type": "stream",
     "text": [
      "val loss: 0.6713 acc: 0.8666\n",
      "New acc: 0.8666, previous acc: 0.0000\n",
      "Training epoch 1 complete in: 6m 22s\n",
      "Epoch 2/50\n"
     ]
    },
    {
     "name": "stderr",
     "output_type": "stream",
     "text": [
      "557it [05:14,  1.77it/s]"
     ]
    },
    {
     "name": "stdout",
     "output_type": "stream",
     "text": [
      "train loss: 0.8047 acc: 0.7884\n"
     ]
    },
    {
     "name": "stderr",
     "output_type": "stream",
     "text": [
      "\n",
      "70it [00:23,  2.95it/s]\n"
     ]
    },
    {
     "name": "stdout",
     "output_type": "stream",
     "text": [
      "val loss: 0.6088 acc: 0.9021\n",
      "New acc: 0.9021, previous acc: 0.8666\n",
      "Training epoch 2 complete in: 5m 39s\n",
      "Epoch 3/50\n"
     ]
    },
    {
     "name": "stderr",
     "output_type": "stream",
     "text": [
      "557it [05:18,  1.75it/s]"
     ]
    },
    {
     "name": "stdout",
     "output_type": "stream",
     "text": [
      "train loss: 0.7477 acc: 0.8186\n"
     ]
    },
    {
     "name": "stderr",
     "output_type": "stream",
     "text": [
      "\n",
      "70it [00:22,  3.06it/s]\n"
     ]
    },
    {
     "name": "stdout",
     "output_type": "stream",
     "text": [
      "val loss: 0.5743 acc: 0.9187\n",
      "New acc: 0.9187, previous acc: 0.9021\n",
      "Training epoch 3 complete in: 5m 42s\n",
      "Epoch 4/50\n"
     ]
    },
    {
     "name": "stderr",
     "output_type": "stream",
     "text": [
      "557it [05:19,  1.74it/s]"
     ]
    },
    {
     "name": "stdout",
     "output_type": "stream",
     "text": [
      "train loss: 0.7097 acc: 0.8376\n"
     ]
    },
    {
     "name": "stderr",
     "output_type": "stream",
     "text": [
      "\n",
      "70it [00:22,  3.05it/s]\n"
     ]
    },
    {
     "name": "stdout",
     "output_type": "stream",
     "text": [
      "val loss: 0.5732 acc: 0.9192\n",
      "New acc: 0.9192, previous acc: 0.9187\n",
      "Training epoch 4 complete in: 5m 43s\n",
      "Epoch 5/50\n"
     ]
    },
    {
     "name": "stderr",
     "output_type": "stream",
     "text": [
      "557it [05:19,  1.74it/s]"
     ]
    },
    {
     "name": "stdout",
     "output_type": "stream",
     "text": [
      "train loss: 0.6938 acc: 0.8480\n"
     ]
    },
    {
     "name": "stderr",
     "output_type": "stream",
     "text": [
      "\n",
      "70it [00:23,  2.99it/s]"
     ]
    },
    {
     "name": "stdout",
     "output_type": "stream",
     "text": [
      "val loss: 0.5794 acc: 0.9160\n",
      "Training epoch 5 complete in: 5m 43s\n",
      "Epoch 6/50\n"
     ]
    },
    {
     "name": "stderr",
     "output_type": "stream",
     "text": [
      "\n",
      "557it [05:19,  1.74it/s]"
     ]
    },
    {
     "name": "stdout",
     "output_type": "stream",
     "text": [
      "train loss: 0.6697 acc: 0.8600\n"
     ]
    },
    {
     "name": "stderr",
     "output_type": "stream",
     "text": [
      "\n",
      "70it [00:22,  3.09it/s]"
     ]
    },
    {
     "name": "stdout",
     "output_type": "stream",
     "text": [
      "val loss: 0.5587 acc: 0.9160\n",
      "Training epoch 6 complete in: 5m 43s\n",
      "Epoch 7/50\n"
     ]
    },
    {
     "name": "stderr",
     "output_type": "stream",
     "text": [
      "\n",
      "557it [05:23,  1.72it/s]"
     ]
    },
    {
     "name": "stdout",
     "output_type": "stream",
     "text": [
      "train loss: 0.6620 acc: 0.8608\n"
     ]
    },
    {
     "name": "stderr",
     "output_type": "stream",
     "text": [
      "\n",
      "70it [00:23,  2.92it/s]\n"
     ]
    },
    {
     "name": "stdout",
     "output_type": "stream",
     "text": [
      "val loss: 0.5417 acc: 0.9282\n",
      "New acc: 0.9282, previous acc: 0.9192\n",
      "Training epoch 7 complete in: 5m 48s\n",
      "Epoch 8/50\n"
     ]
    },
    {
     "name": "stderr",
     "output_type": "stream",
     "text": [
      "557it [05:24,  1.72it/s]"
     ]
    },
    {
     "name": "stdout",
     "output_type": "stream",
     "text": [
      "train loss: 0.6527 acc: 0.8668\n"
     ]
    },
    {
     "name": "stderr",
     "output_type": "stream",
     "text": [
      "\n",
      "70it [00:24,  2.87it/s]\n"
     ]
    },
    {
     "name": "stdout",
     "output_type": "stream",
     "text": [
      "val loss: 0.5355 acc: 0.9340\n",
      "New acc: 0.9340, previous acc: 0.9282\n",
      "Training epoch 8 complete in: 5m 49s\n",
      "Epoch 9/50\n"
     ]
    },
    {
     "name": "stderr",
     "output_type": "stream",
     "text": [
      "557it [05:27,  1.70it/s]"
     ]
    },
    {
     "name": "stdout",
     "output_type": "stream",
     "text": [
      "train loss: 0.6465 acc: 0.8719\n"
     ]
    },
    {
     "name": "stderr",
     "output_type": "stream",
     "text": [
      "\n",
      "70it [00:24,  2.82it/s]\n"
     ]
    },
    {
     "name": "stdout",
     "output_type": "stream",
     "text": [
      "val loss: 0.5390 acc: 0.9344\n",
      "New acc: 0.9344, previous acc: 0.9340\n",
      "Training epoch 9 complete in: 5m 53s\n",
      "Epoch 10/50\n"
     ]
    },
    {
     "name": "stderr",
     "output_type": "stream",
     "text": [
      "557it [05:27,  1.70it/s]"
     ]
    },
    {
     "name": "stdout",
     "output_type": "stream",
     "text": [
      "train loss: 0.6378 acc: 0.8773\n"
     ]
    },
    {
     "name": "stderr",
     "output_type": "stream",
     "text": [
      "\n",
      "70it [00:22,  3.15it/s]"
     ]
    },
    {
     "name": "stdout",
     "output_type": "stream",
     "text": [
      "val loss: 0.5568 acc: 0.9237\n",
      "Training epoch 10 complete in: 5m 50s\n",
      "Epoch 11/50\n"
     ]
    },
    {
     "name": "stderr",
     "output_type": "stream",
     "text": [
      "\n",
      "557it [05:30,  1.69it/s]"
     ]
    },
    {
     "name": "stdout",
     "output_type": "stream",
     "text": [
      "train loss: 0.6268 acc: 0.8826\n"
     ]
    },
    {
     "name": "stderr",
     "output_type": "stream",
     "text": [
      "\n",
      "70it [00:25,  2.77it/s]\n"
     ]
    },
    {
     "name": "stdout",
     "output_type": "stream",
     "text": [
      "val loss: 0.5315 acc: 0.9371\n",
      "New acc: 0.9371, previous acc: 0.9344\n",
      "Training epoch 11 complete in: 5m 56s\n",
      "Epoch 12/50\n"
     ]
    },
    {
     "name": "stderr",
     "output_type": "stream",
     "text": [
      "557it [05:32,  1.68it/s]"
     ]
    },
    {
     "name": "stdout",
     "output_type": "stream",
     "text": [
      "train loss: 0.6242 acc: 0.8824\n"
     ]
    },
    {
     "name": "stderr",
     "output_type": "stream",
     "text": [
      "\n",
      "70it [00:23,  2.92it/s]\n"
     ]
    },
    {
     "name": "stdout",
     "output_type": "stream",
     "text": [
      "val loss: 0.5116 acc: 0.9425\n",
      "New acc: 0.9425, previous acc: 0.9371\n",
      "Training epoch 12 complete in: 5m 57s\n",
      "Epoch 13/50\n"
     ]
    },
    {
     "name": "stderr",
     "output_type": "stream",
     "text": [
      "557it [05:26,  1.71it/s]"
     ]
    },
    {
     "name": "stdout",
     "output_type": "stream",
     "text": [
      "train loss: 0.6209 acc: 0.8827\n"
     ]
    },
    {
     "name": "stderr",
     "output_type": "stream",
     "text": [
      "\n",
      "70it [00:23,  2.98it/s]"
     ]
    },
    {
     "name": "stdout",
     "output_type": "stream",
     "text": [
      "val loss: 0.5172 acc: 0.9385\n",
      "Training epoch 13 complete in: 5m 50s\n",
      "Epoch 14/50\n"
     ]
    },
    {
     "name": "stderr",
     "output_type": "stream",
     "text": [
      "\n",
      "557it [05:23,  1.72it/s]"
     ]
    },
    {
     "name": "stdout",
     "output_type": "stream",
     "text": [
      "train loss: 0.6175 acc: 0.8844\n"
     ]
    },
    {
     "name": "stderr",
     "output_type": "stream",
     "text": [
      "\n",
      "70it [00:23,  3.01it/s]"
     ]
    },
    {
     "name": "stdout",
     "output_type": "stream",
     "text": [
      "val loss: 0.5387 acc: 0.9291\n",
      "Training epoch 14 complete in: 5m 47s\n",
      "Epoch 15/50\n"
     ]
    },
    {
     "name": "stderr",
     "output_type": "stream",
     "text": [
      "\n",
      "557it [05:26,  1.71it/s]"
     ]
    },
    {
     "name": "stdout",
     "output_type": "stream",
     "text": [
      "train loss: 0.6129 acc: 0.8871\n"
     ]
    },
    {
     "name": "stderr",
     "output_type": "stream",
     "text": [
      "\n",
      "70it [00:24,  2.92it/s]"
     ]
    },
    {
     "name": "stdout",
     "output_type": "stream",
     "text": [
      "val loss: 0.5200 acc: 0.9389\n",
      "Training epoch 15 complete in: 5m 50s\n",
      "Epoch 16/50\n"
     ]
    },
    {
     "name": "stderr",
     "output_type": "stream",
     "text": [
      "\n",
      "557it [05:28,  1.69it/s]\n"
     ]
    },
    {
     "name": "stdout",
     "output_type": "stream",
     "text": [
      "train loss: 0.6068 acc: 0.8892\n"
     ]
    },
    {
     "name": "stderr",
     "output_type": "stream",
     "text": [
      "70it [00:26,  2.66it/s]"
     ]
    },
    {
     "name": "stdout",
     "output_type": "stream",
     "text": [
      "val loss: 0.5216 acc: 0.9394\n",
      "Training epoch 16 complete in: 5m 55s\n",
      "Epoch 17/50\n"
     ]
    },
    {
     "name": "stderr",
     "output_type": "stream",
     "text": [
      "\n",
      "557it [05:31,  1.68it/s]"
     ]
    },
    {
     "name": "stdout",
     "output_type": "stream",
     "text": [
      "train loss: 0.5809 acc: 0.9034\n"
     ]
    },
    {
     "name": "stderr",
     "output_type": "stream",
     "text": [
      "\n",
      "70it [00:26,  2.69it/s]\n"
     ]
    },
    {
     "name": "stdout",
     "output_type": "stream",
     "text": [
      "val loss: 0.5075 acc: 0.9452\n",
      "New acc: 0.9452, previous acc: 0.9425\n",
      "Training epoch 17 complete in: 5m 58s\n",
      "Epoch 18/50\n"
     ]
    },
    {
     "name": "stderr",
     "output_type": "stream",
     "text": [
      "557it [05:24,  1.72it/s]"
     ]
    },
    {
     "name": "stdout",
     "output_type": "stream",
     "text": [
      "train loss: 0.5716 acc: 0.9068\n"
     ]
    },
    {
     "name": "stderr",
     "output_type": "stream",
     "text": [
      "\n",
      "70it [00:27,  2.59it/s]\n"
     ]
    },
    {
     "name": "stdout",
     "output_type": "stream",
     "text": [
      "val loss: 0.5063 acc: 0.9457\n",
      "New acc: 0.9457, previous acc: 0.9452\n",
      "Training epoch 18 complete in: 5m 52s\n",
      "Epoch 19/50\n"
     ]
    },
    {
     "name": "stderr",
     "output_type": "stream",
     "text": [
      "557it [05:29,  1.69it/s]"
     ]
    },
    {
     "name": "stdout",
     "output_type": "stream",
     "text": [
      "train loss: 0.5695 acc: 0.9092\n"
     ]
    },
    {
     "name": "stderr",
     "output_type": "stream",
     "text": [
      "\n",
      "70it [00:26,  2.64it/s]\n"
     ]
    },
    {
     "name": "stdout",
     "output_type": "stream",
     "text": [
      "val loss: 0.5003 acc: 0.9484\n",
      "New acc: 0.9484, previous acc: 0.9457\n",
      "Training epoch 19 complete in: 5m 56s\n",
      "Epoch 20/50\n"
     ]
    },
    {
     "name": "stderr",
     "output_type": "stream",
     "text": [
      "557it [05:24,  1.72it/s]"
     ]
    },
    {
     "name": "stdout",
     "output_type": "stream",
     "text": [
      "train loss: 0.5674 acc: 0.9108\n"
     ]
    },
    {
     "name": "stderr",
     "output_type": "stream",
     "text": [
      "\n",
      "70it [00:26,  2.60it/s]"
     ]
    },
    {
     "name": "stdout",
     "output_type": "stream",
     "text": [
      "val loss: 0.5044 acc: 0.9470\n",
      "Training epoch 20 complete in: 5m 51s\n",
      "Epoch 21/50\n"
     ]
    },
    {
     "name": "stderr",
     "output_type": "stream",
     "text": [
      "\n",
      "557it [05:29,  1.69it/s]"
     ]
    },
    {
     "name": "stdout",
     "output_type": "stream",
     "text": [
      "train loss: 0.5590 acc: 0.9146\n"
     ]
    },
    {
     "name": "stderr",
     "output_type": "stream",
     "text": [
      "\n",
      "70it [00:25,  2.74it/s]"
     ]
    },
    {
     "name": "stdout",
     "output_type": "stream",
     "text": [
      "val loss: 0.5030 acc: 0.9470\n",
      "Training epoch 21 complete in: 5m 55s\n",
      "Epoch 22/50\n"
     ]
    },
    {
     "name": "stderr",
     "output_type": "stream",
     "text": [
      "\n",
      "557it [05:30,  1.69it/s]"
     ]
    },
    {
     "name": "stdout",
     "output_type": "stream",
     "text": [
      "train loss: 0.5647 acc: 0.9128\n"
     ]
    },
    {
     "name": "stderr",
     "output_type": "stream",
     "text": [
      "\n",
      "70it [00:23,  3.03it/s]"
     ]
    },
    {
     "name": "stdout",
     "output_type": "stream",
     "text": [
      "val loss: 0.4993 acc: 0.9484\n",
      "Training epoch 22 complete in: 5m 54s\n",
      "Epoch 23/50\n"
     ]
    },
    {
     "name": "stderr",
     "output_type": "stream",
     "text": [
      "\n",
      "557it [05:32,  1.68it/s]"
     ]
    },
    {
     "name": "stdout",
     "output_type": "stream",
     "text": [
      "train loss: 0.5623 acc: 0.9120\n"
     ]
    },
    {
     "name": "stderr",
     "output_type": "stream",
     "text": [
      "\n",
      "70it [00:22,  3.13it/s]"
     ]
    },
    {
     "name": "stdout",
     "output_type": "stream",
     "text": [
      "val loss: 0.4996 acc: 0.9479\n",
      "Training epoch 23 complete in: 5m 55s\n",
      "Epoch 24/50\n"
     ]
    },
    {
     "name": "stderr",
     "output_type": "stream",
     "text": [
      "\n",
      "557it [05:22,  1.73it/s]"
     ]
    },
    {
     "name": "stdout",
     "output_type": "stream",
     "text": [
      "train loss: 0.5578 acc: 0.9145\n"
     ]
    },
    {
     "name": "stderr",
     "output_type": "stream",
     "text": [
      "\n",
      "70it [00:27,  2.55it/s]\n"
     ]
    },
    {
     "name": "stdout",
     "output_type": "stream",
     "text": [
      "val loss: 0.4978 acc: 0.9497\n",
      "New acc: 0.9497, previous acc: 0.9484\n",
      "Training epoch 24 complete in: 5m 50s\n",
      "Epoch 25/50\n"
     ]
    },
    {
     "name": "stderr",
     "output_type": "stream",
     "text": [
      "557it [05:20,  1.74it/s]"
     ]
    },
    {
     "name": "stdout",
     "output_type": "stream",
     "text": [
      "train loss: 0.5547 acc: 0.9151\n"
     ]
    },
    {
     "name": "stderr",
     "output_type": "stream",
     "text": [
      "\n",
      "70it [00:22,  3.16it/s]"
     ]
    },
    {
     "name": "stdout",
     "output_type": "stream",
     "text": [
      "val loss: 0.4975 acc: 0.9497\n",
      "Training epoch 25 complete in: 5m 42s\n",
      "Epoch 26/50\n"
     ]
    },
    {
     "name": "stderr",
     "output_type": "stream",
     "text": [
      "\n",
      "557it [05:26,  1.70it/s]"
     ]
    },
    {
     "name": "stdout",
     "output_type": "stream",
     "text": [
      "train loss: 0.5582 acc: 0.9156\n"
     ]
    },
    {
     "name": "stderr",
     "output_type": "stream",
     "text": [
      "\n",
      "70it [00:23,  2.93it/s]"
     ]
    },
    {
     "name": "stdout",
     "output_type": "stream",
     "text": [
      "val loss: 0.4961 acc: 0.9497\n",
      "Training epoch 26 complete in: 5m 51s\n",
      "Epoch 27/50\n"
     ]
    },
    {
     "name": "stderr",
     "output_type": "stream",
     "text": [
      "\n",
      "557it [05:20,  1.74it/s]"
     ]
    },
    {
     "name": "stdout",
     "output_type": "stream",
     "text": [
      "train loss: 0.5608 acc: 0.9128\n"
     ]
    },
    {
     "name": "stderr",
     "output_type": "stream",
     "text": [
      "\n",
      "70it [00:22,  3.09it/s]\n"
     ]
    },
    {
     "name": "stdout",
     "output_type": "stream",
     "text": [
      "val loss: 0.4973 acc: 0.9511\n",
      "New acc: 0.9511, previous acc: 0.9497\n",
      "Training epoch 27 complete in: 5m 44s\n",
      "Epoch 28/50\n"
     ]
    },
    {
     "name": "stderr",
     "output_type": "stream",
     "text": [
      "557it [05:34,  1.66it/s]"
     ]
    },
    {
     "name": "stdout",
     "output_type": "stream",
     "text": [
      "train loss: 0.5531 acc: 0.9156\n"
     ]
    },
    {
     "name": "stderr",
     "output_type": "stream",
     "text": [
      "\n",
      "70it [00:22,  3.06it/s]"
     ]
    },
    {
     "name": "stdout",
     "output_type": "stream",
     "text": [
      "val loss: 0.4993 acc: 0.9470\n",
      "Training epoch 28 complete in: 5m 58s\n",
      "Epoch 29/50\n"
     ]
    },
    {
     "name": "stderr",
     "output_type": "stream",
     "text": [
      "\n",
      "557it [05:30,  1.69it/s]"
     ]
    },
    {
     "name": "stdout",
     "output_type": "stream",
     "text": [
      "train loss: 0.5547 acc: 0.9173\n"
     ]
    },
    {
     "name": "stderr",
     "output_type": "stream",
     "text": [
      "\n",
      "70it [00:23,  3.01it/s]"
     ]
    },
    {
     "name": "stdout",
     "output_type": "stream",
     "text": [
      "val loss: 0.5001 acc: 0.9502\n",
      "Training epoch 29 complete in: 5m 54s\n",
      "Epoch 30/50\n"
     ]
    },
    {
     "name": "stderr",
     "output_type": "stream",
     "text": [
      "\n",
      "557it [05:31,  1.68it/s]"
     ]
    },
    {
     "name": "stdout",
     "output_type": "stream",
     "text": [
      "train loss: 0.5562 acc: 0.9174\n"
     ]
    },
    {
     "name": "stderr",
     "output_type": "stream",
     "text": [
      "\n",
      "70it [00:23,  2.98it/s]"
     ]
    },
    {
     "name": "stdout",
     "output_type": "stream",
     "text": [
      "val loss: 0.5001 acc: 0.9470\n",
      "Training epoch 30 complete in: 5m 55s\n",
      "Epoch 31/50\n"
     ]
    },
    {
     "name": "stderr",
     "output_type": "stream",
     "text": [
      "\n",
      "557it [05:29,  1.69it/s]"
     ]
    },
    {
     "name": "stdout",
     "output_type": "stream",
     "text": [
      "train loss: 0.5558 acc: 0.9180\n"
     ]
    },
    {
     "name": "stderr",
     "output_type": "stream",
     "text": [
      "\n",
      "70it [00:28,  2.42it/s]"
     ]
    },
    {
     "name": "stdout",
     "output_type": "stream",
     "text": [
      "val loss: 0.4978 acc: 0.9488\n",
      "Training epoch 31 complete in: 5m 58s\n",
      "Epoch 32/50\n"
     ]
    },
    {
     "name": "stderr",
     "output_type": "stream",
     "text": [
      "\n",
      "557it [05:26,  1.71it/s]"
     ]
    },
    {
     "name": "stdout",
     "output_type": "stream",
     "text": [
      "train loss: 0.5529 acc: 0.9184\n"
     ]
    },
    {
     "name": "stderr",
     "output_type": "stream",
     "text": [
      "\n",
      "70it [00:22,  3.05it/s]\n"
     ]
    },
    {
     "name": "stdout",
     "output_type": "stream",
     "text": [
      "val loss: 0.4983 acc: 0.9533\n",
      "New acc: 0.9533, previous acc: 0.9511\n",
      "Training epoch 32 complete in: 5m 50s\n",
      "Epoch 33/50\n"
     ]
    },
    {
     "name": "stderr",
     "output_type": "stream",
     "text": [
      "557it [05:35,  1.66it/s]"
     ]
    },
    {
     "name": "stdout",
     "output_type": "stream",
     "text": [
      "train loss: 0.5518 acc: 0.9167\n"
     ]
    },
    {
     "name": "stderr",
     "output_type": "stream",
     "text": [
      "\n",
      "70it [00:24,  2.84it/s]"
     ]
    },
    {
     "name": "stdout",
     "output_type": "stream",
     "text": [
      "val loss: 0.4991 acc: 0.9461\n",
      "Training epoch 33 complete in: 5m 60s\n",
      "Epoch 34/50\n"
     ]
    },
    {
     "name": "stderr",
     "output_type": "stream",
     "text": [
      "\n",
      "557it [05:26,  1.70it/s]"
     ]
    },
    {
     "name": "stdout",
     "output_type": "stream",
     "text": [
      "train loss: 0.5582 acc: 0.9162\n"
     ]
    },
    {
     "name": "stderr",
     "output_type": "stream",
     "text": [
      "\n",
      "70it [00:23,  3.00it/s]"
     ]
    },
    {
     "name": "stdout",
     "output_type": "stream",
     "text": [
      "val loss: 0.4974 acc: 0.9511\n",
      "Training epoch 34 complete in: 5m 50s\n",
      "Epoch 35/50\n"
     ]
    },
    {
     "name": "stderr",
     "output_type": "stream",
     "text": [
      "\n",
      "557it [05:34,  1.66it/s]"
     ]
    },
    {
     "name": "stdout",
     "output_type": "stream",
     "text": [
      "train loss: 0.5549 acc: 0.9170\n"
     ]
    },
    {
     "name": "stderr",
     "output_type": "stream",
     "text": [
      "\n",
      "70it [00:22,  3.11it/s]"
     ]
    },
    {
     "name": "stdout",
     "output_type": "stream",
     "text": [
      "val loss: 0.4981 acc: 0.9479\n",
      "Training epoch 35 complete in: 5m 57s\n",
      "Epoch 36/50\n"
     ]
    },
    {
     "name": "stderr",
     "output_type": "stream",
     "text": [
      "\n",
      "557it [05:29,  1.69it/s]"
     ]
    },
    {
     "name": "stdout",
     "output_type": "stream",
     "text": [
      "train loss: 0.5506 acc: 0.9208\n"
     ]
    },
    {
     "name": "stderr",
     "output_type": "stream",
     "text": [
      "\n",
      "70it [00:23,  2.93it/s]"
     ]
    },
    {
     "name": "stdout",
     "output_type": "stream",
     "text": [
      "val loss: 0.4998 acc: 0.9506\n",
      "Training epoch 36 complete in: 5m 54s\n",
      "Epoch 37/50\n"
     ]
    },
    {
     "name": "stderr",
     "output_type": "stream",
     "text": [
      "\n",
      "557it [05:35,  1.66it/s]"
     ]
    },
    {
     "name": "stdout",
     "output_type": "stream",
     "text": [
      "train loss: 0.5572 acc: 0.9147\n"
     ]
    },
    {
     "name": "stderr",
     "output_type": "stream",
     "text": [
      "\n",
      "70it [00:23,  3.01it/s]"
     ]
    },
    {
     "name": "stdout",
     "output_type": "stream",
     "text": [
      "val loss: 0.5002 acc: 0.9493\n",
      "Training epoch 37 complete in: 5m 59s\n",
      "Epoch 38/50\n"
     ]
    },
    {
     "name": "stderr",
     "output_type": "stream",
     "text": [
      "\n",
      "557it [05:29,  1.69it/s]"
     ]
    },
    {
     "name": "stdout",
     "output_type": "stream",
     "text": [
      "train loss: 0.5557 acc: 0.9164\n"
     ]
    },
    {
     "name": "stderr",
     "output_type": "stream",
     "text": [
      "\n",
      "70it [00:22,  3.05it/s]"
     ]
    },
    {
     "name": "stdout",
     "output_type": "stream",
     "text": [
      "val loss: 0.4978 acc: 0.9493\n",
      "Training epoch 38 complete in: 5m 53s\n",
      "Epoch 39/50\n"
     ]
    },
    {
     "name": "stderr",
     "output_type": "stream",
     "text": [
      "\n",
      "557it [05:35,  1.66it/s]"
     ]
    },
    {
     "name": "stdout",
     "output_type": "stream",
     "text": [
      "train loss: 0.5555 acc: 0.9172\n"
     ]
    },
    {
     "name": "stderr",
     "output_type": "stream",
     "text": [
      "\n",
      "70it [00:22,  3.08it/s]"
     ]
    },
    {
     "name": "stdout",
     "output_type": "stream",
     "text": [
      "val loss: 0.4987 acc: 0.9488\n",
      "Training epoch 39 complete in: 5m 59s\n",
      "Epoch 40/50\n"
     ]
    },
    {
     "name": "stderr",
     "output_type": "stream",
     "text": [
      "\n",
      "557it [05:28,  1.69it/s]"
     ]
    },
    {
     "name": "stdout",
     "output_type": "stream",
     "text": [
      "train loss: 0.5542 acc: 0.9158\n"
     ]
    },
    {
     "name": "stderr",
     "output_type": "stream",
     "text": [
      "\n",
      "70it [00:23,  3.00it/s]"
     ]
    },
    {
     "name": "stdout",
     "output_type": "stream",
     "text": [
      "val loss: 0.4992 acc: 0.9493\n",
      "Training epoch 40 complete in: 5m 52s\n",
      "Epoch 41/50\n"
     ]
    },
    {
     "name": "stderr",
     "output_type": "stream",
     "text": [
      "\n",
      "557it [05:36,  1.66it/s]"
     ]
    },
    {
     "name": "stdout",
     "output_type": "stream",
     "text": [
      "train loss: 0.5530 acc: 0.9169\n"
     ]
    },
    {
     "name": "stderr",
     "output_type": "stream",
     "text": [
      "\n",
      "70it [00:23,  2.98it/s]"
     ]
    },
    {
     "name": "stdout",
     "output_type": "stream",
     "text": [
      "val loss: 0.5002 acc: 0.9506\n",
      "Training epoch 41 complete in: 6m 0s\n",
      "Epoch 42/50\n"
     ]
    },
    {
     "name": "stderr",
     "output_type": "stream",
     "text": [
      "\n",
      "557it [05:26,  1.70it/s]"
     ]
    },
    {
     "name": "stdout",
     "output_type": "stream",
     "text": [
      "train loss: 0.5544 acc: 0.9170\n"
     ]
    },
    {
     "name": "stderr",
     "output_type": "stream",
     "text": [
      "\n",
      "70it [00:22,  3.06it/s]"
     ]
    },
    {
     "name": "stdout",
     "output_type": "stream",
     "text": [
      "val loss: 0.4975 acc: 0.9497\n",
      "Training epoch 42 complete in: 5m 50s\n",
      "Epoch 43/50\n"
     ]
    },
    {
     "name": "stderr",
     "output_type": "stream",
     "text": [
      "\n",
      "557it [05:31,  1.68it/s]"
     ]
    },
    {
     "name": "stdout",
     "output_type": "stream",
     "text": [
      "train loss: 0.5488 acc: 0.9213\n"
     ]
    },
    {
     "name": "stderr",
     "output_type": "stream",
     "text": [
      "\n",
      "70it [00:30,  2.27it/s]"
     ]
    },
    {
     "name": "stdout",
     "output_type": "stream",
     "text": [
      "val loss: 0.4967 acc: 0.9502\n",
      "Training epoch 43 complete in: 6m 2s\n",
      "Epoch 44/50\n"
     ]
    },
    {
     "name": "stderr",
     "output_type": "stream",
     "text": [
      "\n",
      "557it [05:27,  1.70it/s]"
     ]
    },
    {
     "name": "stdout",
     "output_type": "stream",
     "text": [
      "train loss: 0.5538 acc: 0.9175\n"
     ]
    },
    {
     "name": "stderr",
     "output_type": "stream",
     "text": [
      "\n",
      "70it [00:22,  3.16it/s]"
     ]
    },
    {
     "name": "stdout",
     "output_type": "stream",
     "text": [
      "val loss: 0.4975 acc: 0.9484\n",
      "Training epoch 44 complete in: 5m 50s\n",
      "Epoch 45/50\n"
     ]
    },
    {
     "name": "stderr",
     "output_type": "stream",
     "text": [
      "\n",
      "557it [05:24,  1.72it/s]"
     ]
    },
    {
     "name": "stdout",
     "output_type": "stream",
     "text": [
      "train loss: 0.5535 acc: 0.9183\n"
     ]
    },
    {
     "name": "stderr",
     "output_type": "stream",
     "text": [
      "\n",
      "70it [00:22,  3.12it/s]"
     ]
    },
    {
     "name": "stdout",
     "output_type": "stream",
     "text": [
      "val loss: 0.4975 acc: 0.9497\n",
      "Training epoch 45 complete in: 5m 47s\n",
      "Epoch 46/50\n"
     ]
    },
    {
     "name": "stderr",
     "output_type": "stream",
     "text": [
      "\n",
      "557it [05:37,  1.65it/s]"
     ]
    },
    {
     "name": "stdout",
     "output_type": "stream",
     "text": [
      "train loss: 0.5588 acc: 0.9144\n"
     ]
    },
    {
     "name": "stderr",
     "output_type": "stream",
     "text": [
      "\n",
      "70it [00:23,  3.02it/s]"
     ]
    },
    {
     "name": "stdout",
     "output_type": "stream",
     "text": [
      "val loss: 0.4987 acc: 0.9511\n",
      "Training epoch 46 complete in: 6m 0s\n",
      "Epoch 47/50\n"
     ]
    },
    {
     "name": "stderr",
     "output_type": "stream",
     "text": [
      "\n",
      "557it [05:32,  1.67it/s]"
     ]
    },
    {
     "name": "stdout",
     "output_type": "stream",
     "text": [
      "train loss: 0.5560 acc: 0.9164\n"
     ]
    },
    {
     "name": "stderr",
     "output_type": "stream",
     "text": [
      "\n",
      "70it [00:22,  3.09it/s]"
     ]
    },
    {
     "name": "stdout",
     "output_type": "stream",
     "text": [
      "val loss: 0.4971 acc: 0.9502\n",
      "Training epoch 47 complete in: 5m 56s\n",
      "Epoch 48/50\n"
     ]
    },
    {
     "name": "stderr",
     "output_type": "stream",
     "text": [
      "\n",
      "557it [05:32,  1.67it/s]"
     ]
    },
    {
     "name": "stdout",
     "output_type": "stream",
     "text": [
      "train loss: 0.5518 acc: 0.9173\n"
     ]
    },
    {
     "name": "stderr",
     "output_type": "stream",
     "text": [
      "\n",
      "70it [00:28,  2.48it/s]"
     ]
    },
    {
     "name": "stdout",
     "output_type": "stream",
     "text": [
      "val loss: 0.4985 acc: 0.9502\n",
      "Training epoch 48 complete in: 6m 1s\n",
      "Epoch 49/50\n"
     ]
    },
    {
     "name": "stderr",
     "output_type": "stream",
     "text": [
      "\n",
      "557it [05:15,  1.77it/s]"
     ]
    },
    {
     "name": "stdout",
     "output_type": "stream",
     "text": [
      "train loss: 0.5531 acc: 0.9177\n"
     ]
    },
    {
     "name": "stderr",
     "output_type": "stream",
     "text": [
      "\n",
      "70it [00:22,  3.14it/s]"
     ]
    },
    {
     "name": "stdout",
     "output_type": "stream",
     "text": [
      "val loss: 0.4971 acc: 0.9511\n",
      "Training epoch 49 complete in: 5m 38s\n",
      "Epoch 50/50\n"
     ]
    },
    {
     "name": "stderr",
     "output_type": "stream",
     "text": [
      "\n",
      "557it [05:22,  1.73it/s]"
     ]
    },
    {
     "name": "stdout",
     "output_type": "stream",
     "text": [
      "train loss: 0.5581 acc: 0.9147\n"
     ]
    },
    {
     "name": "stderr",
     "output_type": "stream",
     "text": [
      "\n",
      "70it [00:27,  2.55it/s]\n"
     ]
    },
    {
     "name": "stdout",
     "output_type": "stream",
     "text": [
      "val loss: 0.4982 acc: 0.9511\n",
      "Training epoch 50 complete in: 5m 50s\n",
      "Training complete in: 293m 47s\n",
      "Best val acc: 0.9533 Best val loss: 0.4983\n"
     ]
    }
   ],
   "source": [
    "model = train_model(model, criterion, optimizer, scheduler)"
   ]
  },
  {
   "cell_type": "markdown",
   "id": "8fded536",
   "metadata": {
    "papermill": {
     "duration": 9.997526,
     "end_time": "2022-01-18T08:14:13.512173",
     "exception": false,
     "start_time": "2022-01-18T08:14:03.514647",
     "status": "completed"
    },
    "tags": []
   },
   "source": [
    "# 5. Prediction on Test set"
   ]
  },
  {
   "cell_type": "code",
   "execution_count": 12,
   "id": "37d482a6",
   "metadata": {
    "execution": {
     "iopub.execute_input": "2022-01-18T08:14:34.645176Z",
     "iopub.status.busy": "2022-01-18T08:14:34.643751Z",
     "iopub.status.idle": "2022-01-18T08:14:34.647348Z",
     "shell.execute_reply": "2022-01-18T08:14:34.646735Z",
     "shell.execute_reply.started": "2022-01-18T03:11:28.563411Z"
    },
    "papermill": {
     "duration": 11.048831,
     "end_time": "2022-01-18T08:14:34.647479",
     "exception": false,
     "start_time": "2022-01-18T08:14:23.598648",
     "status": "completed"
    },
    "tags": []
   },
   "outputs": [],
   "source": [
    "def plot_confusion_matrix(cm, classes,\n",
    "                          normalize=False,\n",
    "                          title='Confusion matrix',\n",
    "                          cmap=plt.cm.Blues):\n",
    "    \"\"\"\n",
    "    This function prints and plots the confusion matrix.\n",
    "    Normalization can be applied by setting `normalize=True`.\n",
    "    \"\"\"\n",
    "    plt.imshow(cm, interpolation='nearest', cmap=cmap)\n",
    "    plt.title(title)\n",
    "    plt.colorbar()\n",
    "    tick_marks = np.arange(len(classes))\n",
    "    plt.xticks(tick_marks, classes, rotation=45)\n",
    "    plt.yticks(tick_marks, classes)\n",
    "\n",
    "    if normalize:\n",
    "        cm = cm.astype('float') / cm.sum(axis=1)[:, np.newaxis]\n",
    "\n",
    "    thresh = cm.max() / 2.\n",
    "    for i, j in itertools.product(range(cm.shape[0]), range(cm.shape[1])):\n",
    "        plt.text(j, i, cm[i, j],\n",
    "                 horizontalalignment=\"center\",\n",
    "                 color=\"white\" if cm[i, j] > thresh else \"black\")\n",
    "\n",
    "    plt.tight_layout()\n",
    "    plt.ylabel('True label')\n",
    "    plt.xlabel('Predicted label')"
   ]
  },
  {
   "cell_type": "code",
   "execution_count": 13,
   "id": "b7bafdc2",
   "metadata": {
    "execution": {
     "iopub.execute_input": "2022-01-18T08:14:55.195806Z",
     "iopub.status.busy": "2022-01-18T08:14:55.194802Z",
     "iopub.status.idle": "2022-01-18T08:14:55.354386Z",
     "shell.execute_reply": "2022-01-18T08:14:55.355037Z",
     "shell.execute_reply.started": "2022-01-18T03:11:28.781731Z"
    },
    "papermill": {
     "duration": 10.444317,
     "end_time": "2022-01-18T08:14:55.355213",
     "exception": false,
     "start_time": "2022-01-18T08:14:44.910896",
     "status": "completed"
    },
    "tags": []
   },
   "outputs": [
    {
     "data": {
      "text/plain": [
       "<All keys matched successfully>"
      ]
     },
     "execution_count": 13,
     "metadata": {},
     "output_type": "execute_result"
    }
   ],
   "source": [
    "# model = timm.create_model('efficientnet_b0', pretrained=True)\n",
    "# classifier = nn.Sequential(OrderedDict([\n",
    "#     ('fc1', nn.Linear(1408, 512)),\n",
    "#     ('relu1', nn.ReLU()),\n",
    "#     ('fc2', nn.Linear(512, 256)),\n",
    "#     ('relu2', nn.ReLU()),\n",
    "#     ('fc3', nn.Linear(256, 5))\n",
    "# ]))\n",
    "# model.classifier = classifier\n",
    "# model = model.to(device)\n",
    "\n",
    "model.load_state_dict(torch.load('./model.pth'))"
   ]
  },
  {
   "cell_type": "code",
   "execution_count": 14,
   "id": "aedcda06",
   "metadata": {
    "execution": {
     "iopub.execute_input": "2022-01-18T08:15:16.439169Z",
     "iopub.status.busy": "2022-01-18T08:15:16.438223Z",
     "iopub.status.idle": "2022-01-18T08:16:13.272609Z",
     "shell.execute_reply": "2022-01-18T08:16:13.271897Z",
     "shell.execute_reply.started": "2022-01-18T03:12:46.378372Z"
    },
    "papermill": {
     "duration": 67.135486,
     "end_time": "2022-01-18T08:16:13.272759",
     "exception": false,
     "start_time": "2022-01-18T08:15:06.137273",
     "status": "completed"
    },
    "tags": []
   },
   "outputs": [
    {
     "name": "stdout",
     "output_type": "stream",
     "text": [
      "Testing complete in 0m 56s\n",
      "              precision    recall  f1-score   support\n",
      "\n",
      "           0    0.99118   0.93094   0.96011       362\n",
      "           1    0.95726   0.93023   0.94356       602\n",
      "           2    0.93563   0.97358   0.95423      1060\n",
      "           3    0.98425   0.92593   0.95420       135\n",
      "           4    0.90541   0.95714   0.93056        70\n",
      "\n",
      "    accuracy                        0.95155      2229\n",
      "   macro avg    0.95475   0.94357   0.94853      2229\n",
      "weighted avg    0.95249   0.95155   0.95156      2229\n",
      "\n"
     ]
    },
    {
     "data": {
      "image/png": "[encoded data removed]",
      "text/plain": [
       "<Figure size 432x288 with 2 Axes>"
      ]
     },
     "metadata": {
      "needs_background": "light"
     },
     "output_type": "display_data"
    }
   ],
   "source": [
    "since = time.time()\n",
    "model.eval()\n",
    "y_test = []\n",
    "y_pred = []\n",
    "y_pred_proba = []\n",
    "for images, labels in data_loader['test']:\n",
    "    images = images.to(device)\n",
    "    labels = labels.to(device)\n",
    "    outputs = model(images)\n",
    "    _, predictions = outputs.max(1)\n",
    "    \n",
    "    y_test.append(labels.data.cpu().numpy())\n",
    "    y_pred.append(predictions.data.cpu().numpy())\n",
    "    y_pred_proba.append(outputs.data.cpu().numpy())\n",
    "    \n",
    "y_test = np.concatenate(y_test)\n",
    "y_pred = np.concatenate(y_pred)\n",
    "y_pred_proba = np.concatenate(y_pred_proba)\n",
    "time_elapsed = time.time() - since\n",
    "\n",
    "print('Testing complete in {:.0f}m {:.0f}s'.format(time_elapsed // 60, time_elapsed % 60))\n",
    "\n",
    "confusion_mtx = confusion_matrix(y_test, y_pred)\n",
    "# plot the confusion matrix\n",
    "plot_labels = ['COVID', 'Lung_Opacity', 'Normal', 'Pneunomia', 'Tuberculosis']\n",
    "\n",
    "plot_confusion_matrix(confusion_mtx, plot_labels)\n",
    "report = classification_report(y_test, y_pred, digits=5)\n",
    "print(report)"
   ]
  },
  {
   "cell_type": "code",
   "execution_count": 15,
   "id": "c2625e44",
   "metadata": {
    "execution": {
     "iopub.execute_input": "2022-01-18T08:16:34.267111Z",
     "iopub.status.busy": "2022-01-18T08:16:34.256338Z",
     "iopub.status.idle": "2022-01-18T08:16:34.270742Z",
     "shell.execute_reply": "2022-01-18T08:16:34.269786Z",
     "shell.execute_reply.started": "2022-01-18T03:13:55.640869Z"
    },
    "papermill": {
     "duration": 10.499043,
     "end_time": "2022-01-18T08:16:34.270872",
     "exception": false,
     "start_time": "2022-01-18T08:16:23.771829",
     "status": "completed"
    },
    "tags": []
   },
   "outputs": [],
   "source": [
    "def softmax(vec):\n",
    "    exponential = np.exp(vec)\n",
    "    probabilities = exponential / np.sum(exponential)\n",
    "    return probabilities\n",
    "\n",
    "y_pred_proba = np.array([list(softmax(i)) for i in y_pred_proba])"
   ]
  },
  {
   "cell_type": "code",
   "execution_count": 16,
   "id": "d3a6ba24",
   "metadata": {
    "execution": {
     "iopub.execute_input": "2022-01-18T08:16:55.913543Z",
     "iopub.status.busy": "2022-01-18T08:16:55.912294Z",
     "iopub.status.idle": "2022-01-18T08:16:56.498395Z",
     "shell.execute_reply": "2022-01-18T08:16:56.499295Z",
     "shell.execute_reply.started": "2022-01-18T03:15:57.241505Z"
    },
    "papermill": {
     "duration": 11.104837,
     "end_time": "2022-01-18T08:16:56.499554",
     "exception": false,
     "start_time": "2022-01-18T08:16:45.394717",
     "status": "completed"
    },
    "tags": []
   },
   "outputs": [
    {
     "name": "stdout",
     "output_type": "stream",
     "text": [
      "ROC curve (area = 0.9956)\n"
     ]
    },
    {
     "data": {
      "image/png": "[encoded data removed]",
      "text/plain": [
       "<Figure size 432x288 with 1 Axes>"
      ]
     },
     "metadata": {
      "needs_background": "light"
     },
     "output_type": "display_data"
    }
   ],
   "source": [
    "roc_auc = roc_auc_score(y_test, y_pred_proba, multi_class='ovo')\n",
    "print('ROC curve (area = %0.4f)' % roc_auc)\n",
    "fpr = {}\n",
    "tpr = {}\n",
    "thresh ={}\n",
    "for i in range(5):\n",
    "    fpr[i], tpr[i], thresh[i] = roc_curve(y_test, y_pred_proba[:, i], pos_label=i)\n",
    "\n",
    "# plotting    \n",
    "plt.plot(fpr[0], tpr[0], color='red', label='Class 0 vs Rest')\n",
    "plt.plot(fpr[1], tpr[1], color='green', label='Class 1 vs Rest')\n",
    "plt.plot(fpr[2], tpr[2], color='blue', label='Class 2 vs Rest')\n",
    "plt.plot(fpr[3], tpr[3], color='black', label='Class 3 vs Rest')\n",
    "plt.plot([0, 1], [0, 1], color='orange', linestyle='--')\n",
    "plt.title('Multiclass ROC curve')\n",
    "plt.xlabel('False Positive Rate')\n",
    "plt.ylabel('True Positive rate')\n",
    "plt.legend(loc='best')\n",
    "plt.savefig('Multiclass ROC',dpi=300); "
   ]
  }
 ],
 "metadata": {
  "kernelspec": {
   "display_name": "Python 3",
   "language": "python",
   "name": "python3"
  },
  "language_info": {
   "codemirror_mode": {
    "name": "ipython",
    "version": 3
   },
   "file_extension": ".py",
   "mimetype": "text/x-python",
   "name": "python",
   "nbconvert_exporter": "python",
   "pygments_lexer": "ipython3",
   "version": "3.7.12"
  },
  "papermill": {
   "default_parameters": {},
   "duration": 17874.421673,
   "end_time": "2022-01-18T08:17:09.703865",
   "environment_variables": {},
   "exception": null,
   "input_path": "__notebook__.ipynb",
   "output_path": "__notebook__.ipynb",
   "parameters": {},
   "start_time": "2022-01-18T03:19:15.282192",
   "version": "2.3.3"
  }
 },
 "nbformat": 4,
 "nbformat_minor": 5
}
