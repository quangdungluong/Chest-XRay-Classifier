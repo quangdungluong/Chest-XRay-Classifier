{
 "cells": [
  {
   "cell_type": "markdown",
   "id": "ffe26268",
   "metadata": {
    "papermill": {
     "duration": 0.016095,
     "end_time": "2022-01-18T10:25:46.029947",
     "exception": false,
     "start_time": "2022-01-18T10:25:46.013852",
     "status": "completed"
    },
    "tags": []
   },
   "source": [
    "# 1. Import required libraries"
   ]
  },
  {
   "cell_type": "code",
   "execution_count": 1,
   "id": "4b5f283f",
   "metadata": {
    "_cell_guid": "b1076dfc-b9ad-4769-8c92-a6c4dae69d19",
    "_uuid": "8f2839f25d086af736a60e9eeb907d3b93b6e0e5",
    "execution": {
     "iopub.execute_input": "2022-01-18T10:25:46.073200Z",
     "iopub.status.busy": "2022-01-18T10:25:46.072433Z",
     "iopub.status.idle": "2022-01-18T10:26:02.980828Z",
     "shell.execute_reply": "2022-01-18T10:26:02.979945Z",
     "shell.execute_reply.started": "2022-01-18T10:04:08.196155Z"
    },
    "papermill": {
     "duration": 16.936146,
     "end_time": "2022-01-18T10:26:02.980997",
     "exception": false,
     "start_time": "2022-01-18T10:25:46.044851",
     "status": "completed"
    },
    "tags": []
   },
   "outputs": [],
   "source": [
    "%%capture\n",
    "!pip install timm\n",
    "!pip install randaugment"
   ]
  },
  {
   "cell_type": "code",
   "execution_count": 2,
   "id": "f337439e",
   "metadata": {
    "execution": {
     "iopub.execute_input": "2022-01-18T10:26:03.018955Z",
     "iopub.status.busy": "2022-01-18T10:26:03.018153Z",
     "iopub.status.idle": "2022-01-18T10:26:06.264996Z",
     "shell.execute_reply": "2022-01-18T10:26:06.265443Z",
     "shell.execute_reply.started": "2022-01-18T10:04:25.267320Z"
    },
    "papermill": {
     "duration": 3.270691,
     "end_time": "2022-01-18T10:26:06.265639",
     "exception": false,
     "start_time": "2022-01-18T10:26:02.994948",
     "status": "completed"
    },
    "tags": []
   },
   "outputs": [],
   "source": [
    "import os\n",
    "import PIL\n",
    "import time\n",
    "import timm\n",
    "import math\n",
    "import copy\n",
    "import torch\n",
    "import torchvision\n",
    "import itertools\n",
    "import numpy as np\n",
    "%matplotlib inline\n",
    "import torch.nn as nn\n",
    "from PIL import Image\n",
    "from copy import deepcopy\n",
    "import torch.optim as optim\n",
    "import matplotlib.pyplot as plt\n",
    "from timm.models.layers.activations import *\n",
    "from collections import OrderedDict\n",
    "from torchvision import transforms, models, datasets\n",
    "from torch.utils.data.sampler import SubsetRandomSampler\n",
    "device = torch.device(\"cuda:0\" if torch.cuda.is_available() else \"cpu\")\n",
    "from timm.loss import LabelSmoothingCrossEntropy\n",
    "from sklearn.metrics import confusion_matrix, accuracy_score, classification_report, roc_auc_score, roc_curve\n",
    "from randaugment import RandAugment, ImageNetPolicy, Cutout\n",
    "from tqdm import tqdm"
   ]
  },
  {
   "cell_type": "markdown",
   "id": "91efc0a7",
   "metadata": {
    "papermill": {
     "duration": 0.013172,
     "end_time": "2022-01-18T10:26:06.292520",
     "exception": false,
     "start_time": "2022-01-18T10:26:06.279348",
     "status": "completed"
    },
    "tags": []
   },
   "source": [
    "# 2. Data Preparation"
   ]
  },
  {
   "cell_type": "code",
   "execution_count": 3,
   "id": "184ed5a4",
   "metadata": {
    "execution": {
     "iopub.execute_input": "2022-01-18T10:26:06.323346Z",
     "iopub.status.busy": "2022-01-18T10:26:06.322546Z",
     "iopub.status.idle": "2022-01-18T10:26:06.324260Z",
     "shell.execute_reply": "2022-01-18T10:26:06.324770Z",
     "shell.execute_reply.started": "2022-01-18T10:04:28.378036Z"
    },
    "papermill": {
     "duration": 0.019094,
     "end_time": "2022-01-18T10:26:06.324891",
     "exception": false,
     "start_time": "2022-01-18T10:26:06.305797",
     "status": "completed"
    },
    "tags": []
   },
   "outputs": [],
   "source": [
    "# Hyperparameters\n",
    "batch_size = 32\n",
    "num_epochs = 30"
   ]
  },
  {
   "cell_type": "code",
   "execution_count": 4,
   "id": "a942f2ec",
   "metadata": {
    "execution": {
     "iopub.execute_input": "2022-01-18T10:26:06.380199Z",
     "iopub.status.busy": "2022-01-18T10:26:06.358771Z",
     "iopub.status.idle": "2022-01-18T10:26:06.383305Z",
     "shell.execute_reply": "2022-01-18T10:26:06.382884Z",
     "shell.execute_reply.started": "2022-01-18T10:04:28.384897Z"
    },
    "papermill": {
     "duration": 0.045319,
     "end_time": "2022-01-18T10:26:06.383405",
     "exception": false,
     "start_time": "2022-01-18T10:26:06.338086",
     "status": "completed"
    },
    "tags": []
   },
   "outputs": [],
   "source": [
    "root_dir = '/kaggle/input/chest-xray-classification'\n",
    "data_transforms = {\n",
    "    'train':transforms.Compose([\n",
    "        transforms.RandomRotation(30),\n",
    "        transforms.RandomResizedCrop(224),\n",
    "        transforms.RandomHorizontalFlip(),\n",
    "        Cutout(size=16),\n",
    "        RandAugment(),\n",
    "        ImageNetPolicy(),\n",
    "        transforms.ToTensor(),\n",
    "        transforms.Normalize([0.485, 0.456, 0.406], \n",
    "                             [0.229, 0.224, 0.225])\n",
    "    ]),\n",
    "    'val': transforms.Compose([\n",
    "        transforms.Resize(256),\n",
    "        transforms.CenterCrop(224),\n",
    "        transforms.ToTensor(),\n",
    "        transforms.Normalize([0.485, 0.456, 0.406], \n",
    "                             [0.229, 0.224, 0.225])\n",
    "    ]),\n",
    "    'test':transforms.Compose([\n",
    "        transforms.Resize(256),\n",
    "        transforms.CenterCrop(224),\n",
    "        transforms.ToTensor(),\n",
    "        transforms.Normalize([0.485, 0.456, 0.406], \n",
    "                             [0.229, 0.224, 0.225])\n",
    "    ])\n",
    "}"
   ]
  },
  {
   "cell_type": "code",
   "execution_count": 5,
   "id": "38921dfe",
   "metadata": {
    "execution": {
     "iopub.execute_input": "2022-01-18T10:26:06.415734Z",
     "iopub.status.busy": "2022-01-18T10:26:06.413265Z",
     "iopub.status.idle": "2022-01-18T10:26:20.787987Z",
     "shell.execute_reply": "2022-01-18T10:26:20.786982Z",
     "shell.execute_reply.started": "2022-01-18T10:04:28.422591Z"
    },
    "papermill": {
     "duration": 14.39143,
     "end_time": "2022-01-18T10:26:20.788143",
     "exception": false,
     "start_time": "2022-01-18T10:26:06.396713",
     "status": "completed"
    },
    "tags": []
   },
   "outputs": [],
   "source": [
    "image_datasets = {x : datasets.ImageFolder(os.path.join(root_dir, x), data_transforms[x]) for x in ['train', 'val', 'test']}\n",
    "data_loader = {x : torch.utils.data.DataLoader(image_datasets[x], batch_size=batch_size if x!='test' else 2, shuffle=True, num_workers=2, pin_memory=True) for x in ['train', 'val', 'test']}\n",
    "dataset_sizes = {x : len(image_datasets[x]) for x in ['train', 'val', 'test']}\n",
    "class_names = image_datasets['train'].classes"
   ]
  },
  {
   "cell_type": "code",
   "execution_count": 6,
   "id": "4b091f53",
   "metadata": {
    "execution": {
     "iopub.execute_input": "2022-01-18T10:26:20.824890Z",
     "iopub.status.busy": "2022-01-18T10:26:20.823956Z",
     "iopub.status.idle": "2022-01-18T10:26:20.827254Z",
     "shell.execute_reply": "2022-01-18T10:26:20.827788Z",
     "shell.execute_reply.started": "2022-01-18T10:04:47.776867Z"
    },
    "papermill": {
     "duration": 0.024065,
     "end_time": "2022-01-18T10:26:20.827941",
     "exception": false,
     "start_time": "2022-01-18T10:26:20.803876",
     "status": "completed"
    },
    "tags": []
   },
   "outputs": [
    {
     "name": "stdout",
     "output_type": "stream",
     "text": [
      "{'train': 17813, 'val': 2227, 'test': 2229}\n",
      "['COVID', 'Lung_Opacity', 'Normal', 'Pneunomia', 'Tuberculosis']\n"
     ]
    }
   ],
   "source": [
    "print(dataset_sizes)\n",
    "print(class_names)"
   ]
  },
  {
   "cell_type": "markdown",
   "id": "e678324e",
   "metadata": {
    "papermill": {
     "duration": 0.014733,
     "end_time": "2022-01-18T10:26:20.858244",
     "exception": false,
     "start_time": "2022-01-18T10:26:20.843511",
     "status": "completed"
    },
    "tags": []
   },
   "source": [
    "# 3. Model"
   ]
  },
  {
   "cell_type": "code",
   "execution_count": 7,
   "id": "40a4090d",
   "metadata": {
    "execution": {
     "iopub.execute_input": "2022-01-18T10:26:20.892136Z",
     "iopub.status.busy": "2022-01-18T10:26:20.891636Z",
     "iopub.status.idle": "2022-01-18T10:26:35.697275Z",
     "shell.execute_reply": "2022-01-18T10:26:35.697738Z",
     "shell.execute_reply.started": "2022-01-18T10:05:57.596636Z"
    },
    "papermill": {
     "duration": 14.825135,
     "end_time": "2022-01-18T10:26:35.697907",
     "exception": false,
     "start_time": "2022-01-18T10:26:20.872772",
     "status": "completed"
    },
    "tags": []
   },
   "outputs": [
    {
     "name": "stderr",
     "output_type": "stream",
     "text": [
      "Downloading: \"https://github.com/SwinTransformer/storage/releases/download/v1.0.0/swin_base_patch4_window7_224_22kto1k.pth\" to /root/.cache/torch/hub/checkpoints/swin_base_patch4_window7_224_22kto1k.pth\n"
     ]
    },
    {
     "data": {
      "text/plain": [
       "Linear(in_features=1024, out_features=1000, bias=True)"
      ]
     },
     "execution_count": 7,
     "metadata": {},
     "output_type": "execute_result"
    }
   ],
   "source": [
    "model = timm.create_model('swin_base_patch4_window7_224', pretrained=True)\n",
    "model.head"
   ]
  },
  {
   "cell_type": "code",
   "execution_count": 8,
   "id": "5c6ce6b9",
   "metadata": {
    "execution": {
     "iopub.execute_input": "2022-01-18T10:26:35.733619Z",
     "iopub.status.busy": "2022-01-18T10:26:35.732905Z",
     "iopub.status.idle": "2022-01-18T10:26:38.677602Z",
     "shell.execute_reply": "2022-01-18T10:26:38.677148Z",
     "shell.execute_reply.started": "2022-01-18T10:10:58.849440Z"
    },
    "papermill": {
     "duration": 2.965242,
     "end_time": "2022-01-18T10:26:38.677744",
     "exception": false,
     "start_time": "2022-01-18T10:26:35.712502",
     "status": "completed"
    },
    "tags": []
   },
   "outputs": [
    {
     "name": "stdout",
     "output_type": "stream",
     "text": [
      "87400637\n"
     ]
    }
   ],
   "source": [
    "from collections import OrderedDict\n",
    "head = nn.Sequential(OrderedDict([\n",
    "    ('fc1', nn.Linear(1024, 512)),\n",
    "    ('relu1', nn.ReLU()),\n",
    "    ('fc2', nn.Linear(512, 256)),\n",
    "    ('relu2', nn.ReLU()),\n",
    "    ('fc3', nn.Linear(256, 5))\n",
    "]))\n",
    "model.head = head\n",
    "model = model.to(device)\n",
    "\n",
    "for params in model.parameters():\n",
    "    params.requires_grad = True\n",
    "    \n",
    "def count_params(model):\n",
    "    return sum(p.numel() for p in model.parameters() if p.requires_grad)\n",
    "print(count_params(model))"
   ]
  },
  {
   "cell_type": "markdown",
   "id": "fd3212ef",
   "metadata": {
    "papermill": {
     "duration": 0.014347,
     "end_time": "2022-01-18T10:26:38.706830",
     "exception": false,
     "start_time": "2022-01-18T10:26:38.692483",
     "status": "completed"
    },
    "tags": []
   },
   "source": [
    "# 4. Training"
   ]
  },
  {
   "cell_type": "code",
   "execution_count": 9,
   "id": "44a85bff",
   "metadata": {
    "execution": {
     "iopub.execute_input": "2022-01-18T10:26:38.742863Z",
     "iopub.status.busy": "2022-01-18T10:26:38.742154Z",
     "iopub.status.idle": "2022-01-18T10:26:38.744238Z",
     "shell.execute_reply": "2022-01-18T10:26:38.744621Z",
     "shell.execute_reply.started": "2022-01-18T10:11:25.614152Z"
    },
    "papermill": {
     "duration": 0.023489,
     "end_time": "2022-01-18T10:26:38.744745",
     "exception": false,
     "start_time": "2022-01-18T10:26:38.721256",
     "status": "completed"
    },
    "tags": []
   },
   "outputs": [],
   "source": [
    "criterion = LabelSmoothingCrossEntropy()\n",
    "optimizer = optim.SGD(model.parameters(), lr=0.01, momentum=0.9, weight_decay=0.0001)\n",
    "scheduler = optim.lr_scheduler.StepLR(optimizer, step_size=10, gamma=0.1)"
   ]
  },
  {
   "cell_type": "code",
   "execution_count": 10,
   "id": "678cc367",
   "metadata": {
    "execution": {
     "iopub.execute_input": "2022-01-18T10:26:38.786600Z",
     "iopub.status.busy": "2022-01-18T10:26:38.785824Z",
     "iopub.status.idle": "2022-01-18T10:26:38.787726Z",
     "shell.execute_reply": "2022-01-18T10:26:38.788390Z",
     "shell.execute_reply.started": "2022-01-18T10:11:29.557038Z"
    },
    "papermill": {
     "duration": 0.029429,
     "end_time": "2022-01-18T10:26:38.788528",
     "exception": false,
     "start_time": "2022-01-18T10:26:38.759099",
     "status": "completed"
    },
    "tags": []
   },
   "outputs": [],
   "source": [
    "def train_model(model, criterion, optimizer, scheduler, num_epochs=num_epochs , path='model.pth'):\n",
    "    since = time.time()\n",
    "    best_model_wts = copy.deepcopy(model.state_dict())\n",
    "    best_loss = math.inf\n",
    "    best_acc = 0.\n",
    "    \n",
    "    for epoch in range(num_epochs):\n",
    "        since_e = time.time()\n",
    "        print(f'Epoch {epoch+1}/{num_epochs}')\n",
    "        for phase in ['train', 'val']:\n",
    "            if phase == 'train':\n",
    "                model.train()\n",
    "            else:\n",
    "                model.eval()\n",
    "            \n",
    "            running_loss = 0.0\n",
    "            running_correct = 0\n",
    "            \n",
    "            for i, (inputs, labels) in tqdm(enumerate(data_loader[phase])):\n",
    "                inputs = inputs.to(device)\n",
    "                labels = labels.to(device)\n",
    "                \n",
    "                optimizer.zero_grad()\n",
    "                if i%1000==999:\n",
    "                    print(f\"[{epoch+1}, {i} loss: {running_loss/(i*inputs.size(0)):.4f}]\")\n",
    "                \n",
    "                with torch.set_grad_enabled(phase=='train'):\n",
    "                    outputs = model(inputs)\n",
    "                    _, preds = torch.max(outputs, 1)\n",
    "                    loss = criterion(outputs, labels)\n",
    "                    if phase=='train':\n",
    "                        loss.backward()\n",
    "                        optimizer.step()\n",
    "                \n",
    "                running_loss += loss.item()*inputs.size(0)\n",
    "                running_correct += torch.sum(preds==labels.data)\n",
    "                \n",
    "            epoch_loss = running_loss / dataset_sizes[phase]\n",
    "            epoch_acc = running_correct / dataset_sizes[phase]\n",
    "            print('{} loss: {:.4f} acc: {:.4f}'.format(phase, epoch_loss, epoch_acc))\n",
    "            \n",
    "            if phase == 'train':\n",
    "                scheduler.step()\n",
    "            if phase == 'val' and epoch_acc > best_acc:\n",
    "                print(f'New acc: {epoch_acc:.4f}, previous acc: {best_acc:.4f}')\n",
    "                best_loss = epoch_loss\n",
    "                best_acc = epoch_acc\n",
    "                best_model_wts = copy.deepcopy(model.state_dict())\n",
    "                torch.save(model.state_dict(), path)\n",
    "        time_e = time.time() - since_e\n",
    "        print(f'Training epoch {epoch+1} complete in: {time_e//60:.0f}m {time_e%60:.0f}s')\n",
    "    time_elapsed = time.time()-since\n",
    "    print('Training complete in: {:.0f}m {:.0f}s'.format(time_elapsed//60, time_elapsed%60))\n",
    "    print('Best val acc: {:.4f} Best val loss: {:.4f}'.format(best_acc, best_loss))\n",
    "    \n",
    "    model.load_state_dict(best_model_wts)\n",
    "    return model"
   ]
  },
  {
   "cell_type": "code",
   "execution_count": 11,
   "id": "c5e38a70",
   "metadata": {
    "execution": {
     "iopub.execute_input": "2022-01-18T10:26:38.821301Z",
     "iopub.status.busy": "2022-01-18T10:26:38.820571Z",
     "iopub.status.idle": "2022-01-18T14:02:16.656322Z",
     "shell.execute_reply": "2022-01-18T14:02:16.656797Z",
     "shell.execute_reply.started": "2022-01-18T10:11:31.642921Z"
    },
    "papermill": {
     "duration": 12937.85385,
     "end_time": "2022-01-18T14:02:16.656968",
     "exception": false,
     "start_time": "2022-01-18T10:26:38.803118",
     "status": "completed"
    },
    "tags": []
   },
   "outputs": [
    {
     "name": "stdout",
     "output_type": "stream",
     "text": [
      "Epoch 1/30\n"
     ]
    },
    {
     "name": "stderr",
     "output_type": "stream",
     "text": [
      "557it [07:03,  1.32it/s]"
     ]
    },
    {
     "name": "stdout",
     "output_type": "stream",
     "text": [
      "train loss: 1.0622 acc: 0.6486\n"
     ]
    },
    {
     "name": "stderr",
     "output_type": "stream",
     "text": [
      "\n",
      "70it [00:29,  2.41it/s]\n"
     ]
    },
    {
     "name": "stdout",
     "output_type": "stream",
     "text": [
      "val loss: 0.7734 acc: 0.8154\n",
      "New acc: 0.8154, previous acc: 0.0000\n",
      "Training epoch 1 complete in: 7m 33s\n",
      "Epoch 2/30\n"
     ]
    },
    {
     "name": "stderr",
     "output_type": "stream",
     "text": [
      "557it [06:37,  1.40it/s]"
     ]
    },
    {
     "name": "stdout",
     "output_type": "stream",
     "text": [
      "train loss: 0.8870 acc: 0.7429\n"
     ]
    },
    {
     "name": "stderr",
     "output_type": "stream",
     "text": [
      "\n",
      "70it [00:24,  2.83it/s]\n"
     ]
    },
    {
     "name": "stdout",
     "output_type": "stream",
     "text": [
      "val loss: 0.6801 acc: 0.8532\n",
      "New acc: 0.8532, previous acc: 0.8154\n",
      "Training epoch 2 complete in: 7m 4s\n",
      "Epoch 3/30\n"
     ]
    },
    {
     "name": "stderr",
     "output_type": "stream",
     "text": [
      "557it [06:39,  1.39it/s]"
     ]
    },
    {
     "name": "stdout",
     "output_type": "stream",
     "text": [
      "train loss: 0.8427 acc: 0.7697\n"
     ]
    },
    {
     "name": "stderr",
     "output_type": "stream",
     "text": [
      "\n",
      "70it [00:25,  2.76it/s]"
     ]
    },
    {
     "name": "stdout",
     "output_type": "stream",
     "text": [
      "val loss: 0.7225 acc: 0.8289\n",
      "Training epoch 3 complete in: 7m 5s\n",
      "Epoch 4/30\n"
     ]
    },
    {
     "name": "stderr",
     "output_type": "stream",
     "text": [
      "\n",
      "557it [06:39,  1.39it/s]"
     ]
    },
    {
     "name": "stdout",
     "output_type": "stream",
     "text": [
      "train loss: 0.8017 acc: 0.7895\n"
     ]
    },
    {
     "name": "stderr",
     "output_type": "stream",
     "text": [
      "\n",
      "70it [00:25,  2.71it/s]\n"
     ]
    },
    {
     "name": "stdout",
     "output_type": "stream",
     "text": [
      "val loss: 0.6659 acc: 0.8644\n",
      "New acc: 0.8644, previous acc: 0.8532\n",
      "Training epoch 4 complete in: 7m 7s\n",
      "Epoch 5/30\n"
     ]
    },
    {
     "name": "stderr",
     "output_type": "stream",
     "text": [
      "557it [06:39,  1.40it/s]"
     ]
    },
    {
     "name": "stdout",
     "output_type": "stream",
     "text": [
      "train loss: 0.7669 acc: 0.8063\n"
     ]
    },
    {
     "name": "stderr",
     "output_type": "stream",
     "text": [
      "\n",
      "70it [00:25,  2.75it/s]\n"
     ]
    },
    {
     "name": "stdout",
     "output_type": "stream",
     "text": [
      "val loss: 0.6098 acc: 0.8945\n",
      "New acc: 0.8945, previous acc: 0.8644\n",
      "Training epoch 5 complete in: 7m 6s\n",
      "Epoch 6/30\n"
     ]
    },
    {
     "name": "stderr",
     "output_type": "stream",
     "text": [
      "557it [06:43,  1.38it/s]"
     ]
    },
    {
     "name": "stdout",
     "output_type": "stream",
     "text": [
      "train loss: 0.7557 acc: 0.8100\n"
     ]
    },
    {
     "name": "stderr",
     "output_type": "stream",
     "text": [
      "\n",
      "70it [00:25,  2.75it/s]"
     ]
    },
    {
     "name": "stdout",
     "output_type": "stream",
     "text": [
      "val loss: 0.6479 acc: 0.8729\n",
      "Training epoch 6 complete in: 7m 9s\n",
      "Epoch 7/30\n"
     ]
    },
    {
     "name": "stderr",
     "output_type": "stream",
     "text": [
      "\n",
      "557it [06:40,  1.39it/s]"
     ]
    },
    {
     "name": "stdout",
     "output_type": "stream",
     "text": [
      "train loss: 0.7254 acc: 0.8284\n"
     ]
    },
    {
     "name": "stderr",
     "output_type": "stream",
     "text": [
      "\n",
      "70it [00:26,  2.68it/s]"
     ]
    },
    {
     "name": "stdout",
     "output_type": "stream",
     "text": [
      "val loss: 0.6310 acc: 0.8824\n",
      "Training epoch 7 complete in: 7m 7s\n",
      "Epoch 8/30\n"
     ]
    },
    {
     "name": "stderr",
     "output_type": "stream",
     "text": [
      "\n",
      "557it [06:40,  1.39it/s]"
     ]
    },
    {
     "name": "stdout",
     "output_type": "stream",
     "text": [
      "train loss: 0.7118 acc: 0.8343\n"
     ]
    },
    {
     "name": "stderr",
     "output_type": "stream",
     "text": [
      "\n",
      "70it [00:25,  2.75it/s]"
     ]
    },
    {
     "name": "stdout",
     "output_type": "stream",
     "text": [
      "val loss: 0.6235 acc: 0.8877\n",
      "Training epoch 8 complete in: 7m 6s\n",
      "Epoch 9/30\n"
     ]
    },
    {
     "name": "stderr",
     "output_type": "stream",
     "text": [
      "\n",
      "557it [06:45,  1.37it/s]"
     ]
    },
    {
     "name": "stdout",
     "output_type": "stream",
     "text": [
      "train loss: 0.7755 acc: 0.7982\n"
     ]
    },
    {
     "name": "stderr",
     "output_type": "stream",
     "text": [
      "\n",
      "70it [00:27,  2.58it/s]"
     ]
    },
    {
     "name": "stdout",
     "output_type": "stream",
     "text": [
      "val loss: 0.7721 acc: 0.8024\n",
      "Training epoch 9 complete in: 7m 13s\n",
      "Epoch 10/30\n"
     ]
    },
    {
     "name": "stderr",
     "output_type": "stream",
     "text": [
      "\n",
      "557it [06:45,  1.37it/s]"
     ]
    },
    {
     "name": "stdout",
     "output_type": "stream",
     "text": [
      "train loss: 0.7418 acc: 0.8182\n"
     ]
    },
    {
     "name": "stderr",
     "output_type": "stream",
     "text": [
      "\n",
      "70it [00:26,  2.65it/s]"
     ]
    },
    {
     "name": "stdout",
     "output_type": "stream",
     "text": [
      "val loss: 0.6827 acc: 0.8563\n",
      "Training epoch 10 complete in: 7m 12s\n",
      "Epoch 11/30\n"
     ]
    },
    {
     "name": "stderr",
     "output_type": "stream",
     "text": [
      "\n",
      "557it [06:46,  1.37it/s]"
     ]
    },
    {
     "name": "stdout",
     "output_type": "stream",
     "text": [
      "train loss: 0.6508 acc: 0.8676\n"
     ]
    },
    {
     "name": "stderr",
     "output_type": "stream",
     "text": [
      "\n",
      "70it [00:25,  2.78it/s]\n"
     ]
    },
    {
     "name": "stdout",
     "output_type": "stream",
     "text": [
      "val loss: 0.5622 acc: 0.9147\n",
      "New acc: 0.9147, previous acc: 0.8945\n",
      "Training epoch 11 complete in: 7m 12s\n",
      "Epoch 12/30\n"
     ]
    },
    {
     "name": "stderr",
     "output_type": "stream",
     "text": [
      "557it [06:42,  1.38it/s]"
     ]
    },
    {
     "name": "stdout",
     "output_type": "stream",
     "text": [
      "train loss: 0.6315 acc: 0.8754\n"
     ]
    },
    {
     "name": "stderr",
     "output_type": "stream",
     "text": [
      "\n",
      "70it [00:24,  2.82it/s]"
     ]
    },
    {
     "name": "stdout",
     "output_type": "stream",
     "text": [
      "val loss: 0.5727 acc: 0.9142\n",
      "Training epoch 12 complete in: 7m 8s\n",
      "Epoch 13/30\n"
     ]
    },
    {
     "name": "stderr",
     "output_type": "stream",
     "text": [
      "\n",
      "557it [06:47,  1.37it/s]"
     ]
    },
    {
     "name": "stdout",
     "output_type": "stream",
     "text": [
      "train loss: 0.6221 acc: 0.8811\n"
     ]
    },
    {
     "name": "stderr",
     "output_type": "stream",
     "text": [
      "\n",
      "70it [00:25,  2.71it/s]\n"
     ]
    },
    {
     "name": "stdout",
     "output_type": "stream",
     "text": [
      "val loss: 0.5628 acc: 0.9169\n",
      "New acc: 0.9169, previous acc: 0.9147\n",
      "Training epoch 13 complete in: 7m 14s\n",
      "Epoch 14/30\n"
     ]
    },
    {
     "name": "stderr",
     "output_type": "stream",
     "text": [
      "557it [06:48,  1.36it/s]"
     ]
    },
    {
     "name": "stdout",
     "output_type": "stream",
     "text": [
      "train loss: 0.6153 acc: 0.8848\n"
     ]
    },
    {
     "name": "stderr",
     "output_type": "stream",
     "text": [
      "\n",
      "70it [00:25,  2.72it/s]\n"
     ]
    },
    {
     "name": "stdout",
     "output_type": "stream",
     "text": [
      "val loss: 0.5488 acc: 0.9259\n",
      "New acc: 0.9259, previous acc: 0.9169\n",
      "Training epoch 14 complete in: 7m 15s\n",
      "Epoch 15/30\n"
     ]
    },
    {
     "name": "stderr",
     "output_type": "stream",
     "text": [
      "557it [06:46,  1.37it/s]"
     ]
    },
    {
     "name": "stdout",
     "output_type": "stream",
     "text": [
      "train loss: 0.6180 acc: 0.8823\n"
     ]
    },
    {
     "name": "stderr",
     "output_type": "stream",
     "text": [
      "\n",
      "70it [00:24,  2.91it/s]"
     ]
    },
    {
     "name": "stdout",
     "output_type": "stream",
     "text": [
      "val loss: 0.5629 acc: 0.9201\n",
      "Training epoch 15 complete in: 7m 10s\n",
      "Epoch 16/30\n"
     ]
    },
    {
     "name": "stderr",
     "output_type": "stream",
     "text": [
      "\n",
      "557it [06:40,  1.39it/s]"
     ]
    },
    {
     "name": "stdout",
     "output_type": "stream",
     "text": [
      "train loss: 0.6107 acc: 0.8878\n"
     ]
    },
    {
     "name": "stderr",
     "output_type": "stream",
     "text": [
      "\n",
      "70it [00:25,  2.73it/s]\n"
     ]
    },
    {
     "name": "stdout",
     "output_type": "stream",
     "text": [
      "val loss: 0.5427 acc: 0.9277\n",
      "New acc: 0.9277, previous acc: 0.9259\n",
      "Training epoch 16 complete in: 7m 7s\n",
      "Epoch 17/30\n"
     ]
    },
    {
     "name": "stderr",
     "output_type": "stream",
     "text": [
      "557it [06:45,  1.37it/s]"
     ]
    },
    {
     "name": "stdout",
     "output_type": "stream",
     "text": [
      "train loss: 0.6059 acc: 0.8910\n"
     ]
    },
    {
     "name": "stderr",
     "output_type": "stream",
     "text": [
      "\n",
      "70it [00:24,  2.84it/s]\n"
     ]
    },
    {
     "name": "stdout",
     "output_type": "stream",
     "text": [
      "val loss: 0.5446 acc: 0.9326\n",
      "New acc: 0.9326, previous acc: 0.9277\n",
      "Training epoch 17 complete in: 7m 12s\n",
      "Epoch 18/30\n"
     ]
    },
    {
     "name": "stderr",
     "output_type": "stream",
     "text": [
      "557it [06:42,  1.38it/s]"
     ]
    },
    {
     "name": "stdout",
     "output_type": "stream",
     "text": [
      "train loss: 0.6050 acc: 0.8911\n"
     ]
    },
    {
     "name": "stderr",
     "output_type": "stream",
     "text": [
      "\n",
      "70it [00:24,  2.90it/s]"
     ]
    },
    {
     "name": "stdout",
     "output_type": "stream",
     "text": [
      "val loss: 0.5458 acc: 0.9304\n",
      "Training epoch 18 complete in: 7m 7s\n",
      "Epoch 19/30\n"
     ]
    },
    {
     "name": "stderr",
     "output_type": "stream",
     "text": [
      "\n",
      "557it [06:52,  1.35it/s]"
     ]
    },
    {
     "name": "stdout",
     "output_type": "stream",
     "text": [
      "train loss: 0.6003 acc: 0.8927\n"
     ]
    },
    {
     "name": "stderr",
     "output_type": "stream",
     "text": [
      "\n",
      "70it [00:24,  2.87it/s]"
     ]
    },
    {
     "name": "stdout",
     "output_type": "stream",
     "text": [
      "val loss: 0.5442 acc: 0.9300\n",
      "Training epoch 19 complete in: 7m 17s\n",
      "Epoch 20/30\n"
     ]
    },
    {
     "name": "stderr",
     "output_type": "stream",
     "text": [
      "\n",
      "557it [06:48,  1.36it/s]"
     ]
    },
    {
     "name": "stdout",
     "output_type": "stream",
     "text": [
      "train loss: 0.5968 acc: 0.8924\n"
     ]
    },
    {
     "name": "stderr",
     "output_type": "stream",
     "text": [
      "\n",
      "70it [00:26,  2.65it/s]"
     ]
    },
    {
     "name": "stdout",
     "output_type": "stream",
     "text": [
      "val loss: 0.5623 acc: 0.9178\n",
      "Training epoch 20 complete in: 7m 15s\n",
      "Epoch 21/30\n"
     ]
    },
    {
     "name": "stderr",
     "output_type": "stream",
     "text": [
      "\n",
      "557it [06:45,  1.37it/s]"
     ]
    },
    {
     "name": "stdout",
     "output_type": "stream",
     "text": [
      "train loss: 0.5956 acc: 0.8941\n"
     ]
    },
    {
     "name": "stderr",
     "output_type": "stream",
     "text": [
      "\n",
      "70it [00:26,  2.66it/s]\n"
     ]
    },
    {
     "name": "stdout",
     "output_type": "stream",
     "text": [
      "val loss: 0.5374 acc: 0.9344\n",
      "New acc: 0.9344, previous acc: 0.9326\n",
      "Training epoch 21 complete in: 7m 13s\n",
      "Epoch 22/30\n"
     ]
    },
    {
     "name": "stderr",
     "output_type": "stream",
     "text": [
      "557it [06:43,  1.38it/s]"
     ]
    },
    {
     "name": "stdout",
     "output_type": "stream",
     "text": [
      "train loss: 0.6004 acc: 0.8937\n"
     ]
    },
    {
     "name": "stderr",
     "output_type": "stream",
     "text": [
      "\n",
      "70it [00:24,  2.87it/s]"
     ]
    },
    {
     "name": "stdout",
     "output_type": "stream",
     "text": [
      "val loss: 0.5362 acc: 0.9331\n",
      "Training epoch 22 complete in: 7m 8s\n",
      "Epoch 23/30\n"
     ]
    },
    {
     "name": "stderr",
     "output_type": "stream",
     "text": [
      "\n",
      "557it [06:48,  1.36it/s]"
     ]
    },
    {
     "name": "stdout",
     "output_type": "stream",
     "text": [
      "train loss: 0.5882 acc: 0.8979\n"
     ]
    },
    {
     "name": "stderr",
     "output_type": "stream",
     "text": [
      "\n",
      "70it [00:25,  2.80it/s]"
     ]
    },
    {
     "name": "stdout",
     "output_type": "stream",
     "text": [
      "val loss: 0.5360 acc: 0.9335\n",
      "Training epoch 23 complete in: 7m 14s\n",
      "Epoch 24/30\n"
     ]
    },
    {
     "name": "stderr",
     "output_type": "stream",
     "text": [
      "\n",
      "557it [06:47,  1.37it/s]"
     ]
    },
    {
     "name": "stdout",
     "output_type": "stream",
     "text": [
      "train loss: 0.5891 acc: 0.8995\n"
     ]
    },
    {
     "name": "stderr",
     "output_type": "stream",
     "text": [
      "\n",
      "70it [00:25,  2.78it/s]"
     ]
    },
    {
     "name": "stdout",
     "output_type": "stream",
     "text": [
      "val loss: 0.5423 acc: 0.9300\n",
      "Training epoch 24 complete in: 7m 13s\n",
      "Epoch 25/30\n"
     ]
    },
    {
     "name": "stderr",
     "output_type": "stream",
     "text": [
      "\n",
      "557it [06:46,  1.37it/s]"
     ]
    },
    {
     "name": "stdout",
     "output_type": "stream",
     "text": [
      "train loss: 0.5907 acc: 0.8971\n"
     ]
    },
    {
     "name": "stderr",
     "output_type": "stream",
     "text": [
      "\n",
      "70it [00:23,  2.94it/s]"
     ]
    },
    {
     "name": "stdout",
     "output_type": "stream",
     "text": [
      "val loss: 0.5326 acc: 0.9340\n",
      "Training epoch 25 complete in: 7m 11s\n",
      "Epoch 26/30\n"
     ]
    },
    {
     "name": "stderr",
     "output_type": "stream",
     "text": [
      "\n",
      "557it [06:46,  1.37it/s]"
     ]
    },
    {
     "name": "stdout",
     "output_type": "stream",
     "text": [
      "train loss: 0.5919 acc: 0.8973\n"
     ]
    },
    {
     "name": "stderr",
     "output_type": "stream",
     "text": [
      "\n",
      "70it [00:24,  2.80it/s]"
     ]
    },
    {
     "name": "stdout",
     "output_type": "stream",
     "text": [
      "val loss: 0.5366 acc: 0.9340\n",
      "Training epoch 26 complete in: 7m 12s\n",
      "Epoch 27/30\n"
     ]
    },
    {
     "name": "stderr",
     "output_type": "stream",
     "text": [
      "\n",
      "557it [06:49,  1.36it/s]"
     ]
    },
    {
     "name": "stdout",
     "output_type": "stream",
     "text": [
      "train loss: 0.5899 acc: 0.8989\n"
     ]
    },
    {
     "name": "stderr",
     "output_type": "stream",
     "text": [
      "\n",
      "70it [00:24,  2.81it/s]\n"
     ]
    },
    {
     "name": "stdout",
     "output_type": "stream",
     "text": [
      "val loss: 0.5347 acc: 0.9358\n",
      "New acc: 0.9358, previous acc: 0.9344\n",
      "Training epoch 27 complete in: 7m 15s\n",
      "Epoch 28/30\n"
     ]
    },
    {
     "name": "stderr",
     "output_type": "stream",
     "text": [
      "557it [06:48,  1.36it/s]"
     ]
    },
    {
     "name": "stdout",
     "output_type": "stream",
     "text": [
      "train loss: 0.5852 acc: 0.9016\n"
     ]
    },
    {
     "name": "stderr",
     "output_type": "stream",
     "text": [
      "\n",
      "70it [00:26,  2.59it/s]"
     ]
    },
    {
     "name": "stdout",
     "output_type": "stream",
     "text": [
      "val loss: 0.5352 acc: 0.9344\n",
      "Training epoch 28 complete in: 7m 16s\n",
      "Epoch 29/30\n"
     ]
    },
    {
     "name": "stderr",
     "output_type": "stream",
     "text": [
      "\n",
      "557it [06:44,  1.38it/s]"
     ]
    },
    {
     "name": "stdout",
     "output_type": "stream",
     "text": [
      "train loss: 0.5892 acc: 0.8974\n"
     ]
    },
    {
     "name": "stderr",
     "output_type": "stream",
     "text": [
      "\n",
      "70it [00:23,  2.97it/s]"
     ]
    },
    {
     "name": "stdout",
     "output_type": "stream",
     "text": [
      "val loss: 0.5358 acc: 0.9335\n",
      "Training epoch 29 complete in: 7m 8s\n",
      "Epoch 30/30\n"
     ]
    },
    {
     "name": "stderr",
     "output_type": "stream",
     "text": [
      "\n",
      "557it [06:45,  1.37it/s]"
     ]
    },
    {
     "name": "stdout",
     "output_type": "stream",
     "text": [
      "train loss: 0.5854 acc: 0.9016\n"
     ]
    },
    {
     "name": "stderr",
     "output_type": "stream",
     "text": [
      "\n",
      "70it [00:24,  2.89it/s]\n"
     ]
    },
    {
     "name": "stdout",
     "output_type": "stream",
     "text": [
      "val loss: 0.5314 acc: 0.9367\n",
      "New acc: 0.9367, previous acc: 0.9358\n",
      "Training epoch 30 complete in: 7m 11s\n",
      "Training complete in: 215m 38s\n",
      "Best val acc: 0.9367 Best val loss: 0.5314\n"
     ]
    }
   ],
   "source": [
    "model = train_model(model, criterion, optimizer, scheduler)"
   ]
  },
  {
   "cell_type": "markdown",
   "id": "5e8eeda0",
   "metadata": {
    "papermill": {
     "duration": 4.912965,
     "end_time": "2022-01-18T14:02:26.710058",
     "exception": false,
     "start_time": "2022-01-18T14:02:21.797093",
     "status": "completed"
    },
    "tags": []
   },
   "source": [
    "# 5. Prediction on Test set"
   ]
  },
  {
   "cell_type": "code",
   "execution_count": 12,
   "id": "add6f01c",
   "metadata": {
    "execution": {
     "iopub.execute_input": "2022-01-18T14:02:37.256081Z",
     "iopub.status.busy": "2022-01-18T14:02:37.255156Z",
     "iopub.status.idle": "2022-01-18T14:02:37.258887Z",
     "shell.execute_reply": "2022-01-18T14:02:37.258372Z",
     "shell.execute_reply.started": "2022-01-18T10:23:01.792197Z"
    },
    "papermill": {
     "duration": 4.904584,
     "end_time": "2022-01-18T14:02:37.259008",
     "exception": false,
     "start_time": "2022-01-18T14:02:32.354424",
     "status": "completed"
    },
    "tags": []
   },
   "outputs": [],
   "source": [
    "def plot_confusion_matrix(cm, classes,\n",
    "                          normalize=False,\n",
    "                          title='Confusion matrix',\n",
    "                          cmap=plt.cm.Blues):\n",
    "    \"\"\"\n",
    "    This function prints and plots the confusion matrix.\n",
    "    Normalization can be applied by setting `normalize=True`.\n",
    "    \"\"\"\n",
    "    plt.imshow(cm, interpolation='nearest', cmap=cmap)\n",
    "    plt.title(title)\n",
    "    plt.colorbar()\n",
    "    tick_marks = np.arange(len(classes))\n",
    "    plt.xticks(tick_marks, classes, rotation=45)\n",
    "    plt.yticks(tick_marks, classes)\n",
    "\n",
    "    if normalize:\n",
    "        cm = cm.astype('float') / cm.sum(axis=1)[:, np.newaxis]\n",
    "\n",
    "    thresh = cm.max() / 2.\n",
    "    for i, j in itertools.product(range(cm.shape[0]), range(cm.shape[1])):\n",
    "        plt.text(j, i, cm[i, j],\n",
    "                 horizontalalignment=\"center\",\n",
    "                 color=\"white\" if cm[i, j] > thresh else \"black\")\n",
    "\n",
    "    plt.tight_layout()\n",
    "    plt.ylabel('True label')\n",
    "    plt.xlabel('Predicted label')"
   ]
  },
  {
   "cell_type": "code",
   "execution_count": 13,
   "id": "fbb409e8",
   "metadata": {
    "execution": {
     "iopub.execute_input": "2022-01-18T14:02:47.214786Z",
     "iopub.status.busy": "2022-01-18T14:02:47.213787Z",
     "iopub.status.idle": "2022-01-18T14:02:47.449627Z",
     "shell.execute_reply": "2022-01-18T14:02:47.450111Z",
     "shell.execute_reply.started": "2022-01-18T10:23:02.426548Z"
    },
    "papermill": {
     "duration": 5.088354,
     "end_time": "2022-01-18T14:02:47.450273",
     "exception": false,
     "start_time": "2022-01-18T14:02:42.361919",
     "status": "completed"
    },
    "tags": []
   },
   "outputs": [
    {
     "data": {
      "text/plain": [
       "<All keys matched successfully>"
      ]
     },
     "execution_count": 13,
     "metadata": {},
     "output_type": "execute_result"
    }
   ],
   "source": [
    "# model = timm.create_model('swin_base_patch4_window7_224', pretrained=True)\n",
    "# head = nn.Sequential(OrderedDict([\n",
    "#     ('fc1', nn.Linear(1024, 512)),\n",
    "#     ('relu1', nn.ReLU()),\n",
    "#     ('fc2', nn.Linear(512, 256)),\n",
    "#     ('relu2', nn.ReLU()),\n",
    "#     ('fc3', nn.Linear(256, 5))\n",
    "# ]))\n",
    "# model.head = head\n",
    "# model = model.to(device)\n",
    "\n",
    "model.load_state_dict(torch.load('./model.pth'))"
   ]
  },
  {
   "cell_type": "code",
   "execution_count": 14,
   "id": "ad8df668",
   "metadata": {
    "execution": {
     "iopub.execute_input": "2022-01-18T14:02:57.434597Z",
     "iopub.status.busy": "2022-01-18T14:02:57.433682Z",
     "iopub.status.idle": "2022-01-18T14:03:47.639082Z",
     "shell.execute_reply": "2022-01-18T14:03:47.639516Z",
     "shell.execute_reply.started": "2022-01-18T10:23:06.019153Z"
    },
    "papermill": {
     "duration": 55.002757,
     "end_time": "2022-01-18T14:03:47.639672",
     "exception": false,
     "start_time": "2022-01-18T14:02:52.636915",
     "status": "completed"
    },
    "tags": []
   },
   "outputs": [
    {
     "name": "stdout",
     "output_type": "stream",
     "text": [
      "Testing complete in 0m 50s\n",
      "              precision    recall  f1-score   support\n",
      "\n",
      "           0    0.98726   0.85635   0.91716       362\n",
      "           1    0.92785   0.91860   0.92321       602\n",
      "           2    0.91451   0.96887   0.94091      1060\n",
      "           3    0.98361   0.88889   0.93385       135\n",
      "           4    0.89189   0.94286   0.91667        70\n",
      "\n",
      "    accuracy                        0.93136      2229\n",
      "   macro avg    0.94103   0.91511   0.92636      2229\n",
      "weighted avg    0.93341   0.93136   0.93108      2229\n",
      "\n"
     ]
    },
    {
     "data": {
      "image/png": "[encoded data removed]",
      "text/plain": [
       "<Figure size 432x288 with 2 Axes>"
      ]
     },
     "metadata": {
      "needs_background": "light"
     },
     "output_type": "display_data"
    }
   ],
   "source": [
    "since = time.time()\n",
    "model.eval()\n",
    "y_test = []\n",
    "y_pred = []\n",
    "y_pred_proba = []\n",
    "for images, labels in data_loader['test']:\n",
    "    images = images.to(device)\n",
    "    labels = labels.to(device)\n",
    "    outputs = model(images)\n",
    "    _, predictions = outputs.max(1)\n",
    "    \n",
    "    y_test.append(labels.data.cpu().numpy())\n",
    "    y_pred.append(predictions.data.cpu().numpy())\n",
    "    y_pred_proba.append(outputs.data.cpu().numpy())\n",
    "    \n",
    "y_test = np.concatenate(y_test)\n",
    "y_pred = np.concatenate(y_pred)\n",
    "y_pred_proba = np.concatenate(y_pred_proba)\n",
    "time_elapsed = time.time() - since\n",
    "\n",
    "print('Testing complete in {:.0f}m {:.0f}s'.format(time_elapsed // 60, time_elapsed % 60))\n",
    "\n",
    "confusion_mtx = confusion_matrix(y_test, y_pred)\n",
    "# plot the confusion matrix\n",
    "plot_labels = ['COVID', 'Lung_Opacity', 'Normal', 'Pneunomia', 'Tuberculosis']\n",
    "\n",
    "plot_confusion_matrix(confusion_mtx, plot_labels)\n",
    "report = classification_report(y_test, y_pred, digits=5)\n",
    "print(report)"
   ]
  },
  {
   "cell_type": "code",
   "execution_count": 15,
   "id": "dae7aa1c",
   "metadata": {
    "execution": {
     "iopub.execute_input": "2022-01-18T14:03:57.402686Z",
     "iopub.status.busy": "2022-01-18T14:03:57.401778Z",
     "iopub.status.idle": "2022-01-18T14:03:57.449561Z",
     "shell.execute_reply": "2022-01-18T14:03:57.450637Z",
     "shell.execute_reply.started": "2022-01-18T10:23:57.826234Z"
    },
    "papermill": {
     "duration": 4.92337,
     "end_time": "2022-01-18T14:03:57.450846",
     "exception": false,
     "start_time": "2022-01-18T14:03:52.527476",
     "status": "completed"
    },
    "tags": []
   },
   "outputs": [],
   "source": [
    "def softmax(vec):\n",
    "    exponential = np.exp(vec)\n",
    "    probabilities = exponential / np.sum(exponential)\n",
    "    return probabilities\n",
    "\n",
    "y_pred_proba = np.array([list(softmax(i)) for i in y_pred_proba])"
   ]
  },
  {
   "cell_type": "code",
   "execution_count": 16,
   "id": "af14a505",
   "metadata": {
    "execution": {
     "iopub.execute_input": "2022-01-18T14:04:07.840708Z",
     "iopub.status.busy": "2022-01-18T14:04:07.839939Z",
     "iopub.status.idle": "2022-01-18T14:04:08.346536Z",
     "shell.execute_reply": "2022-01-18T14:04:08.345831Z",
     "shell.execute_reply.started": "2022-01-18T10:23:57.864297Z"
    },
    "papermill": {
     "duration": 5.82418,
     "end_time": "2022-01-18T14:04:08.346662",
     "exception": false,
     "start_time": "2022-01-18T14:04:02.522482",
     "status": "completed"
    },
    "tags": []
   },
   "outputs": [
    {
     "name": "stdout",
     "output_type": "stream",
     "text": [
      "ROC curve (area = 0.9938)\n"
     ]
    },
    {
     "data": {
      "image/png": "[encoded data removed]",
      "text/plain": [
       "<Figure size 432x288 with 1 Axes>"
      ]
     },
     "metadata": {
      "needs_background": "light"
     },
     "output_type": "display_data"
    }
   ],
   "source": [
    "roc_auc = roc_auc_score(y_test, y_pred_proba, multi_class='ovo')\n",
    "print('ROC curve (area = %0.4f)' % roc_auc)\n",
    "fpr = {}\n",
    "tpr = {}\n",
    "thresh ={}\n",
    "for i in range(5):\n",
    "    fpr[i], tpr[i], thresh[i] = roc_curve(y_test, y_pred_proba[:, i], pos_label=i)\n",
    "\n",
    "# plotting    \n",
    "plt.plot(fpr[0], tpr[0], color='red', label='Class 0 vs Rest')\n",
    "plt.plot(fpr[1], tpr[1], color='green', label='Class 1 vs Rest')\n",
    "plt.plot(fpr[2], tpr[2], color='blue', label='Class 2 vs Rest')\n",
    "plt.plot(fpr[3], tpr[3], color='gray', label='Class 3 vs Rest')\n",
    "plt.plot(fpr[4], tpr[4], color='purple', label='Class 4 vs Rest')\n",
    "plt.plot([0, 1], [0, 1], color='orange', linestyle='--')\n",
    "plt.title('Multiclass ROC curve')\n",
    "plt.xlabel('False Positive Rate')\n",
    "plt.ylabel('True Positive rate')\n",
    "plt.legend(loc='best')\n",
    "plt.savefig('Multiclass ROC',dpi=300); "
   ]
  }
 ],
 "metadata": {
  "kernelspec": {
   "display_name": "Python 3",
   "language": "python",
   "name": "python3"
  },
  "language_info": {
   "codemirror_mode": {
    "name": "ipython",
    "version": 3
   },
   "file_extension": ".py",
   "mimetype": "text/x-python",
   "name": "python",
   "nbconvert_exporter": "python",
   "pygments_lexer": "ipython3",
   "version": "3.7.12"
  },
  "papermill": {
   "default_parameters": {},
   "duration": 13118.423361,
   "end_time": "2022-01-18T14:04:15.957402",
   "environment_variables": {},
   "exception": null,
   "input_path": "__notebook__.ipynb",
   "output_path": "__notebook__.ipynb",
   "parameters": {},
   "start_time": "2022-01-18T10:25:37.534041",
   "version": "2.3.3"
  }
 },
 "nbformat": 4,
 "nbformat_minor": 5
}
