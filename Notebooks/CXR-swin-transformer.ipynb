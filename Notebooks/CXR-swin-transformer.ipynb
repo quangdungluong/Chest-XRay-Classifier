{
 "cells": [
  {
   "cell_type": "markdown",
   "id": "c6498559",
   "metadata": {
    "papermill": {
     "duration": 0.03326,
     "end_time": "2022-02-08T10:05:25.444279",
     "exception": false,
     "start_time": "2022-02-08T10:05:25.411019",
     "status": "completed"
    },
    "tags": []
   },
   "source": [
    "# 1. Import required libraries"
   ]
  },
  {
   "cell_type": "code",
   "execution_count": 1,
   "id": "72be6083",
   "metadata": {
    "_cell_guid": "b1076dfc-b9ad-4769-8c92-a6c4dae69d19",
    "_uuid": "8f2839f25d086af736a60e9eeb907d3b93b6e0e5",
    "execution": {
     "iopub.execute_input": "2022-02-08T10:05:25.552238Z",
     "iopub.status.busy": "2022-02-08T10:05:25.551150Z",
     "iopub.status.idle": "2022-02-08T10:05:47.091202Z",
     "shell.execute_reply": "2022-02-08T10:05:47.090097Z",
     "shell.execute_reply.started": "2022-01-18T10:04:08.196155Z"
    },
    "papermill": {
     "duration": 21.601608,
     "end_time": "2022-02-08T10:05:47.091367",
     "exception": false,
     "start_time": "2022-02-08T10:05:25.489759",
     "status": "completed"
    },
    "tags": []
   },
   "outputs": [],
   "source": [
    "%%capture\n",
    "!pip install timm\n",
    "!pip install randaugment"
   ]
  },
  {
   "cell_type": "code",
   "execution_count": 2,
   "id": "6bd707ad",
   "metadata": {
    "execution": {
     "iopub.execute_input": "2022-02-08T10:05:47.138327Z",
     "iopub.status.busy": "2022-02-08T10:05:47.130150Z",
     "iopub.status.idle": "2022-02-08T10:05:51.278178Z",
     "shell.execute_reply": "2022-02-08T10:05:51.277196Z",
     "shell.execute_reply.started": "2022-01-18T10:04:25.26732Z"
    },
    "papermill": {
     "duration": 4.169086,
     "end_time": "2022-02-08T10:05:51.278324",
     "exception": false,
     "start_time": "2022-02-08T10:05:47.109238",
     "status": "completed"
    },
    "tags": []
   },
   "outputs": [],
   "source": [
    "import os\n",
    "import PIL\n",
    "import time\n",
    "import timm\n",
    "import math\n",
    "import copy\n",
    "import torch\n",
    "import torchvision\n",
    "import itertools\n",
    "import numpy as np\n",
    "%matplotlib inline\n",
    "import torch.nn as nn\n",
    "from PIL import Image\n",
    "from copy import deepcopy\n",
    "import torch.optim as optim\n",
    "import matplotlib.pyplot as plt\n",
    "from timm.models.layers.activations import *\n",
    "from collections import OrderedDict\n",
    "from torchvision import transforms, models, datasets\n",
    "from torch.utils.data.sampler import SubsetRandomSampler\n",
    "device = torch.device(\"cuda:0\" if torch.cuda.is_available() else \"cpu\")\n",
    "from timm.loss import LabelSmoothingCrossEntropy\n",
    "from sklearn.metrics import confusion_matrix, accuracy_score, classification_report, roc_auc_score, roc_curve\n",
    "from randaugment import RandAugment, ImageNetPolicy, Cutout\n",
    "from tqdm import tqdm"
   ]
  },
  {
   "cell_type": "markdown",
   "id": "16059a0e",
   "metadata": {
    "papermill": {
     "duration": 0.017938,
     "end_time": "2022-02-08T10:05:51.313961",
     "exception": false,
     "start_time": "2022-02-08T10:05:51.296023",
     "status": "completed"
    },
    "tags": []
   },
   "source": [
    "# 2. Data Preparation"
   ]
  },
  {
   "cell_type": "code",
   "execution_count": 3,
   "id": "f52b12a4",
   "metadata": {
    "execution": {
     "iopub.execute_input": "2022-02-08T10:05:51.352889Z",
     "iopub.status.busy": "2022-02-08T10:05:51.351950Z",
     "iopub.status.idle": "2022-02-08T10:05:51.354671Z",
     "shell.execute_reply": "2022-02-08T10:05:51.355234Z",
     "shell.execute_reply.started": "2022-01-18T10:04:28.378036Z"
    },
    "papermill": {
     "duration": 0.02422,
     "end_time": "2022-02-08T10:05:51.355399",
     "exception": false,
     "start_time": "2022-02-08T10:05:51.331179",
     "status": "completed"
    },
    "tags": []
   },
   "outputs": [],
   "source": [
    "# Hyperparameters\n",
    "batch_size = 32\n",
    "num_epochs = 50"
   ]
  },
  {
   "cell_type": "code",
   "execution_count": 4,
   "id": "4d71e9c1",
   "metadata": {
    "execution": {
     "iopub.execute_input": "2022-02-08T10:05:51.403836Z",
     "iopub.status.busy": "2022-02-08T10:05:51.402732Z",
     "iopub.status.idle": "2022-02-08T10:05:51.420753Z",
     "shell.execute_reply": "2022-02-08T10:05:51.420181Z",
     "shell.execute_reply.started": "2022-01-18T10:04:28.384897Z"
    },
    "papermill": {
     "duration": 0.048471,
     "end_time": "2022-02-08T10:05:51.420873",
     "exception": false,
     "start_time": "2022-02-08T10:05:51.372402",
     "status": "completed"
    },
    "tags": []
   },
   "outputs": [],
   "source": [
    "root_dir = '/kaggle/input/chest-xray-classification'\n",
    "data_transforms = {\n",
    "    'train':transforms.Compose([\n",
    "        transforms.RandomRotation(30),\n",
    "        transforms.RandomResizedCrop(224),\n",
    "        transforms.RandomHorizontalFlip(),\n",
    "        Cutout(size=16),\n",
    "        RandAugment(),\n",
    "        ImageNetPolicy(),\n",
    "        transforms.ToTensor(),\n",
    "        transforms.Normalize([0.485, 0.456, 0.406], \n",
    "                             [0.229, 0.224, 0.225])\n",
    "    ]),\n",
    "    'val': transforms.Compose([\n",
    "        transforms.Resize(256),\n",
    "        transforms.CenterCrop(224),\n",
    "        transforms.ToTensor(),\n",
    "        transforms.Normalize([0.485, 0.456, 0.406], \n",
    "                             [0.229, 0.224, 0.225])\n",
    "    ]),\n",
    "    'test':transforms.Compose([\n",
    "        transforms.Resize(256),\n",
    "        transforms.CenterCrop(224),\n",
    "        transforms.ToTensor(),\n",
    "        transforms.Normalize([0.485, 0.456, 0.406], \n",
    "                             [0.229, 0.224, 0.225])\n",
    "    ])\n",
    "}"
   ]
  },
  {
   "cell_type": "code",
   "execution_count": 5,
   "id": "33676e6d",
   "metadata": {
    "execution": {
     "iopub.execute_input": "2022-02-08T10:05:51.457027Z",
     "iopub.status.busy": "2022-02-08T10:05:51.455999Z",
     "iopub.status.idle": "2022-02-08T10:05:58.038353Z",
     "shell.execute_reply": "2022-02-08T10:05:58.038928Z",
     "shell.execute_reply.started": "2022-01-18T10:04:28.422591Z"
    },
    "papermill": {
     "duration": 6.601983,
     "end_time": "2022-02-08T10:05:58.039121",
     "exception": false,
     "start_time": "2022-02-08T10:05:51.437138",
     "status": "completed"
    },
    "tags": []
   },
   "outputs": [],
   "source": [
    "image_datasets = {x : datasets.ImageFolder(os.path.join(root_dir, x), data_transforms[x]) for x in ['train', 'val', 'test']}\n",
    "data_loader = {x : torch.utils.data.DataLoader(image_datasets[x], batch_size=batch_size if x!='test' else 2, shuffle=True, num_workers=2, pin_memory=True) for x in ['train', 'val', 'test']}\n",
    "dataset_sizes = {x : len(image_datasets[x]) for x in ['train', 'val', 'test']}\n",
    "class_names = image_datasets['train'].classes"
   ]
  },
  {
   "cell_type": "code",
   "execution_count": 6,
   "id": "e5aa7988",
   "metadata": {
    "execution": {
     "iopub.execute_input": "2022-02-08T10:05:58.076025Z",
     "iopub.status.busy": "2022-02-08T10:05:58.075132Z",
     "iopub.status.idle": "2022-02-08T10:05:58.078683Z",
     "shell.execute_reply": "2022-02-08T10:05:58.079281Z",
     "shell.execute_reply.started": "2022-01-18T10:04:47.776867Z"
    },
    "papermill": {
     "duration": 0.024107,
     "end_time": "2022-02-08T10:05:58.079412",
     "exception": false,
     "start_time": "2022-02-08T10:05:58.055305",
     "status": "completed"
    },
    "tags": []
   },
   "outputs": [
    {
     "name": "stdout",
     "output_type": "stream",
     "text": [
      "{'train': 17813, 'val': 2227, 'test': 2229}\n",
      "['COVID', 'Lung_Opacity', 'Normal', 'Pneunomia', 'Tuberculosis']\n"
     ]
    }
   ],
   "source": [
    "print(dataset_sizes)\n",
    "print(class_names)"
   ]
  },
  {
   "cell_type": "markdown",
   "id": "f0965984",
   "metadata": {
    "papermill": {
     "duration": 0.017134,
     "end_time": "2022-02-08T10:05:58.112835",
     "exception": false,
     "start_time": "2022-02-08T10:05:58.095701",
     "status": "completed"
    },
    "tags": []
   },
   "source": [
    "# 3. Model"
   ]
  },
  {
   "cell_type": "code",
   "execution_count": 7,
   "id": "21d68f51",
   "metadata": {
    "execution": {
     "iopub.execute_input": "2022-02-08T10:05:58.154610Z",
     "iopub.status.busy": "2022-02-08T10:05:58.153708Z",
     "iopub.status.idle": "2022-02-08T10:06:15.186681Z",
     "shell.execute_reply": "2022-02-08T10:06:15.186125Z",
     "shell.execute_reply.started": "2022-01-18T10:05:57.596636Z"
    },
    "papermill": {
     "duration": 17.057121,
     "end_time": "2022-02-08T10:06:15.186847",
     "exception": false,
     "start_time": "2022-02-08T10:05:58.129726",
     "status": "completed"
    },
    "tags": []
   },
   "outputs": [
    {
     "name": "stderr",
     "output_type": "stream",
     "text": [
      "Downloading: \"https://github.com/SwinTransformer/storage/releases/download/v1.0.0/swin_base_patch4_window7_224_22kto1k.pth\" to /root/.cache/torch/hub/checkpoints/swin_base_patch4_window7_224_22kto1k.pth\n"
     ]
    },
    {
     "data": {
      "text/plain": [
       "Linear(in_features=1024, out_features=1000, bias=True)"
      ]
     },
     "execution_count": 7,
     "metadata": {},
     "output_type": "execute_result"
    }
   ],
   "source": [
    "model = timm.create_model('swin_base_patch4_window7_224', pretrained=True)\n",
    "model.head"
   ]
  },
  {
   "cell_type": "code",
   "execution_count": 8,
   "id": "7e4d5b5f",
   "metadata": {
    "execution": {
     "iopub.execute_input": "2022-02-08T10:06:15.241841Z",
     "iopub.status.busy": "2022-02-08T10:06:15.240944Z",
     "iopub.status.idle": "2022-02-08T10:06:18.647351Z",
     "shell.execute_reply": "2022-02-08T10:06:18.646598Z",
     "shell.execute_reply.started": "2022-01-18T10:10:58.84944Z"
    },
    "papermill": {
     "duration": 3.439937,
     "end_time": "2022-02-08T10:06:18.647549",
     "exception": false,
     "start_time": "2022-02-08T10:06:15.207612",
     "status": "completed"
    },
    "tags": []
   },
   "outputs": [
    {
     "name": "stdout",
     "output_type": "stream",
     "text": [
      "87400637\n"
     ]
    }
   ],
   "source": [
    "from collections import OrderedDict\n",
    "head = nn.Sequential(OrderedDict([\n",
    "    ('fc1', nn.Linear(1024, 512)),\n",
    "    ('relu1', nn.ReLU()),\n",
    "    ('fc2', nn.Linear(512, 256)),\n",
    "    ('relu2', nn.ReLU()),\n",
    "    ('fc3', nn.Linear(256, 5))\n",
    "]))\n",
    "model.head = head\n",
    "model = model.to(device)\n",
    "\n",
    "for params in model.parameters():\n",
    "    params.requires_grad = True\n",
    "    \n",
    "def count_params(model):\n",
    "    return sum(p.numel() for p in model.parameters() if p.requires_grad)\n",
    "print(count_params(model))"
   ]
  },
  {
   "cell_type": "markdown",
   "id": "c7de75b0",
   "metadata": {
    "papermill": {
     "duration": 0.018468,
     "end_time": "2022-02-08T10:06:18.684885",
     "exception": false,
     "start_time": "2022-02-08T10:06:18.666417",
     "status": "completed"
    },
    "tags": []
   },
   "source": [
    "# 4. Training"
   ]
  },
  {
   "cell_type": "code",
   "execution_count": 9,
   "id": "65991fdb",
   "metadata": {
    "execution": {
     "iopub.execute_input": "2022-02-08T10:06:18.731598Z",
     "iopub.status.busy": "2022-02-08T10:06:18.730464Z",
     "iopub.status.idle": "2022-02-08T10:06:18.733270Z",
     "shell.execute_reply": "2022-02-08T10:06:18.733792Z",
     "shell.execute_reply.started": "2022-01-18T10:11:25.614152Z"
    },
    "papermill": {
     "duration": 0.030298,
     "end_time": "2022-02-08T10:06:18.733962",
     "exception": false,
     "start_time": "2022-02-08T10:06:18.703664",
     "status": "completed"
    },
    "tags": []
   },
   "outputs": [],
   "source": [
    "criterion = LabelSmoothingCrossEntropy()\n",
    "optimizer = optim.SGD(model.parameters(), lr=0.01, momentum=0.9, weight_decay=0.0001)\n",
    "scheduler = optim.lr_scheduler.StepLR(optimizer, step_size=10, gamma=0.1)"
   ]
  },
  {
   "cell_type": "code",
   "execution_count": 10,
   "id": "34470c1b",
   "metadata": {
    "execution": {
     "iopub.execute_input": "2022-02-08T10:06:18.787093Z",
     "iopub.status.busy": "2022-02-08T10:06:18.785965Z",
     "iopub.status.idle": "2022-02-08T10:06:18.789145Z",
     "shell.execute_reply": "2022-02-08T10:06:18.788637Z",
     "shell.execute_reply.started": "2022-01-18T10:11:29.557038Z"
    },
    "papermill": {
     "duration": 0.036627,
     "end_time": "2022-02-08T10:06:18.789266",
     "exception": false,
     "start_time": "2022-02-08T10:06:18.752639",
     "status": "completed"
    },
    "tags": []
   },
   "outputs": [],
   "source": [
    "def train_model(model, criterion, optimizer, scheduler, num_epochs=num_epochs , path='model.pth'):\n",
    "    since = time.time()\n",
    "    best_model_wts = copy.deepcopy(model.state_dict())\n",
    "    best_loss = math.inf\n",
    "    best_acc = 0.\n",
    "    \n",
    "    for epoch in range(num_epochs):\n",
    "        since_e = time.time()\n",
    "        print(f'Epoch {epoch+1}/{num_epochs}')\n",
    "        for phase in ['train', 'val']:\n",
    "            if phase == 'train':\n",
    "                model.train()\n",
    "            else:\n",
    "                model.eval()\n",
    "            \n",
    "            running_loss = 0.0\n",
    "            running_correct = 0\n",
    "            \n",
    "            for i, (inputs, labels) in tqdm(enumerate(data_loader[phase])):\n",
    "                inputs = inputs.to(device)\n",
    "                labels = labels.to(device)\n",
    "                \n",
    "                optimizer.zero_grad()\n",
    "                if i%1000==999:\n",
    "                    print(f\"[{epoch+1}, {i} loss: {running_loss/(i*inputs.size(0)):.4f}]\")\n",
    "                \n",
    "                with torch.set_grad_enabled(phase=='train'):\n",
    "                    outputs = model(inputs)\n",
    "                    _, preds = torch.max(outputs, 1)\n",
    "                    loss = criterion(outputs, labels)\n",
    "                    if phase=='train':\n",
    "                        loss.backward()\n",
    "                        optimizer.step()\n",
    "                \n",
    "                running_loss += loss.item()*inputs.size(0)\n",
    "                running_correct += torch.sum(preds==labels.data)\n",
    "                \n",
    "            epoch_loss = running_loss / dataset_sizes[phase]\n",
    "            epoch_acc = running_correct / dataset_sizes[phase]\n",
    "            print('{} loss: {:.4f} acc: {:.4f}'.format(phase, epoch_loss, epoch_acc))\n",
    "            \n",
    "            if phase == 'train':\n",
    "                scheduler.step()\n",
    "            if phase == 'val' and epoch_acc > best_acc:\n",
    "                print(f'New acc: {epoch_acc:.4f}, previous acc: {best_acc:.4f}')\n",
    "                best_loss = epoch_loss\n",
    "                best_acc = epoch_acc\n",
    "                best_model_wts = copy.deepcopy(model.state_dict())\n",
    "                torch.save(model.state_dict(), path)\n",
    "        time_e = time.time() - since_e\n",
    "        print(f'Training epoch {epoch+1} complete in: {time_e//60:.0f}m {time_e%60:.0f}s')\n",
    "    time_elapsed = time.time()-since\n",
    "    print('Training complete in: {:.0f}m {:.0f}s'.format(time_elapsed//60, time_elapsed%60))\n",
    "    print('Best val acc: {:.4f} Best val loss: {:.4f}'.format(best_acc, best_loss))\n",
    "    \n",
    "    model.load_state_dict(best_model_wts)\n",
    "    return model"
   ]
  },
  {
   "cell_type": "code",
   "execution_count": 11,
   "id": "bde1da60",
   "metadata": {
    "execution": {
     "iopub.execute_input": "2022-02-08T10:06:18.829347Z",
     "iopub.status.busy": "2022-02-08T10:06:18.828172Z",
     "iopub.status.idle": "2022-02-08T16:35:12.930595Z",
     "shell.execute_reply": "2022-02-08T16:35:12.931088Z",
     "shell.execute_reply.started": "2022-01-18T10:11:31.642921Z"
    },
    "papermill": {
     "duration": 23334.124385,
     "end_time": "2022-02-08T16:35:12.931288",
     "exception": false,
     "start_time": "2022-02-08T10:06:18.806903",
     "status": "completed"
    },
    "tags": []
   },
   "outputs": [
    {
     "name": "stdout",
     "output_type": "stream",
     "text": [
      "Epoch 1/50\n"
     ]
    },
    {
     "name": "stderr",
     "output_type": "stream",
     "text": [
      "557it [07:31,  1.23it/s]"
     ]
    },
    {
     "name": "stdout",
     "output_type": "stream",
     "text": [
      "train loss: 1.1521 acc: 0.5937\n"
     ]
    },
    {
     "name": "stderr",
     "output_type": "stream",
     "text": [
      "\n",
      "70it [00:31,  2.24it/s]\n"
     ]
    },
    {
     "name": "stdout",
     "output_type": "stream",
     "text": [
      "val loss: 1.0106 acc: 0.6888\n",
      "New acc: 0.6888, previous acc: 0.0000\n",
      "Training epoch 1 complete in: 8m 4s\n",
      "Epoch 2/50\n"
     ]
    },
    {
     "name": "stderr",
     "output_type": "stream",
     "text": [
      "557it [07:06,  1.31it/s]"
     ]
    },
    {
     "name": "stdout",
     "output_type": "stream",
     "text": [
      "train loss: 0.9043 acc: 0.7350\n"
     ]
    },
    {
     "name": "stderr",
     "output_type": "stream",
     "text": [
      "\n",
      "70it [00:28,  2.44it/s]\n"
     ]
    },
    {
     "name": "stdout",
     "output_type": "stream",
     "text": [
      "val loss: 0.7417 acc: 0.8137\n",
      "New acc: 0.8137, previous acc: 0.6888\n",
      "Training epoch 2 complete in: 7m 36s\n",
      "Epoch 3/50\n"
     ]
    },
    {
     "name": "stderr",
     "output_type": "stream",
     "text": [
      "557it [07:07,  1.30it/s]"
     ]
    },
    {
     "name": "stdout",
     "output_type": "stream",
     "text": [
      "train loss: 0.8413 acc: 0.7658\n"
     ]
    },
    {
     "name": "stderr",
     "output_type": "stream",
     "text": [
      "\n",
      "70it [00:28,  2.42it/s]\n"
     ]
    },
    {
     "name": "stdout",
     "output_type": "stream",
     "text": [
      "val loss: 0.6995 acc: 0.8406\n",
      "New acc: 0.8406, previous acc: 0.8137\n",
      "Training epoch 3 complete in: 7m 38s\n",
      "Epoch 4/50\n"
     ]
    },
    {
     "name": "stderr",
     "output_type": "stream",
     "text": [
      "557it [07:06,  1.31it/s]"
     ]
    },
    {
     "name": "stdout",
     "output_type": "stream",
     "text": [
      "train loss: 0.8114 acc: 0.7840\n"
     ]
    },
    {
     "name": "stderr",
     "output_type": "stream",
     "text": [
      "\n",
      "70it [00:27,  2.52it/s]"
     ]
    },
    {
     "name": "stdout",
     "output_type": "stream",
     "text": [
      "val loss: 0.7331 acc: 0.8172\n",
      "Training epoch 4 complete in: 7m 34s\n",
      "Epoch 5/50\n"
     ]
    },
    {
     "name": "stderr",
     "output_type": "stream",
     "text": [
      "\n",
      "557it [07:14,  1.28it/s]"
     ]
    },
    {
     "name": "stdout",
     "output_type": "stream",
     "text": [
      "train loss: 0.7810 acc: 0.7989\n"
     ]
    },
    {
     "name": "stderr",
     "output_type": "stream",
     "text": [
      "\n",
      "70it [00:28,  2.45it/s]\n"
     ]
    },
    {
     "name": "stdout",
     "output_type": "stream",
     "text": [
      "val loss: 0.6465 acc: 0.8734\n",
      "New acc: 0.8734, previous acc: 0.8406\n",
      "Training epoch 5 complete in: 7m 44s\n",
      "Epoch 6/50\n"
     ]
    },
    {
     "name": "stderr",
     "output_type": "stream",
     "text": [
      "557it [07:14,  1.28it/s]"
     ]
    },
    {
     "name": "stdout",
     "output_type": "stream",
     "text": [
      "train loss: 0.7476 acc: 0.8155\n"
     ]
    },
    {
     "name": "stderr",
     "output_type": "stream",
     "text": [
      "\n",
      "70it [00:29,  2.40it/s]\n"
     ]
    },
    {
     "name": "stdout",
     "output_type": "stream",
     "text": [
      "val loss: 0.6442 acc: 0.8819\n",
      "New acc: 0.8819, previous acc: 0.8734\n",
      "Training epoch 6 complete in: 7m 45s\n",
      "Epoch 7/50\n"
     ]
    },
    {
     "name": "stderr",
     "output_type": "stream",
     "text": [
      "557it [07:17,  1.27it/s]"
     ]
    },
    {
     "name": "stdout",
     "output_type": "stream",
     "text": [
      "train loss: 0.7254 acc: 0.8274\n"
     ]
    },
    {
     "name": "stderr",
     "output_type": "stream",
     "text": [
      "\n",
      "70it [00:28,  2.46it/s]\n"
     ]
    },
    {
     "name": "stdout",
     "output_type": "stream",
     "text": [
      "val loss: 0.6013 acc: 0.9048\n",
      "New acc: 0.9048, previous acc: 0.8819\n",
      "Training epoch 7 complete in: 7m 48s\n",
      "Epoch 8/50\n"
     ]
    },
    {
     "name": "stderr",
     "output_type": "stream",
     "text": [
      "557it [07:16,  1.27it/s]"
     ]
    },
    {
     "name": "stdout",
     "output_type": "stream",
     "text": [
      "train loss: 0.7175 acc: 0.8324\n"
     ]
    },
    {
     "name": "stderr",
     "output_type": "stream",
     "text": [
      "\n",
      "70it [00:28,  2.43it/s]"
     ]
    },
    {
     "name": "stdout",
     "output_type": "stream",
     "text": [
      "val loss: 0.6185 acc: 0.8940\n",
      "Training epoch 8 complete in: 7m 46s\n",
      "Epoch 9/50\n"
     ]
    },
    {
     "name": "stderr",
     "output_type": "stream",
     "text": [
      "\n",
      "557it [07:15,  1.28it/s]"
     ]
    },
    {
     "name": "stdout",
     "output_type": "stream",
     "text": [
      "train loss: 0.7035 acc: 0.8384\n"
     ]
    },
    {
     "name": "stderr",
     "output_type": "stream",
     "text": [
      "\n",
      "70it [00:28,  2.49it/s]\n"
     ]
    },
    {
     "name": "stdout",
     "output_type": "stream",
     "text": [
      "val loss: 0.5776 acc: 0.9070\n",
      "New acc: 0.9070, previous acc: 0.9048\n",
      "Training epoch 9 complete in: 7m 45s\n",
      "Epoch 10/50\n"
     ]
    },
    {
     "name": "stderr",
     "output_type": "stream",
     "text": [
      "557it [07:17,  1.27it/s]"
     ]
    },
    {
     "name": "stdout",
     "output_type": "stream",
     "text": [
      "train loss: 0.7006 acc: 0.8395\n"
     ]
    },
    {
     "name": "stderr",
     "output_type": "stream",
     "text": [
      "\n",
      "70it [00:28,  2.45it/s]\n"
     ]
    },
    {
     "name": "stdout",
     "output_type": "stream",
     "text": [
      "val loss: 0.5721 acc: 0.9106\n",
      "New acc: 0.9106, previous acc: 0.9070\n",
      "Training epoch 10 complete in: 7m 47s\n",
      "Epoch 11/50\n"
     ]
    },
    {
     "name": "stderr",
     "output_type": "stream",
     "text": [
      "557it [07:16,  1.28it/s]"
     ]
    },
    {
     "name": "stdout",
     "output_type": "stream",
     "text": [
      "train loss: 0.6322 acc: 0.8778\n"
     ]
    },
    {
     "name": "stderr",
     "output_type": "stream",
     "text": [
      "\n",
      "70it [00:28,  2.45it/s]\n"
     ]
    },
    {
     "name": "stdout",
     "output_type": "stream",
     "text": [
      "val loss: 0.5544 acc: 0.9228\n",
      "New acc: 0.9228, previous acc: 0.9106\n",
      "Training epoch 11 complete in: 7m 46s\n",
      "Epoch 12/50\n"
     ]
    },
    {
     "name": "stderr",
     "output_type": "stream",
     "text": [
      "557it [07:16,  1.28it/s]"
     ]
    },
    {
     "name": "stdout",
     "output_type": "stream",
     "text": [
      "train loss: 0.6156 acc: 0.8851\n"
     ]
    },
    {
     "name": "stderr",
     "output_type": "stream",
     "text": [
      "\n",
      "70it [00:29,  2.35it/s]\n"
     ]
    },
    {
     "name": "stdout",
     "output_type": "stream",
     "text": [
      "val loss: 0.5369 acc: 0.9322\n",
      "New acc: 0.9322, previous acc: 0.9228\n",
      "Training epoch 12 complete in: 7m 47s\n",
      "Epoch 13/50\n"
     ]
    },
    {
     "name": "stderr",
     "output_type": "stream",
     "text": [
      "557it [07:16,  1.28it/s]"
     ]
    },
    {
     "name": "stdout",
     "output_type": "stream",
     "text": [
      "train loss: 0.6122 acc: 0.8856\n"
     ]
    },
    {
     "name": "stderr",
     "output_type": "stream",
     "text": [
      "\n",
      "70it [00:30,  2.31it/s]\n"
     ]
    },
    {
     "name": "stdout",
     "output_type": "stream",
     "text": [
      "val loss: 0.5316 acc: 0.9349\n",
      "New acc: 0.9349, previous acc: 0.9322\n",
      "Training epoch 13 complete in: 7m 48s\n",
      "Epoch 14/50\n"
     ]
    },
    {
     "name": "stderr",
     "output_type": "stream",
     "text": [
      "557it [07:17,  1.27it/s]"
     ]
    },
    {
     "name": "stdout",
     "output_type": "stream",
     "text": [
      "train loss: 0.6052 acc: 0.8912\n"
     ]
    },
    {
     "name": "stderr",
     "output_type": "stream",
     "text": [
      "\n",
      "70it [00:31,  2.25it/s]\n"
     ]
    },
    {
     "name": "stdout",
     "output_type": "stream",
     "text": [
      "val loss: 0.5284 acc: 0.9367\n",
      "New acc: 0.9367, previous acc: 0.9349\n",
      "Training epoch 14 complete in: 7m 49s\n",
      "Epoch 15/50\n"
     ]
    },
    {
     "name": "stderr",
     "output_type": "stream",
     "text": [
      "557it [07:18,  1.27it/s]"
     ]
    },
    {
     "name": "stdout",
     "output_type": "stream",
     "text": [
      "train loss: 0.6029 acc: 0.8941\n"
     ]
    },
    {
     "name": "stderr",
     "output_type": "stream",
     "text": [
      "\n",
      "70it [00:28,  2.45it/s]\n"
     ]
    },
    {
     "name": "stdout",
     "output_type": "stream",
     "text": [
      "val loss: 0.5252 acc: 0.9394\n",
      "New acc: 0.9394, previous acc: 0.9367\n",
      "Training epoch 15 complete in: 7m 48s\n",
      "Epoch 16/50\n"
     ]
    },
    {
     "name": "stderr",
     "output_type": "stream",
     "text": [
      "557it [07:17,  1.27it/s]"
     ]
    },
    {
     "name": "stdout",
     "output_type": "stream",
     "text": [
      "train loss: 0.5945 acc: 0.8968\n"
     ]
    },
    {
     "name": "stderr",
     "output_type": "stream",
     "text": [
      "\n",
      "70it [00:31,  2.26it/s]"
     ]
    },
    {
     "name": "stdout",
     "output_type": "stream",
     "text": [
      "val loss: 0.5423 acc: 0.9300\n",
      "Training epoch 16 complete in: 7m 49s\n",
      "Epoch 17/50\n"
     ]
    },
    {
     "name": "stderr",
     "output_type": "stream",
     "text": [
      "\n",
      "557it [07:19,  1.27it/s]"
     ]
    },
    {
     "name": "stdout",
     "output_type": "stream",
     "text": [
      "train loss: 0.5989 acc: 0.8946\n"
     ]
    },
    {
     "name": "stderr",
     "output_type": "stream",
     "text": [
      "\n",
      "70it [00:28,  2.49it/s]"
     ]
    },
    {
     "name": "stdout",
     "output_type": "stream",
     "text": [
      "val loss: 0.5297 acc: 0.9353\n",
      "Training epoch 17 complete in: 7m 48s\n",
      "Epoch 18/50\n"
     ]
    },
    {
     "name": "stderr",
     "output_type": "stream",
     "text": [
      "\n",
      "557it [07:20,  1.26it/s]"
     ]
    },
    {
     "name": "stdout",
     "output_type": "stream",
     "text": [
      "train loss: 0.5942 acc: 0.8956\n"
     ]
    },
    {
     "name": "stderr",
     "output_type": "stream",
     "text": [
      "\n",
      "70it [00:29,  2.38it/s]"
     ]
    },
    {
     "name": "stdout",
     "output_type": "stream",
     "text": [
      "val loss: 0.5298 acc: 0.9344\n",
      "Training epoch 18 complete in: 7m 51s\n",
      "Epoch 19/50\n"
     ]
    },
    {
     "name": "stderr",
     "output_type": "stream",
     "text": [
      "\n",
      "557it [07:23,  1.26it/s]"
     ]
    },
    {
     "name": "stdout",
     "output_type": "stream",
     "text": [
      "train loss: 0.5941 acc: 0.8948\n"
     ]
    },
    {
     "name": "stderr",
     "output_type": "stream",
     "text": [
      "\n",
      "70it [00:28,  2.45it/s]\n"
     ]
    },
    {
     "name": "stdout",
     "output_type": "stream",
     "text": [
      "val loss: 0.5165 acc: 0.9412\n",
      "New acc: 0.9412, previous acc: 0.9394\n",
      "Training epoch 19 complete in: 7m 53s\n",
      "Epoch 20/50\n"
     ]
    },
    {
     "name": "stderr",
     "output_type": "stream",
     "text": [
      "557it [07:25,  1.25it/s]"
     ]
    },
    {
     "name": "stdout",
     "output_type": "stream",
     "text": [
      "train loss: 0.5987 acc: 0.8933\n"
     ]
    },
    {
     "name": "stderr",
     "output_type": "stream",
     "text": [
      "\n",
      "70it [00:27,  2.50it/s]"
     ]
    },
    {
     "name": "stdout",
     "output_type": "stream",
     "text": [
      "val loss: 0.5286 acc: 0.9367\n",
      "Training epoch 20 complete in: 7m 54s\n",
      "Epoch 21/50\n"
     ]
    },
    {
     "name": "stderr",
     "output_type": "stream",
     "text": [
      "\n",
      "557it [07:13,  1.29it/s]"
     ]
    },
    {
     "name": "stdout",
     "output_type": "stream",
     "text": [
      "train loss: 0.5893 acc: 0.8981\n"
     ]
    },
    {
     "name": "stderr",
     "output_type": "stream",
     "text": [
      "\n",
      "70it [00:31,  2.25it/s]"
     ]
    },
    {
     "name": "stdout",
     "output_type": "stream",
     "text": [
      "val loss: 0.5250 acc: 0.9380\n",
      "Training epoch 21 complete in: 7m 44s\n",
      "Epoch 22/50\n"
     ]
    },
    {
     "name": "stderr",
     "output_type": "stream",
     "text": [
      "\n",
      "557it [07:14,  1.28it/s]"
     ]
    },
    {
     "name": "stdout",
     "output_type": "stream",
     "text": [
      "train loss: 0.5857 acc: 0.9026\n"
     ]
    },
    {
     "name": "stderr",
     "output_type": "stream",
     "text": [
      "\n",
      "70it [00:27,  2.51it/s]"
     ]
    },
    {
     "name": "stdout",
     "output_type": "stream",
     "text": [
      "val loss: 0.5285 acc: 0.9358\n",
      "Training epoch 22 complete in: 7m 43s\n",
      "Epoch 23/50\n"
     ]
    },
    {
     "name": "stderr",
     "output_type": "stream",
     "text": [
      "\n",
      "557it [07:15,  1.28it/s]"
     ]
    },
    {
     "name": "stdout",
     "output_type": "stream",
     "text": [
      "train loss: 0.5814 acc: 0.9056\n"
     ]
    },
    {
     "name": "stderr",
     "output_type": "stream",
     "text": [
      "\n",
      "70it [00:27,  2.50it/s]"
     ]
    },
    {
     "name": "stdout",
     "output_type": "stream",
     "text": [
      "val loss: 0.5216 acc: 0.9385\n",
      "Training epoch 23 complete in: 7m 44s\n",
      "Epoch 24/50\n"
     ]
    },
    {
     "name": "stderr",
     "output_type": "stream",
     "text": [
      "\n",
      "557it [07:18,  1.27it/s]"
     ]
    },
    {
     "name": "stdout",
     "output_type": "stream",
     "text": [
      "train loss: 0.5799 acc: 0.9018\n"
     ]
    },
    {
     "name": "stderr",
     "output_type": "stream",
     "text": [
      "\n",
      "70it [00:27,  2.53it/s]"
     ]
    },
    {
     "name": "stdout",
     "output_type": "stream",
     "text": [
      "val loss: 0.5177 acc: 0.9407\n",
      "Training epoch 24 complete in: 7m 46s\n",
      "Epoch 25/50\n"
     ]
    },
    {
     "name": "stderr",
     "output_type": "stream",
     "text": [
      "\n",
      "557it [07:17,  1.27it/s]"
     ]
    },
    {
     "name": "stdout",
     "output_type": "stream",
     "text": [
      "train loss: 0.5788 acc: 0.9043\n"
     ]
    },
    {
     "name": "stderr",
     "output_type": "stream",
     "text": [
      "\n",
      "70it [00:28,  2.44it/s]"
     ]
    },
    {
     "name": "stdout",
     "output_type": "stream",
     "text": [
      "val loss: 0.5196 acc: 0.9398\n",
      "Training epoch 25 complete in: 7m 46s\n",
      "Epoch 26/50\n"
     ]
    },
    {
     "name": "stderr",
     "output_type": "stream",
     "text": [
      "\n",
      "557it [07:16,  1.28it/s]"
     ]
    },
    {
     "name": "stdout",
     "output_type": "stream",
     "text": [
      "train loss: 0.5796 acc: 0.9025\n"
     ]
    },
    {
     "name": "stderr",
     "output_type": "stream",
     "text": [
      "\n",
      "70it [00:31,  2.22it/s]"
     ]
    },
    {
     "name": "stdout",
     "output_type": "stream",
     "text": [
      "val loss: 0.5258 acc: 0.9398\n",
      "Training epoch 26 complete in: 7m 48s\n",
      "Epoch 27/50\n"
     ]
    },
    {
     "name": "stderr",
     "output_type": "stream",
     "text": [
      "\n",
      "557it [07:16,  1.28it/s]"
     ]
    },
    {
     "name": "stdout",
     "output_type": "stream",
     "text": [
      "train loss: 0.5765 acc: 0.9070\n"
     ]
    },
    {
     "name": "stderr",
     "output_type": "stream",
     "text": [
      "\n",
      "70it [00:28,  2.44it/s]\n"
     ]
    },
    {
     "name": "stdout",
     "output_type": "stream",
     "text": [
      "val loss: 0.5161 acc: 0.9421\n",
      "New acc: 0.9421, previous acc: 0.9412\n",
      "Training epoch 27 complete in: 7m 47s\n",
      "Epoch 28/50\n"
     ]
    },
    {
     "name": "stderr",
     "output_type": "stream",
     "text": [
      "557it [07:19,  1.27it/s]"
     ]
    },
    {
     "name": "stdout",
     "output_type": "stream",
     "text": [
      "train loss: 0.5773 acc: 0.9049\n"
     ]
    },
    {
     "name": "stderr",
     "output_type": "stream",
     "text": [
      "\n",
      "70it [00:28,  2.48it/s]"
     ]
    },
    {
     "name": "stdout",
     "output_type": "stream",
     "text": [
      "val loss: 0.5207 acc: 0.9416\n",
      "Training epoch 28 complete in: 7m 47s\n",
      "Epoch 29/50\n"
     ]
    },
    {
     "name": "stderr",
     "output_type": "stream",
     "text": [
      "\n",
      "557it [07:18,  1.27it/s]"
     ]
    },
    {
     "name": "stdout",
     "output_type": "stream",
     "text": [
      "train loss: 0.5787 acc: 0.9051\n"
     ]
    },
    {
     "name": "stderr",
     "output_type": "stream",
     "text": [
      "\n",
      "70it [00:30,  2.27it/s]"
     ]
    },
    {
     "name": "stdout",
     "output_type": "stream",
     "text": [
      "val loss: 0.5190 acc: 0.9412\n",
      "Training epoch 29 complete in: 7m 49s\n",
      "Epoch 30/50\n"
     ]
    },
    {
     "name": "stderr",
     "output_type": "stream",
     "text": [
      "\n",
      "557it [07:19,  1.27it/s]"
     ]
    },
    {
     "name": "stdout",
     "output_type": "stream",
     "text": [
      "train loss: 0.5784 acc: 0.9056\n"
     ]
    },
    {
     "name": "stderr",
     "output_type": "stream",
     "text": [
      "\n",
      "70it [00:28,  2.45it/s]"
     ]
    },
    {
     "name": "stdout",
     "output_type": "stream",
     "text": [
      "val loss: 0.5198 acc: 0.9394\n",
      "Training epoch 30 complete in: 7m 48s\n",
      "Epoch 31/50\n"
     ]
    },
    {
     "name": "stderr",
     "output_type": "stream",
     "text": [
      "\n",
      "557it [07:19,  1.27it/s]"
     ]
    },
    {
     "name": "stdout",
     "output_type": "stream",
     "text": [
      "train loss: 0.5788 acc: 0.9029\n"
     ]
    },
    {
     "name": "stderr",
     "output_type": "stream",
     "text": [
      "\n",
      "70it [00:28,  2.42it/s]"
     ]
    },
    {
     "name": "stdout",
     "output_type": "stream",
     "text": [
      "val loss: 0.5195 acc: 0.9407\n",
      "Training epoch 31 complete in: 7m 48s\n",
      "Epoch 32/50\n"
     ]
    },
    {
     "name": "stderr",
     "output_type": "stream",
     "text": [
      "\n",
      "557it [07:21,  1.26it/s]"
     ]
    },
    {
     "name": "stdout",
     "output_type": "stream",
     "text": [
      "train loss: 0.5771 acc: 0.9052\n"
     ]
    },
    {
     "name": "stderr",
     "output_type": "stream",
     "text": [
      "\n",
      "70it [00:31,  2.24it/s]"
     ]
    },
    {
     "name": "stdout",
     "output_type": "stream",
     "text": [
      "val loss: 0.5195 acc: 0.9394\n",
      "Training epoch 32 complete in: 7m 53s\n",
      "Epoch 33/50\n"
     ]
    },
    {
     "name": "stderr",
     "output_type": "stream",
     "text": [
      "\n",
      "557it [07:22,  1.26it/s]"
     ]
    },
    {
     "name": "stdout",
     "output_type": "stream",
     "text": [
      "train loss: 0.5757 acc: 0.9078\n"
     ]
    },
    {
     "name": "stderr",
     "output_type": "stream",
     "text": [
      "\n",
      "70it [00:28,  2.48it/s]"
     ]
    },
    {
     "name": "stdout",
     "output_type": "stream",
     "text": [
      "val loss: 0.5193 acc: 0.9398\n",
      "Training epoch 33 complete in: 7m 51s\n",
      "Epoch 34/50\n"
     ]
    },
    {
     "name": "stderr",
     "output_type": "stream",
     "text": [
      "\n",
      "557it [07:19,  1.27it/s]"
     ]
    },
    {
     "name": "stdout",
     "output_type": "stream",
     "text": [
      "train loss: 0.5774 acc: 0.9026\n"
     ]
    },
    {
     "name": "stderr",
     "output_type": "stream",
     "text": [
      "\n",
      "70it [00:28,  2.49it/s]"
     ]
    },
    {
     "name": "stdout",
     "output_type": "stream",
     "text": [
      "val loss: 0.5184 acc: 0.9407\n",
      "Training epoch 34 complete in: 7m 48s\n",
      "Epoch 35/50\n"
     ]
    },
    {
     "name": "stderr",
     "output_type": "stream",
     "text": [
      "\n",
      "557it [07:19,  1.27it/s]"
     ]
    },
    {
     "name": "stdout",
     "output_type": "stream",
     "text": [
      "train loss: 0.5743 acc: 0.9084\n"
     ]
    },
    {
     "name": "stderr",
     "output_type": "stream",
     "text": [
      "\n",
      "70it [00:32,  2.17it/s]"
     ]
    },
    {
     "name": "stdout",
     "output_type": "stream",
     "text": [
      "val loss: 0.5177 acc: 0.9421\n",
      "Training epoch 35 complete in: 7m 52s\n",
      "Epoch 36/50\n"
     ]
    },
    {
     "name": "stderr",
     "output_type": "stream",
     "text": [
      "\n",
      "557it [07:23,  1.26it/s]"
     ]
    },
    {
     "name": "stdout",
     "output_type": "stream",
     "text": [
      "train loss: 0.5748 acc: 0.9073\n"
     ]
    },
    {
     "name": "stderr",
     "output_type": "stream",
     "text": [
      "\n",
      "70it [00:28,  2.47it/s]"
     ]
    },
    {
     "name": "stdout",
     "output_type": "stream",
     "text": [
      "val loss: 0.5186 acc: 0.9412\n",
      "Training epoch 36 complete in: 7m 52s\n",
      "Epoch 37/50\n"
     ]
    },
    {
     "name": "stderr",
     "output_type": "stream",
     "text": [
      "\n",
      "557it [07:24,  1.25it/s]"
     ]
    },
    {
     "name": "stdout",
     "output_type": "stream",
     "text": [
      "train loss: 0.5753 acc: 0.9066\n"
     ]
    },
    {
     "name": "stderr",
     "output_type": "stream",
     "text": [
      "\n",
      "70it [00:28,  2.47it/s]"
     ]
    },
    {
     "name": "stdout",
     "output_type": "stream",
     "text": [
      "val loss: 0.5189 acc: 0.9416\n",
      "Training epoch 37 complete in: 7m 53s\n",
      "Epoch 38/50\n"
     ]
    },
    {
     "name": "stderr",
     "output_type": "stream",
     "text": [
      "\n",
      "557it [07:23,  1.25it/s]"
     ]
    },
    {
     "name": "stdout",
     "output_type": "stream",
     "text": [
      "train loss: 0.5740 acc: 0.9061\n"
     ]
    },
    {
     "name": "stderr",
     "output_type": "stream",
     "text": [
      "\n",
      "70it [00:28,  2.48it/s]"
     ]
    },
    {
     "name": "stdout",
     "output_type": "stream",
     "text": [
      "val loss: 0.5183 acc: 0.9421\n",
      "Training epoch 38 complete in: 7m 52s\n",
      "Epoch 39/50\n"
     ]
    },
    {
     "name": "stderr",
     "output_type": "stream",
     "text": [
      "\n",
      "557it [07:23,  1.26it/s]"
     ]
    },
    {
     "name": "stdout",
     "output_type": "stream",
     "text": [
      "train loss: 0.5752 acc: 0.9051\n"
     ]
    },
    {
     "name": "stderr",
     "output_type": "stream",
     "text": [
      "\n",
      "70it [00:30,  2.30it/s]"
     ]
    },
    {
     "name": "stdout",
     "output_type": "stream",
     "text": [
      "val loss: 0.5185 acc: 0.9421\n",
      "Training epoch 39 complete in: 7m 54s\n",
      "Epoch 40/50\n"
     ]
    },
    {
     "name": "stderr",
     "output_type": "stream",
     "text": [
      "\n",
      "557it [07:17,  1.27it/s]"
     ]
    },
    {
     "name": "stdout",
     "output_type": "stream",
     "text": [
      "train loss: 0.5782 acc: 0.9052\n"
     ]
    },
    {
     "name": "stderr",
     "output_type": "stream",
     "text": [
      "\n",
      "70it [00:27,  2.50it/s]"
     ]
    },
    {
     "name": "stdout",
     "output_type": "stream",
     "text": [
      "val loss: 0.5181 acc: 0.9416\n",
      "Training epoch 40 complete in: 7m 46s\n",
      "Epoch 41/50\n"
     ]
    },
    {
     "name": "stderr",
     "output_type": "stream",
     "text": [
      "\n",
      "557it [07:14,  1.28it/s]"
     ]
    },
    {
     "name": "stdout",
     "output_type": "stream",
     "text": [
      "train loss: 0.5745 acc: 0.9073\n"
     ]
    },
    {
     "name": "stderr",
     "output_type": "stream",
     "text": [
      "\n",
      "70it [00:27,  2.53it/s]"
     ]
    },
    {
     "name": "stdout",
     "output_type": "stream",
     "text": [
      "val loss: 0.5182 acc: 0.9416\n",
      "Training epoch 41 complete in: 7m 42s\n",
      "Epoch 42/50\n"
     ]
    },
    {
     "name": "stderr",
     "output_type": "stream",
     "text": [
      "\n",
      "557it [07:09,  1.30it/s]"
     ]
    },
    {
     "name": "stdout",
     "output_type": "stream",
     "text": [
      "train loss: 0.5754 acc: 0.9049\n"
     ]
    },
    {
     "name": "stderr",
     "output_type": "stream",
     "text": [
      "\n",
      "70it [00:33,  2.07it/s]"
     ]
    },
    {
     "name": "stdout",
     "output_type": "stream",
     "text": [
      "val loss: 0.5182 acc: 0.9416\n",
      "Training epoch 42 complete in: 7m 43s\n",
      "Epoch 43/50\n"
     ]
    },
    {
     "name": "stderr",
     "output_type": "stream",
     "text": [
      "\n",
      "557it [07:11,  1.29it/s]"
     ]
    },
    {
     "name": "stdout",
     "output_type": "stream",
     "text": [
      "train loss: 0.5750 acc: 0.9072\n"
     ]
    },
    {
     "name": "stderr",
     "output_type": "stream",
     "text": [
      "\n",
      "70it [00:28,  2.49it/s]"
     ]
    },
    {
     "name": "stdout",
     "output_type": "stream",
     "text": [
      "val loss: 0.5182 acc: 0.9416\n",
      "Training epoch 43 complete in: 7m 39s\n",
      "Epoch 44/50\n"
     ]
    },
    {
     "name": "stderr",
     "output_type": "stream",
     "text": [
      "\n",
      "557it [07:19,  1.27it/s]"
     ]
    },
    {
     "name": "stdout",
     "output_type": "stream",
     "text": [
      "train loss: 0.5773 acc: 0.9062\n"
     ]
    },
    {
     "name": "stderr",
     "output_type": "stream",
     "text": [
      "\n",
      "70it [00:28,  2.49it/s]"
     ]
    },
    {
     "name": "stdout",
     "output_type": "stream",
     "text": [
      "val loss: 0.5181 acc: 0.9416\n",
      "Training epoch 44 complete in: 7m 48s\n",
      "Epoch 45/50\n"
     ]
    },
    {
     "name": "stderr",
     "output_type": "stream",
     "text": [
      "\n",
      "557it [07:15,  1.28it/s]"
     ]
    },
    {
     "name": "stdout",
     "output_type": "stream",
     "text": [
      "train loss: 0.5718 acc: 0.9092\n"
     ]
    },
    {
     "name": "stderr",
     "output_type": "stream",
     "text": [
      "\n",
      "70it [00:27,  2.55it/s]"
     ]
    },
    {
     "name": "stdout",
     "output_type": "stream",
     "text": [
      "val loss: 0.5180 acc: 0.9416\n",
      "Training epoch 45 complete in: 7m 43s\n",
      "Epoch 46/50\n"
     ]
    },
    {
     "name": "stderr",
     "output_type": "stream",
     "text": [
      "\n",
      "557it [07:11,  1.29it/s]"
     ]
    },
    {
     "name": "stdout",
     "output_type": "stream",
     "text": [
      "train loss: 0.5767 acc: 0.9058\n"
     ]
    },
    {
     "name": "stderr",
     "output_type": "stream",
     "text": [
      "\n",
      "70it [00:27,  2.54it/s]"
     ]
    },
    {
     "name": "stdout",
     "output_type": "stream",
     "text": [
      "val loss: 0.5181 acc: 0.9416\n",
      "Training epoch 46 complete in: 7m 39s\n",
      "Epoch 47/50\n"
     ]
    },
    {
     "name": "stderr",
     "output_type": "stream",
     "text": [
      "\n",
      "557it [07:17,  1.27it/s]"
     ]
    },
    {
     "name": "stdout",
     "output_type": "stream",
     "text": [
      "train loss: 0.5725 acc: 0.9073\n"
     ]
    },
    {
     "name": "stderr",
     "output_type": "stream",
     "text": [
      "\n",
      "70it [00:28,  2.49it/s]"
     ]
    },
    {
     "name": "stdout",
     "output_type": "stream",
     "text": [
      "val loss: 0.5181 acc: 0.9412\n",
      "Training epoch 47 complete in: 7m 45s\n",
      "Epoch 48/50\n"
     ]
    },
    {
     "name": "stderr",
     "output_type": "stream",
     "text": [
      "\n",
      "557it [07:16,  1.28it/s]"
     ]
    },
    {
     "name": "stdout",
     "output_type": "stream",
     "text": [
      "train loss: 0.5769 acc: 0.9063\n"
     ]
    },
    {
     "name": "stderr",
     "output_type": "stream",
     "text": [
      "\n",
      "70it [00:26,  2.63it/s]"
     ]
    },
    {
     "name": "stdout",
     "output_type": "stream",
     "text": [
      "val loss: 0.5181 acc: 0.9416\n",
      "Training epoch 48 complete in: 7m 43s\n",
      "Epoch 49/50\n"
     ]
    },
    {
     "name": "stderr",
     "output_type": "stream",
     "text": [
      "\n",
      "557it [07:07,  1.30it/s]"
     ]
    },
    {
     "name": "stdout",
     "output_type": "stream",
     "text": [
      "train loss: 0.5710 acc: 0.9076\n"
     ]
    },
    {
     "name": "stderr",
     "output_type": "stream",
     "text": [
      "\n",
      "70it [00:28,  2.47it/s]"
     ]
    },
    {
     "name": "stdout",
     "output_type": "stream",
     "text": [
      "val loss: 0.5181 acc: 0.9416\n",
      "Training epoch 49 complete in: 7m 36s\n",
      "Epoch 50/50\n"
     ]
    },
    {
     "name": "stderr",
     "output_type": "stream",
     "text": [
      "\n",
      "557it [07:15,  1.28it/s]"
     ]
    },
    {
     "name": "stdout",
     "output_type": "stream",
     "text": [
      "train loss: 0.5746 acc: 0.9077\n"
     ]
    },
    {
     "name": "stderr",
     "output_type": "stream",
     "text": [
      "\n",
      "70it [00:27,  2.52it/s]"
     ]
    },
    {
     "name": "stdout",
     "output_type": "stream",
     "text": [
      "val loss: 0.5181 acc: 0.9416\n",
      "Training epoch 50 complete in: 7m 43s\n",
      "Training complete in: 388m 54s\n",
      "Best val acc: 0.9421 Best val loss: 0.5161\n"
     ]
    },
    {
     "name": "stderr",
     "output_type": "stream",
     "text": [
      "\n"
     ]
    }
   ],
   "source": [
    "model = train_model(model, criterion, optimizer, scheduler)"
   ]
  },
  {
   "cell_type": "markdown",
   "id": "77cd8a1f",
   "metadata": {
    "papermill": {
     "duration": 10.341022,
     "end_time": "2022-02-08T16:35:34.913226",
     "exception": false,
     "start_time": "2022-02-08T16:35:24.572204",
     "status": "completed"
    },
    "tags": []
   },
   "source": [
    "# 5. Prediction on Test set"
   ]
  },
  {
   "cell_type": "code",
   "execution_count": 12,
   "id": "1ff87fe1",
   "metadata": {
    "execution": {
     "iopub.execute_input": "2022-02-08T16:35:56.242818Z",
     "iopub.status.busy": "2022-02-08T16:35:56.240481Z",
     "iopub.status.idle": "2022-02-08T16:35:56.245938Z",
     "shell.execute_reply": "2022-02-08T16:35:56.245359Z",
     "shell.execute_reply.started": "2022-01-18T10:23:01.792197Z"
    },
    "papermill": {
     "duration": 10.892029,
     "end_time": "2022-02-08T16:35:56.246087",
     "exception": false,
     "start_time": "2022-02-08T16:35:45.354058",
     "status": "completed"
    },
    "tags": []
   },
   "outputs": [],
   "source": [
    "def plot_confusion_matrix(cm, classes,\n",
    "                          normalize=False,\n",
    "                          title='Confusion matrix',\n",
    "                          cmap=plt.cm.Blues):\n",
    "    \"\"\"\n",
    "    This function prints and plots the confusion matrix.\n",
    "    Normalization can be applied by setting `normalize=True`.\n",
    "    \"\"\"\n",
    "    plt.imshow(cm, interpolation='nearest', cmap=cmap)\n",
    "    plt.title(title)\n",
    "    plt.colorbar()\n",
    "    tick_marks = np.arange(len(classes))\n",
    "    plt.xticks(tick_marks, classes, rotation=45)\n",
    "    plt.yticks(tick_marks, classes)\n",
    "\n",
    "    if normalize:\n",
    "        cm = cm.astype('float') / cm.sum(axis=1)[:, np.newaxis]\n",
    "\n",
    "    thresh = cm.max() / 2.\n",
    "    for i, j in itertools.product(range(cm.shape[0]), range(cm.shape[1])):\n",
    "        plt.text(j, i, cm[i, j],\n",
    "                 horizontalalignment=\"center\",\n",
    "                 color=\"white\" if cm[i, j] > thresh else \"black\")\n",
    "\n",
    "    plt.tight_layout()\n",
    "    plt.ylabel('True label')\n",
    "    plt.xlabel('Predicted label')"
   ]
  },
  {
   "cell_type": "code",
   "execution_count": 13,
   "id": "f5bccf83",
   "metadata": {
    "execution": {
     "iopub.execute_input": "2022-02-08T16:36:16.794481Z",
     "iopub.status.busy": "2022-02-08T16:36:16.793353Z",
     "iopub.status.idle": "2022-02-08T16:36:17.027139Z",
     "shell.execute_reply": "2022-02-08T16:36:17.027687Z",
     "shell.execute_reply.started": "2022-01-18T10:23:02.426548Z"
    },
    "papermill": {
     "duration": 10.58864,
     "end_time": "2022-02-08T16:36:17.027848",
     "exception": false,
     "start_time": "2022-02-08T16:36:06.439208",
     "status": "completed"
    },
    "tags": []
   },
   "outputs": [
    {
     "data": {
      "text/plain": [
       "<All keys matched successfully>"
      ]
     },
     "execution_count": 13,
     "metadata": {},
     "output_type": "execute_result"
    }
   ],
   "source": [
    "# model = timm.create_model('swin_base_patch4_window7_224', pretrained=True)\n",
    "# head = nn.Sequential(OrderedDict([\n",
    "#     ('fc1', nn.Linear(1024, 512)),\n",
    "#     ('relu1', nn.ReLU()),\n",
    "#     ('fc2', nn.Linear(512, 256)),\n",
    "#     ('relu2', nn.ReLU()),\n",
    "#     ('fc3', nn.Linear(256, 5))\n",
    "# ]))\n",
    "# model.head = head\n",
    "# model = model.to(device)\n",
    "\n",
    "model.load_state_dict(torch.load('./model.pth'))"
   ]
  },
  {
   "cell_type": "code",
   "execution_count": 14,
   "id": "1f3f0bfe",
   "metadata": {
    "execution": {
     "iopub.execute_input": "2022-02-08T16:36:38.197269Z",
     "iopub.status.busy": "2022-02-08T16:36:38.196067Z",
     "iopub.status.idle": "2022-02-08T16:37:46.164302Z",
     "shell.execute_reply": "2022-02-08T16:37:46.163730Z",
     "shell.execute_reply.started": "2022-01-18T10:23:06.019153Z"
    },
    "papermill": {
     "duration": 78.342467,
     "end_time": "2022-02-08T16:37:46.164489",
     "exception": false,
     "start_time": "2022-02-08T16:36:27.822022",
     "status": "completed"
    },
    "tags": []
   },
   "outputs": [
    {
     "name": "stdout",
     "output_type": "stream",
     "text": [
      "Testing complete in 1m 7s\n",
      "              precision    recall  f1-score   support\n",
      "\n",
      "           0    0.99367   0.86740   0.92625       362\n",
      "           1    0.92257   0.93023   0.92639       602\n",
      "           2    0.92266   0.96792   0.94475      1060\n",
      "           3    0.98374   0.89630   0.93798       135\n",
      "           4    0.91549   0.92857   0.92199        70\n",
      "\n",
      "    accuracy                        0.93585      2229\n",
      "   macro avg    0.94763   0.91809   0.93147      2229\n",
      "weighted avg    0.93764   0.93585   0.93566      2229\n",
      "\n"
     ]
    },
    {
     "data": {
      "image/png": "[encoded data removed]",
      "text/plain": [
       "<Figure size 432x288 with 2 Axes>"
      ]
     },
     "metadata": {
      "needs_background": "light"
     },
     "output_type": "display_data"
    }
   ],
   "source": [
    "since = time.time()\n",
    "model.eval()\n",
    "y_test = []\n",
    "y_pred = []\n",
    "y_pred_proba = []\n",
    "for images, labels in data_loader['test']:\n",
    "    images = images.to(device)\n",
    "    labels = labels.to(device)\n",
    "    outputs = model(images)\n",
    "    _, predictions = outputs.max(1)\n",
    "    \n",
    "    y_test.append(labels.data.cpu().numpy())\n",
    "    y_pred.append(predictions.data.cpu().numpy())\n",
    "    y_pred_proba.append(outputs.data.cpu().numpy())\n",
    "    \n",
    "y_test = np.concatenate(y_test)\n",
    "y_pred = np.concatenate(y_pred)\n",
    "y_pred_proba = np.concatenate(y_pred_proba)\n",
    "time_elapsed = time.time() - since\n",
    "\n",
    "print('Testing complete in {:.0f}m {:.0f}s'.format(time_elapsed // 60, time_elapsed % 60))\n",
    "\n",
    "confusion_mtx = confusion_matrix(y_test, y_pred)\n",
    "# plot the confusion matrix\n",
    "plot_labels = ['COVID', 'Lung_Opacity', 'Normal', 'Pneunomia', 'Tuberculosis']\n",
    "\n",
    "plot_confusion_matrix(confusion_mtx, plot_labels)\n",
    "report = classification_report(y_test, y_pred, digits=5)\n",
    "print(report)"
   ]
  },
  {
   "cell_type": "code",
   "execution_count": 15,
   "id": "b1468eb7",
   "metadata": {
    "execution": {
     "iopub.execute_input": "2022-02-08T16:38:07.599022Z",
     "iopub.status.busy": "2022-02-08T16:38:07.597737Z",
     "iopub.status.idle": "2022-02-08T16:38:07.663196Z",
     "shell.execute_reply": "2022-02-08T16:38:07.664514Z",
     "shell.execute_reply.started": "2022-01-18T10:23:57.826234Z"
    },
    "papermill": {
     "duration": 11.060761,
     "end_time": "2022-02-08T16:38:07.664747",
     "exception": false,
     "start_time": "2022-02-08T16:37:56.603986",
     "status": "completed"
    },
    "tags": []
   },
   "outputs": [],
   "source": [
    "def softmax(vec):\n",
    "    exponential = np.exp(vec)\n",
    "    probabilities = exponential / np.sum(exponential)\n",
    "    return probabilities\n",
    "\n",
    "y_pred_proba = np.array([list(softmax(i)) for i in y_pred_proba])"
   ]
  },
  {
   "cell_type": "code",
   "execution_count": 16,
   "id": "8b512f8c",
   "metadata": {
    "execution": {
     "iopub.execute_input": "2022-02-08T16:38:28.293583Z",
     "iopub.status.busy": "2022-02-08T16:38:28.292741Z",
     "iopub.status.idle": "2022-02-08T16:38:28.885643Z",
     "shell.execute_reply": "2022-02-08T16:38:28.886163Z",
     "shell.execute_reply.started": "2022-01-18T10:23:57.864297Z"
    },
    "papermill": {
     "duration": 11.001346,
     "end_time": "2022-02-08T16:38:28.886337",
     "exception": false,
     "start_time": "2022-02-08T16:38:17.884991",
     "status": "completed"
    },
    "tags": []
   },
   "outputs": [
    {
     "name": "stdout",
     "output_type": "stream",
     "text": [
      "ROC curve (area = 0.9943)\n"
     ]
    },
    {
     "data": {
      "image/png": "[encoded data removed]",
      "text/plain": [
       "<Figure size 432x288 with 1 Axes>"
      ]
     },
     "metadata": {
      "needs_background": "light"
     },
     "output_type": "display_data"
    }
   ],
   "source": [
    "roc_auc = roc_auc_score(y_test, y_pred_proba, multi_class='ovo')\n",
    "print('ROC curve (area = %0.4f)' % roc_auc)\n",
    "fpr = {}\n",
    "tpr = {}\n",
    "thresh ={}\n",
    "for i in range(5):\n",
    "    fpr[i], tpr[i], thresh[i] = roc_curve(y_test, y_pred_proba[:, i], pos_label=i)\n",
    "\n",
    "# plotting    \n",
    "plt.plot(fpr[0], tpr[0], color='red', label='Class 0 vs Rest')\n",
    "plt.plot(fpr[1], tpr[1], color='green', label='Class 1 vs Rest')\n",
    "plt.plot(fpr[2], tpr[2], color='blue', label='Class 2 vs Rest')\n",
    "plt.plot(fpr[3], tpr[3], color='gray', label='Class 3 vs Rest')\n",
    "plt.plot(fpr[4], tpr[4], color='purple', label='Class 4 vs Rest')\n",
    "plt.plot([0, 1], [0, 1], color='orange', linestyle='--')\n",
    "plt.title('Multiclass ROC curve')\n",
    "plt.xlabel('False Positive Rate')\n",
    "plt.ylabel('True Positive rate')\n",
    "plt.legend(loc='best')\n",
    "plt.savefig('Multiclass ROC',dpi=300); "
   ]
  }
 ],
 "metadata": {
  "kernelspec": {
   "display_name": "Python 3",
   "language": "python",
   "name": "python3"
  },
  "language_info": {
   "codemirror_mode": {
    "name": "ipython",
    "version": 3
   },
   "file_extension": ".py",
   "mimetype": "text/x-python",
   "name": "python",
   "nbconvert_exporter": "python",
   "pygments_lexer": "ipython3",
   "version": "3.7.12"
  },
  "papermill": {
   "default_parameters": {},
   "duration": 23607.385674,
   "end_time": "2022-02-08T16:38:43.037192",
   "environment_variables": {},
   "exception": null,
   "input_path": "__notebook__.ipynb",
   "output_path": "__notebook__.ipynb",
   "parameters": {},
   "start_time": "2022-02-08T10:05:15.651518",
   "version": "2.3.3"
  }
 },
 "nbformat": 4,
 "nbformat_minor": 5
}
