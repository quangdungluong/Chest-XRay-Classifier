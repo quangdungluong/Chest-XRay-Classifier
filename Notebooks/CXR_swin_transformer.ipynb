{
 "cells": [
  {
   "cell_type": "markdown",
   "id": "ceb12d2d",
   "metadata": {
    "papermill": {
     "duration": 0.013485,
     "end_time": "2022-01-17T14:07:37.804441",
     "exception": false,
     "start_time": "2022-01-17T14:07:37.790956",
     "status": "completed"
    },
    "tags": []
   },
   "source": [
    "# 1. Import required libraries"
   ]
  },
  {
   "cell_type": "code",
   "execution_count": 1,
   "id": "92f132bb",
   "metadata": {
    "_cell_guid": "b1076dfc-b9ad-4769-8c92-a6c4dae69d19",
    "_uuid": "8f2839f25d086af736a60e9eeb907d3b93b6e0e5",
    "execution": {
     "iopub.execute_input": "2022-01-17T14:07:37.834860Z",
     "iopub.status.busy": "2022-01-17T14:07:37.833347Z",
     "iopub.status.idle": "2022-01-17T14:07:46.871637Z",
     "shell.execute_reply": "2022-01-17T14:07:46.871034Z",
     "shell.execute_reply.started": "2022-01-17T12:54:05.368504Z"
    },
    "papermill": {
     "duration": 9.05449,
     "end_time": "2022-01-17T14:07:46.871785",
     "exception": false,
     "start_time": "2022-01-17T14:07:37.817295",
     "status": "completed"
    },
    "tags": []
   },
   "outputs": [],
   "source": [
    "%%capture\n",
    "!pip install timm"
   ]
  },
  {
   "cell_type": "code",
   "execution_count": 2,
   "id": "87840c1e",
   "metadata": {
    "execution": {
     "iopub.execute_input": "2022-01-17T14:07:46.912358Z",
     "iopub.status.busy": "2022-01-17T14:07:46.911582Z",
     "iopub.status.idle": "2022-01-17T14:07:50.487308Z",
     "shell.execute_reply": "2022-01-17T14:07:50.487754Z",
     "shell.execute_reply.started": "2022-01-17T12:54:14.486820Z"
    },
    "papermill": {
     "duration": 3.603508,
     "end_time": "2022-01-17T14:07:50.487919",
     "exception": false,
     "start_time": "2022-01-17T14:07:46.884411",
     "status": "completed"
    },
    "tags": []
   },
   "outputs": [],
   "source": [
    "import os\n",
    "import PIL\n",
    "import time\n",
    "import timm\n",
    "import math\n",
    "import copy\n",
    "import torch\n",
    "import torchvision\n",
    "import numpy as np\n",
    "%matplotlib inline\n",
    "import pandas as pd\n",
    "import seaborn as sns\n",
    "import torch.nn as nn\n",
    "from PIL import Image\n",
    "import itertools\n",
    "from pathlib import Path\n",
    "from copy import deepcopy\n",
    "from sklearn import metrics\n",
    "import torch.optim as optim\n",
    "from torchvision import models\n",
    "import matplotlib.pyplot as plt\n",
    "import torch.nn.functional as F\n",
    "import torch.utils.data as data\n",
    "from torch.optim import lr_scheduler\n",
    "from timm.models.layers.activations import *\n",
    "%config InlineBackend.figure_format = 'retina'\n",
    "from collections import OrderedDict, defaultdict\n",
    "from torchvision import transforms, models, datasets\n",
    "from torch.utils.data.sampler import SubsetRandomSampler\n",
    "device = torch.device(\"cuda:0\" if torch.cuda.is_available() else \"cpu\")\n",
    "from timm.loss import LabelSmoothingCrossEntropy, SoftTargetCrossEntropy\n",
    "from sklearn.metrics import confusion_matrix,accuracy_score, classification_report\n",
    "from tqdm import tqdm"
   ]
  },
  {
   "cell_type": "markdown",
   "id": "f732ecbc",
   "metadata": {
    "papermill": {
     "duration": 0.011952,
     "end_time": "2022-01-17T14:07:50.512327",
     "exception": false,
     "start_time": "2022-01-17T14:07:50.500375",
     "status": "completed"
    },
    "tags": []
   },
   "source": [
    "# 2. Data Preparation"
   ]
  },
  {
   "cell_type": "code",
   "execution_count": 3,
   "id": "795820de",
   "metadata": {
    "execution": {
     "iopub.execute_input": "2022-01-17T14:07:50.540991Z",
     "iopub.status.busy": "2022-01-17T14:07:50.539295Z",
     "iopub.status.idle": "2022-01-17T14:07:50.543361Z",
     "shell.execute_reply": "2022-01-17T14:07:50.542931Z",
     "shell.execute_reply.started": "2022-01-17T12:54:17.863428Z"
    },
    "papermill": {
     "duration": 0.018809,
     "end_time": "2022-01-17T14:07:50.543463",
     "exception": false,
     "start_time": "2022-01-17T14:07:50.524654",
     "status": "completed"
    },
    "tags": []
   },
   "outputs": [],
   "source": [
    "# Hyperparameters\n",
    "batch_size = 32\n",
    "num_epochs = 25"
   ]
  },
  {
   "cell_type": "code",
   "execution_count": 4,
   "id": "c504d8d4",
   "metadata": {
    "execution": {
     "iopub.execute_input": "2022-01-17T14:07:50.575197Z",
     "iopub.status.busy": "2022-01-17T14:07:50.574440Z",
     "iopub.status.idle": "2022-01-17T14:07:50.576644Z",
     "shell.execute_reply": "2022-01-17T14:07:50.577020Z",
     "shell.execute_reply.started": "2022-01-17T12:54:17.877658Z"
    },
    "papermill": {
     "duration": 0.021516,
     "end_time": "2022-01-17T14:07:50.577150",
     "exception": false,
     "start_time": "2022-01-17T14:07:50.555634",
     "status": "completed"
    },
    "tags": []
   },
   "outputs": [],
   "source": [
    "root_dir = '/kaggle/input/chest-xray-classification'\n",
    "data_transforms = {\n",
    "    'train':transforms.Compose([\n",
    "        transforms.RandomRotation(30),\n",
    "        transforms.RandomResizedCrop(224),\n",
    "        transforms.RandomHorizontalFlip(),\n",
    "        transforms.ToTensor(),\n",
    "        transforms.Normalize([0.485, 0.456, 0.406], \n",
    "                             [0.229, 0.224, 0.225])\n",
    "    ]),\n",
    "    'val': transforms.Compose([\n",
    "        transforms.Resize(256),\n",
    "        transforms.CenterCrop(224),\n",
    "        transforms.ToTensor(),\n",
    "        transforms.Normalize([0.485, 0.456, 0.406], \n",
    "                             [0.229, 0.224, 0.225])\n",
    "    ]),\n",
    "    'test':transforms.Compose([\n",
    "        transforms.Resize(256),\n",
    "        transforms.CenterCrop(224),\n",
    "        transforms.ToTensor(),\n",
    "        transforms.Normalize([0.485, 0.456, 0.406], \n",
    "                             [0.229, 0.224, 0.225])\n",
    "    ])\n",
    "}"
   ]
  },
  {
   "cell_type": "code",
   "execution_count": 5,
   "id": "da2403f5",
   "metadata": {
    "execution": {
     "iopub.execute_input": "2022-01-17T14:07:50.606714Z",
     "iopub.status.busy": "2022-01-17T14:07:50.606199Z",
     "iopub.status.idle": "2022-01-17T14:08:01.446164Z",
     "shell.execute_reply": "2022-01-17T14:08:01.446646Z",
     "shell.execute_reply.started": "2022-01-17T12:54:17.896426Z"
    },
    "papermill": {
     "duration": 10.857614,
     "end_time": "2022-01-17T14:08:01.446805",
     "exception": false,
     "start_time": "2022-01-17T14:07:50.589191",
     "status": "completed"
    },
    "tags": []
   },
   "outputs": [],
   "source": [
    "image_datasets = {x : datasets.ImageFolder(os.path.join(root_dir, x), data_transforms[x]) for x in ['train', 'val', 'test']}\n",
    "data_loader = {x : torch.utils.data.DataLoader(image_datasets[x], batch_size=batch_size if x!='test' else 2, shuffle=True, num_workers=2, pin_memory=True) for x in ['train', 'val', 'test']}\n",
    "dataset_sizes = {x : len(image_datasets[x]) for x in ['train', 'val', 'test']}\n",
    "class_names = image_datasets['train'].classes"
   ]
  },
  {
   "cell_type": "code",
   "execution_count": 6,
   "id": "44ad4306",
   "metadata": {
    "execution": {
     "iopub.execute_input": "2022-01-17T14:08:01.478043Z",
     "iopub.status.busy": "2022-01-17T14:08:01.477436Z",
     "iopub.status.idle": "2022-01-17T14:08:01.480515Z",
     "shell.execute_reply": "2022-01-17T14:08:01.480935Z",
     "shell.execute_reply.started": "2022-01-17T12:54:24.276056Z"
    },
    "papermill": {
     "duration": 0.021338,
     "end_time": "2022-01-17T14:08:01.481056",
     "exception": false,
     "start_time": "2022-01-17T14:08:01.459718",
     "status": "completed"
    },
    "tags": []
   },
   "outputs": [
    {
     "name": "stdout",
     "output_type": "stream",
     "text": [
      "{'train': 17813, 'val': 2227, 'test': 2229}\n",
      "['COVID', 'Lung_Opacity', 'Normal', 'Pneunomia', 'Tuberculosis']\n"
     ]
    }
   ],
   "source": [
    "print(dataset_sizes)\n",
    "print(class_names)"
   ]
  },
  {
   "cell_type": "markdown",
   "id": "eb1272db",
   "metadata": {
    "papermill": {
     "duration": 0.012526,
     "end_time": "2022-01-17T14:08:01.506383",
     "exception": false,
     "start_time": "2022-01-17T14:08:01.493857",
     "status": "completed"
    },
    "tags": []
   },
   "source": [
    "# 3. Model"
   ]
  },
  {
   "cell_type": "code",
   "execution_count": 7,
   "id": "074ec10f",
   "metadata": {
    "execution": {
     "iopub.execute_input": "2022-01-17T14:08:01.537657Z",
     "iopub.status.busy": "2022-01-17T14:08:01.537063Z",
     "iopub.status.idle": "2022-01-17T14:08:09.114597Z",
     "shell.execute_reply": "2022-01-17T14:08:09.114095Z",
     "shell.execute_reply.started": "2022-01-17T12:54:24.283043Z"
    },
    "papermill": {
     "duration": 7.595635,
     "end_time": "2022-01-17T14:08:09.114726",
     "exception": false,
     "start_time": "2022-01-17T14:08:01.519091",
     "status": "completed"
    },
    "tags": []
   },
   "outputs": [
    {
     "name": "stderr",
     "output_type": "stream",
     "text": [
      "Downloading: \"https://github.com/SwinTransformer/storage/releases/download/v1.0.0/swin_base_patch4_window7_224_22kto1k.pth\" to /root/.cache/torch/hub/checkpoints/swin_base_patch4_window7_224_22kto1k.pth\n"
     ]
    },
    {
     "data": {
      "text/plain": [
       "Linear(in_features=1024, out_features=1000, bias=True)"
      ]
     },
     "execution_count": 7,
     "metadata": {},
     "output_type": "execute_result"
    }
   ],
   "source": [
    "model = timm.create_model('swin_base_patch4_window7_224', pretrained=True)\n",
    "model.head"
   ]
  },
  {
   "cell_type": "code",
   "execution_count": 8,
   "id": "0d2e87c3",
   "metadata": {
    "execution": {
     "iopub.execute_input": "2022-01-17T14:08:09.147807Z",
     "iopub.status.busy": "2022-01-17T14:08:09.147091Z",
     "iopub.status.idle": "2022-01-17T14:08:12.102839Z",
     "shell.execute_reply": "2022-01-17T14:08:12.103499Z",
     "shell.execute_reply.started": "2022-01-17T12:54:29.589537Z"
    },
    "papermill": {
     "duration": 2.975804,
     "end_time": "2022-01-17T14:08:12.103711",
     "exception": false,
     "start_time": "2022-01-17T14:08:09.127907",
     "status": "completed"
    },
    "tags": []
   },
   "outputs": [
    {
     "name": "stdout",
     "output_type": "stream",
     "text": [
      "87400637\n"
     ]
    }
   ],
   "source": [
    "from collections import OrderedDict\n",
    "head = nn.Sequential(OrderedDict([\n",
    "    ('fc1', nn.Linear(1024, 512)),\n",
    "    ('relu1', nn.ReLU()),\n",
    "    ('fc2', nn.Linear(512, 256)),\n",
    "    ('relu2', nn.ReLU()),\n",
    "    ('fc3', nn.Linear(256, 5))\n",
    "]))\n",
    "model.head = head\n",
    "model = model.to(device)\n",
    "\n",
    "for params in model.parameters():\n",
    "    params.requires_grad = True\n",
    "    \n",
    "def count_params(model):\n",
    "    return sum(p.numel() for p in model.parameters() if p.requires_grad)\n",
    "print(count_params(model))"
   ]
  },
  {
   "cell_type": "markdown",
   "id": "70025c1b",
   "metadata": {
    "papermill": {
     "duration": 0.026959,
     "end_time": "2022-01-17T14:08:12.157734",
     "exception": false,
     "start_time": "2022-01-17T14:08:12.130775",
     "status": "completed"
    },
    "tags": []
   },
   "source": [
    "# 4. Training"
   ]
  },
  {
   "cell_type": "code",
   "execution_count": 9,
   "id": "0d84af82",
   "metadata": {
    "execution": {
     "iopub.execute_input": "2022-01-17T14:08:12.222436Z",
     "iopub.status.busy": "2022-01-17T14:08:12.221653Z",
     "iopub.status.idle": "2022-01-17T14:08:12.226594Z",
     "shell.execute_reply": "2022-01-17T14:08:12.227161Z",
     "shell.execute_reply.started": "2022-01-17T12:54:32.497686Z"
    },
    "papermill": {
     "duration": 0.040789,
     "end_time": "2022-01-17T14:08:12.227340",
     "exception": false,
     "start_time": "2022-01-17T14:08:12.186551",
     "status": "completed"
    },
    "tags": []
   },
   "outputs": [],
   "source": [
    "criterion = LabelSmoothingCrossEntropy()\n",
    "optimizer = optim.SGD(model.parameters(), lr=0.01, momentum=0.9, weight_decay=0.0001)\n",
    "scheduler = optim.lr_scheduler.ReduceLROnPlateau(optimizer, mode='max', factor=0.1, patience=3)"
   ]
  },
  {
   "cell_type": "code",
   "execution_count": 10,
   "id": "1e9c562b",
   "metadata": {
    "execution": {
     "iopub.execute_input": "2022-01-17T14:08:12.281940Z",
     "iopub.status.busy": "2022-01-17T14:08:12.281138Z",
     "iopub.status.idle": "2022-01-17T14:08:12.293188Z",
     "shell.execute_reply": "2022-01-17T14:08:12.294133Z",
     "shell.execute_reply.started": "2022-01-17T12:54:32.508063Z"
    },
    "papermill": {
     "duration": 0.044859,
     "end_time": "2022-01-17T14:08:12.294311",
     "exception": false,
     "start_time": "2022-01-17T14:08:12.249452",
     "status": "completed"
    },
    "tags": []
   },
   "outputs": [],
   "source": [
    "def train_model(model, criterion, optimizer, scheduler, num_epochs=num_epochs , path='model.path'):\n",
    "    since = time.time()\n",
    "    best_model_wts = copy.deepcopy(model.state_dict())\n",
    "    best_loss = math.inf\n",
    "    best_acc = 0.\n",
    "    \n",
    "    for epoch in range(num_epochs):\n",
    "        since_e = time.time()\n",
    "        print(f'Epoch {epoch+1}/{num_epochs}')\n",
    "        for phase in ['train', 'val']:\n",
    "            if phase == 'train':\n",
    "                model.train()\n",
    "            else:\n",
    "                model.eval()\n",
    "            \n",
    "            running_loss = 0.0\n",
    "            running_correct = 0\n",
    "            \n",
    "            for i, (inputs, labels) in tqdm(enumerate(data_loader[phase])):\n",
    "                inputs = inputs.to(device)\n",
    "                labels = labels.to(device)\n",
    "                \n",
    "                optimizer.zero_grad()\n",
    "                if i%1000==999:\n",
    "                    print(f\"[{epoch+1}, {i} loss: {running_loss/(i*inputs.size(0)):.4f}]\")\n",
    "                \n",
    "                with torch.set_grad_enabled(phase=='train'):\n",
    "                    outputs = model(inputs)\n",
    "                    _, preds = torch.max(outputs, 1)\n",
    "                    loss = criterion(outputs, labels)\n",
    "                    if phase=='train':\n",
    "                        loss.backward()\n",
    "                        optimizer.step()\n",
    "                \n",
    "                running_loss += loss.item()*inputs.size(0)\n",
    "                running_correct += torch.sum(preds==labels.data)\n",
    "                \n",
    "            epoch_loss = running_loss / dataset_sizes[phase]\n",
    "            epoch_acc = running_correct / dataset_sizes[phase]\n",
    "            print('{} loss: {:.4f} acc: {:.4f}'.format(phase, epoch_loss, epoch_acc))\n",
    "            \n",
    "            if phase == 'val':\n",
    "                scheduler.step(epoch_acc)\n",
    "            if phase == 'val' and epoch_acc > best_acc:\n",
    "                print(f'New acc: {epoch_acc:.4f}, previous acc: {best_acc:.4f}')\n",
    "                best_loss = epoch_loss\n",
    "                best_acc = epoch_acc\n",
    "                best_model_wts = copy.deepcopy(model.state_dict())\n",
    "                torch.save(model.state_dict(), path)\n",
    "        time_e = time.time() - since_e\n",
    "        print(f'Training epoch {epoch+1} complete in: {time_e//60:.0f}m {time_e%60:.0f}s')\n",
    "    time_elapsed = time.time()-since\n",
    "    print('Training complete in: {:.0f}m {:.0f}s'.format(time_elapsed//60, time_elapsed%60))\n",
    "    print('Best val acc: {:.4f} Best val loss: {:.4f}'.format(best_acc, best_loss))\n",
    "    \n",
    "    model.load_state_dict(best_model_wts)\n",
    "    return model"
   ]
  },
  {
   "cell_type": "code",
   "execution_count": 11,
   "id": "3776a709",
   "metadata": {
    "execution": {
     "iopub.execute_input": "2022-01-17T14:08:12.351807Z",
     "iopub.status.busy": "2022-01-17T14:08:12.351005Z",
     "iopub.status.idle": "2022-01-17T17:04:11.537616Z",
     "shell.execute_reply": "2022-01-17T17:04:11.538040Z",
     "shell.execute_reply.started": "2022-01-17T12:54:32.526404Z"
    },
    "papermill": {
     "duration": 10559.221223,
     "end_time": "2022-01-17T17:04:11.538198",
     "exception": false,
     "start_time": "2022-01-17T14:08:12.316975",
     "status": "completed"
    },
    "tags": []
   },
   "outputs": [
    {
     "name": "stdout",
     "output_type": "stream",
     "text": [
      "Epoch 1/25\n"
     ]
    },
    {
     "name": "stderr",
     "output_type": "stream",
     "text": [
      "557it [06:46,  1.37it/s]"
     ]
    },
    {
     "name": "stdout",
     "output_type": "stream",
     "text": [
      "train loss: 0.9992 acc: 0.6850\n"
     ]
    },
    {
     "name": "stderr",
     "output_type": "stream",
     "text": [
      "\n",
      "70it [00:29,  2.36it/s]\n"
     ]
    },
    {
     "name": "stdout",
     "output_type": "stream",
     "text": [
      "val loss: 0.7708 acc: 0.8119\n",
      "New acc: 0.8119, previous acc: 0.0000\n",
      "Training epoch 1 complete in: 7m 17s\n",
      "Epoch 2/25\n"
     ]
    },
    {
     "name": "stderr",
     "output_type": "stream",
     "text": [
      "557it [06:32,  1.42it/s]"
     ]
    },
    {
     "name": "stdout",
     "output_type": "stream",
     "text": [
      "train loss: 0.7785 acc: 0.8052\n"
     ]
    },
    {
     "name": "stderr",
     "output_type": "stream",
     "text": [
      "\n",
      "70it [00:24,  2.91it/s]\n"
     ]
    },
    {
     "name": "stdout",
     "output_type": "stream",
     "text": [
      "val loss: 0.6403 acc: 0.8774\n",
      "New acc: 0.8774, previous acc: 0.8119\n",
      "Training epoch 2 complete in: 6m 57s\n",
      "Epoch 3/25\n"
     ]
    },
    {
     "name": "stderr",
     "output_type": "stream",
     "text": [
      "557it [06:33,  1.42it/s]"
     ]
    },
    {
     "name": "stdout",
     "output_type": "stream",
     "text": [
      "train loss: 0.7110 acc: 0.8379\n"
     ]
    },
    {
     "name": "stderr",
     "output_type": "stream",
     "text": [
      "\n",
      "70it [00:24,  2.87it/s]\n"
     ]
    },
    {
     "name": "stdout",
     "output_type": "stream",
     "text": [
      "val loss: 0.6325 acc: 0.8837\n",
      "New acc: 0.8837, previous acc: 0.8774\n",
      "Training epoch 3 complete in: 6m 59s\n",
      "Epoch 4/25\n"
     ]
    },
    {
     "name": "stderr",
     "output_type": "stream",
     "text": [
      "557it [06:33,  1.42it/s]"
     ]
    },
    {
     "name": "stdout",
     "output_type": "stream",
     "text": [
      "train loss: 0.6762 acc: 0.8565\n"
     ]
    },
    {
     "name": "stderr",
     "output_type": "stream",
     "text": [
      "\n",
      "70it [00:25,  2.75it/s]\n"
     ]
    },
    {
     "name": "stdout",
     "output_type": "stream",
     "text": [
      "val loss: 0.6183 acc: 0.8900\n",
      "New acc: 0.8900, previous acc: 0.8837\n",
      "Training epoch 4 complete in: 6m 60s\n",
      "Epoch 5/25\n"
     ]
    },
    {
     "name": "stderr",
     "output_type": "stream",
     "text": [
      "557it [06:32,  1.42it/s]"
     ]
    },
    {
     "name": "stdout",
     "output_type": "stream",
     "text": [
      "train loss: 0.6639 acc: 0.8622\n"
     ]
    },
    {
     "name": "stderr",
     "output_type": "stream",
     "text": [
      "\n",
      "70it [00:25,  2.74it/s]\n"
     ]
    },
    {
     "name": "stdout",
     "output_type": "stream",
     "text": [
      "val loss: 0.5610 acc: 0.9169\n",
      "New acc: 0.9169, previous acc: 0.8900\n",
      "Training epoch 5 complete in: 6m 59s\n",
      "Epoch 6/25\n"
     ]
    },
    {
     "name": "stderr",
     "output_type": "stream",
     "text": [
      "557it [06:34,  1.41it/s]"
     ]
    },
    {
     "name": "stdout",
     "output_type": "stream",
     "text": [
      "train loss: 0.6293 acc: 0.8809\n"
     ]
    },
    {
     "name": "stderr",
     "output_type": "stream",
     "text": [
      "\n",
      "70it [00:25,  2.77it/s]"
     ]
    },
    {
     "name": "stdout",
     "output_type": "stream",
     "text": [
      "val loss: 0.5895 acc: 0.9088\n",
      "Training epoch 6 complete in: 6m 60s\n",
      "Epoch 7/25\n"
     ]
    },
    {
     "name": "stderr",
     "output_type": "stream",
     "text": [
      "\n",
      "557it [06:35,  1.41it/s]"
     ]
    },
    {
     "name": "stdout",
     "output_type": "stream",
     "text": [
      "train loss: 0.6154 acc: 0.8856\n"
     ]
    },
    {
     "name": "stderr",
     "output_type": "stream",
     "text": [
      "\n",
      "70it [00:24,  2.88it/s]\n"
     ]
    },
    {
     "name": "stdout",
     "output_type": "stream",
     "text": [
      "val loss: 0.5662 acc: 0.9178\n",
      "New acc: 0.9178, previous acc: 0.9169\n",
      "Training epoch 7 complete in: 7m 0s\n",
      "Epoch 8/25\n"
     ]
    },
    {
     "name": "stderr",
     "output_type": "stream",
     "text": [
      "557it [06:37,  1.40it/s]"
     ]
    },
    {
     "name": "stdout",
     "output_type": "stream",
     "text": [
      "train loss: 0.6029 acc: 0.8945\n"
     ]
    },
    {
     "name": "stderr",
     "output_type": "stream",
     "text": [
      "\n",
      "70it [00:25,  2.70it/s]\n"
     ]
    },
    {
     "name": "stdout",
     "output_type": "stream",
     "text": [
      "val loss: 0.5684 acc: 0.9219\n",
      "New acc: 0.9219, previous acc: 0.9178\n",
      "Training epoch 8 complete in: 7m 4s\n",
      "Epoch 9/25\n"
     ]
    },
    {
     "name": "stderr",
     "output_type": "stream",
     "text": [
      "557it [06:34,  1.41it/s]"
     ]
    },
    {
     "name": "stdout",
     "output_type": "stream",
     "text": [
      "train loss: 0.6001 acc: 0.8951\n"
     ]
    },
    {
     "name": "stderr",
     "output_type": "stream",
     "text": [
      "\n",
      "70it [00:25,  2.70it/s]"
     ]
    },
    {
     "name": "stdout",
     "output_type": "stream",
     "text": [
      "val loss: 0.5711 acc: 0.9178\n",
      "Training epoch 9 complete in: 7m 1s\n",
      "Epoch 10/25\n"
     ]
    },
    {
     "name": "stderr",
     "output_type": "stream",
     "text": [
      "\n",
      "557it [06:36,  1.41it/s]"
     ]
    },
    {
     "name": "stdout",
     "output_type": "stream",
     "text": [
      "train loss: 0.5928 acc: 0.9001\n"
     ]
    },
    {
     "name": "stderr",
     "output_type": "stream",
     "text": [
      "\n",
      "70it [00:25,  2.72it/s]\n"
     ]
    },
    {
     "name": "stdout",
     "output_type": "stream",
     "text": [
      "val loss: 0.5472 acc: 0.9286\n",
      "New acc: 0.9286, previous acc: 0.9219\n",
      "Training epoch 10 complete in: 7m 3s\n",
      "Epoch 11/25\n"
     ]
    },
    {
     "name": "stderr",
     "output_type": "stream",
     "text": [
      "557it [06:38,  1.40it/s]"
     ]
    },
    {
     "name": "stdout",
     "output_type": "stream",
     "text": [
      "train loss: 0.5835 acc: 0.9027\n"
     ]
    },
    {
     "name": "stderr",
     "output_type": "stream",
     "text": [
      "\n",
      "70it [00:26,  2.66it/s]"
     ]
    },
    {
     "name": "stdout",
     "output_type": "stream",
     "text": [
      "val loss: 0.6290 acc: 0.8918\n",
      "Training epoch 11 complete in: 7m 5s\n",
      "Epoch 12/25\n"
     ]
    },
    {
     "name": "stderr",
     "output_type": "stream",
     "text": [
      "\n",
      "557it [06:35,  1.41it/s]"
     ]
    },
    {
     "name": "stdout",
     "output_type": "stream",
     "text": [
      "train loss: 0.5762 acc: 0.9072\n"
     ]
    },
    {
     "name": "stderr",
     "output_type": "stream",
     "text": [
      "\n",
      "70it [00:26,  2.68it/s]\n"
     ]
    },
    {
     "name": "stdout",
     "output_type": "stream",
     "text": [
      "val loss: 0.5245 acc: 0.9367\n",
      "New acc: 0.9367, previous acc: 0.9286\n",
      "Training epoch 12 complete in: 7m 2s\n",
      "Epoch 13/25\n"
     ]
    },
    {
     "name": "stderr",
     "output_type": "stream",
     "text": [
      "557it [06:38,  1.40it/s]"
     ]
    },
    {
     "name": "stdout",
     "output_type": "stream",
     "text": [
      "train loss: 0.5663 acc: 0.9117\n"
     ]
    },
    {
     "name": "stderr",
     "output_type": "stream",
     "text": [
      "\n",
      "70it [00:24,  2.85it/s]"
     ]
    },
    {
     "name": "stdout",
     "output_type": "stream",
     "text": [
      "val loss: 0.5420 acc: 0.9264\n",
      "Training epoch 13 complete in: 7m 3s\n",
      "Epoch 14/25\n"
     ]
    },
    {
     "name": "stderr",
     "output_type": "stream",
     "text": [
      "\n",
      "557it [06:35,  1.41it/s]"
     ]
    },
    {
     "name": "stdout",
     "output_type": "stream",
     "text": [
      "train loss: 0.5687 acc: 0.9110\n"
     ]
    },
    {
     "name": "stderr",
     "output_type": "stream",
     "text": [
      "\n",
      "70it [00:25,  2.71it/s]"
     ]
    },
    {
     "name": "stdout",
     "output_type": "stream",
     "text": [
      "val loss: 0.5314 acc: 0.9313\n",
      "Training epoch 14 complete in: 7m 2s\n",
      "Epoch 15/25\n"
     ]
    },
    {
     "name": "stderr",
     "output_type": "stream",
     "text": [
      "\n",
      "557it [06:33,  1.41it/s]"
     ]
    },
    {
     "name": "stdout",
     "output_type": "stream",
     "text": [
      "train loss: 0.5634 acc: 0.9143\n"
     ]
    },
    {
     "name": "stderr",
     "output_type": "stream",
     "text": [
      "\n",
      "70it [00:24,  2.89it/s]\n"
     ]
    },
    {
     "name": "stdout",
     "output_type": "stream",
     "text": [
      "val loss: 0.5239 acc: 0.9371\n",
      "New acc: 0.9371, previous acc: 0.9367\n",
      "Training epoch 15 complete in: 6m 59s\n",
      "Epoch 16/25\n"
     ]
    },
    {
     "name": "stderr",
     "output_type": "stream",
     "text": [
      "557it [06:33,  1.41it/s]"
     ]
    },
    {
     "name": "stdout",
     "output_type": "stream",
     "text": [
      "train loss: 0.5483 acc: 0.9211\n"
     ]
    },
    {
     "name": "stderr",
     "output_type": "stream",
     "text": [
      "\n",
      "70it [00:24,  2.88it/s]"
     ]
    },
    {
     "name": "stdout",
     "output_type": "stream",
     "text": [
      "val loss: 0.5656 acc: 0.9228\n",
      "Training epoch 16 complete in: 6m 58s\n",
      "Epoch 17/25\n"
     ]
    },
    {
     "name": "stderr",
     "output_type": "stream",
     "text": [
      "\n",
      "557it [06:36,  1.41it/s]"
     ]
    },
    {
     "name": "stdout",
     "output_type": "stream",
     "text": [
      "train loss: 0.5516 acc: 0.9204\n"
     ]
    },
    {
     "name": "stderr",
     "output_type": "stream",
     "text": [
      "\n",
      "70it [00:23,  2.97it/s]"
     ]
    },
    {
     "name": "stdout",
     "output_type": "stream",
     "text": [
      "val loss: 0.5175 acc: 0.9371\n",
      "Training epoch 17 complete in: 7m 0s\n",
      "Epoch 18/25\n"
     ]
    },
    {
     "name": "stderr",
     "output_type": "stream",
     "text": [
      "\n",
      "557it [06:37,  1.40it/s]"
     ]
    },
    {
     "name": "stdout",
     "output_type": "stream",
     "text": [
      "train loss: 0.5449 acc: 0.9242\n"
     ]
    },
    {
     "name": "stderr",
     "output_type": "stream",
     "text": [
      "\n",
      "70it [00:26,  2.69it/s]\n"
     ]
    },
    {
     "name": "stdout",
     "output_type": "stream",
     "text": [
      "val loss: 0.5232 acc: 0.9376\n",
      "New acc: 0.9376, previous acc: 0.9371\n",
      "Training epoch 18 complete in: 7m 5s\n",
      "Epoch 19/25\n"
     ]
    },
    {
     "name": "stderr",
     "output_type": "stream",
     "text": [
      "557it [06:35,  1.41it/s]"
     ]
    },
    {
     "name": "stdout",
     "output_type": "stream",
     "text": [
      "train loss: 0.5489 acc: 0.9219\n"
     ]
    },
    {
     "name": "stderr",
     "output_type": "stream",
     "text": [
      "\n",
      "70it [00:26,  2.65it/s]\n"
     ]
    },
    {
     "name": "stdout",
     "output_type": "stream",
     "text": [
      "val loss: 0.5132 acc: 0.9394\n",
      "New acc: 0.9394, previous acc: 0.9376\n",
      "Training epoch 19 complete in: 7m 3s\n",
      "Epoch 20/25\n"
     ]
    },
    {
     "name": "stderr",
     "output_type": "stream",
     "text": [
      "557it [06:36,  1.40it/s]"
     ]
    },
    {
     "name": "stdout",
     "output_type": "stream",
     "text": [
      "train loss: 0.5436 acc: 0.9224\n"
     ]
    },
    {
     "name": "stderr",
     "output_type": "stream",
     "text": [
      "\n",
      "70it [00:26,  2.62it/s]"
     ]
    },
    {
     "name": "stdout",
     "output_type": "stream",
     "text": [
      "val loss: 0.5344 acc: 0.9308\n",
      "Training epoch 20 complete in: 7m 3s\n",
      "Epoch 21/25\n"
     ]
    },
    {
     "name": "stderr",
     "output_type": "stream",
     "text": [
      "\n",
      "557it [06:34,  1.41it/s]"
     ]
    },
    {
     "name": "stdout",
     "output_type": "stream",
     "text": [
      "train loss: 0.5483 acc: 0.9216\n"
     ]
    },
    {
     "name": "stderr",
     "output_type": "stream",
     "text": [
      "\n",
      "70it [00:26,  2.66it/s]"
     ]
    },
    {
     "name": "stdout",
     "output_type": "stream",
     "text": [
      "val loss: 0.5220 acc: 0.9367\n",
      "Training epoch 21 complete in: 7m 1s\n",
      "Epoch 22/25\n"
     ]
    },
    {
     "name": "stderr",
     "output_type": "stream",
     "text": [
      "\n",
      "557it [06:34,  1.41it/s]"
     ]
    },
    {
     "name": "stdout",
     "output_type": "stream",
     "text": [
      "train loss: 0.5527 acc: 0.9187\n"
     ]
    },
    {
     "name": "stderr",
     "output_type": "stream",
     "text": [
      "\n",
      "70it [00:26,  2.60it/s]\n"
     ]
    },
    {
     "name": "stdout",
     "output_type": "stream",
     "text": [
      "val loss: 0.5126 acc: 0.9470\n",
      "New acc: 0.9470, previous acc: 0.9394\n",
      "Training epoch 22 complete in: 7m 3s\n",
      "Epoch 23/25\n"
     ]
    },
    {
     "name": "stderr",
     "output_type": "stream",
     "text": [
      "557it [06:35,  1.41it/s]"
     ]
    },
    {
     "name": "stdout",
     "output_type": "stream",
     "text": [
      "train loss: 0.5363 acc: 0.9293\n"
     ]
    },
    {
     "name": "stderr",
     "output_type": "stream",
     "text": [
      "\n",
      "70it [00:26,  2.66it/s]"
     ]
    },
    {
     "name": "stdout",
     "output_type": "stream",
     "text": [
      "val loss: 0.5472 acc: 0.9250\n",
      "Training epoch 23 complete in: 7m 2s\n",
      "Epoch 24/25\n"
     ]
    },
    {
     "name": "stderr",
     "output_type": "stream",
     "text": [
      "\n",
      "557it [06:39,  1.39it/s]"
     ]
    },
    {
     "name": "stdout",
     "output_type": "stream",
     "text": [
      "train loss: 0.5379 acc: 0.9269\n"
     ]
    },
    {
     "name": "stderr",
     "output_type": "stream",
     "text": [
      "\n",
      "70it [00:26,  2.64it/s]"
     ]
    },
    {
     "name": "stdout",
     "output_type": "stream",
     "text": [
      "val loss: 0.5364 acc: 0.9362\n",
      "Training epoch 24 complete in: 7m 7s\n",
      "Epoch 25/25\n"
     ]
    },
    {
     "name": "stderr",
     "output_type": "stream",
     "text": [
      "\n",
      "557it [06:37,  1.40it/s]"
     ]
    },
    {
     "name": "stdout",
     "output_type": "stream",
     "text": [
      "train loss: 0.5349 acc: 0.9276\n"
     ]
    },
    {
     "name": "stderr",
     "output_type": "stream",
     "text": [
      "\n",
      "70it [00:27,  2.54it/s]"
     ]
    },
    {
     "name": "stdout",
     "output_type": "stream",
     "text": [
      "val loss: 0.5084 acc: 0.9439\n",
      "Training epoch 25 complete in: 7m 5s\n",
      "Training complete in: 175m 59s\n",
      "Best val acc: 0.9470 Best val loss: 0.5126\n"
     ]
    },
    {
     "name": "stderr",
     "output_type": "stream",
     "text": [
      "\n"
     ]
    }
   ],
   "source": [
    "model = train_model(model, criterion, optimizer, scheduler)"
   ]
  },
  {
   "cell_type": "markdown",
   "id": "e702876d",
   "metadata": {
    "papermill": {
     "duration": 4.148195,
     "end_time": "2022-01-17T17:04:20.145381",
     "exception": false,
     "start_time": "2022-01-17T17:04:15.997186",
     "status": "completed"
    },
    "tags": []
   },
   "source": [
    "# 5. Prediction on Test set"
   ]
  },
  {
   "cell_type": "code",
   "execution_count": 12,
   "id": "2523ef22",
   "metadata": {
    "execution": {
     "iopub.execute_input": "2022-01-17T17:04:29.086677Z",
     "iopub.status.busy": "2022-01-17T17:04:29.085061Z",
     "iopub.status.idle": "2022-01-17T17:04:29.087235Z",
     "shell.execute_reply": "2022-01-17T17:04:29.087654Z",
     "shell.execute_reply.started": "2022-01-17T14:04:28.917998Z"
    },
    "papermill": {
     "duration": 4.381825,
     "end_time": "2022-01-17T17:04:29.087806",
     "exception": false,
     "start_time": "2022-01-17T17:04:24.705981",
     "status": "completed"
    },
    "tags": []
   },
   "outputs": [],
   "source": [
    "def plot_confusion_matrix(cm, classes,\n",
    "                          normalize=False,\n",
    "                          title='Confusion matrix',\n",
    "                          cmap=plt.cm.Blues):\n",
    "    \"\"\"\n",
    "    This function prints and plots the confusion matrix.\n",
    "    Normalization can be applied by setting `normalize=True`.\n",
    "    \"\"\"\n",
    "    plt.imshow(cm, interpolation='nearest', cmap=cmap)\n",
    "    plt.title(title)\n",
    "    plt.colorbar()\n",
    "    tick_marks = np.arange(len(classes))\n",
    "    plt.xticks(tick_marks, classes, rotation=45)\n",
    "    plt.yticks(tick_marks, classes)\n",
    "\n",
    "    if normalize:\n",
    "        cm = cm.astype('float') / cm.sum(axis=1)[:, np.newaxis]\n",
    "\n",
    "    thresh = cm.max() / 2.\n",
    "    for i, j in itertools.product(range(cm.shape[0]), range(cm.shape[1])):\n",
    "        plt.text(j, i, cm[i, j],\n",
    "                 horizontalalignment=\"center\",\n",
    "                 color=\"white\" if cm[i, j] > thresh else \"black\")\n",
    "\n",
    "    plt.tight_layout()\n",
    "    plt.ylabel('True label')\n",
    "    plt.xlabel('Predicted label')"
   ]
  },
  {
   "cell_type": "code",
   "execution_count": 13,
   "id": "361d761a",
   "metadata": {
    "execution": {
     "iopub.execute_input": "2022-01-17T17:04:37.551413Z",
     "iopub.status.busy": "2022-01-17T17:04:37.550609Z",
     "iopub.status.idle": "2022-01-17T17:04:37.785720Z",
     "shell.execute_reply": "2022-01-17T17:04:37.785253Z",
     "shell.execute_reply.started": "2022-01-17T14:04:39.078226Z"
    },
    "papermill": {
     "duration": 4.62317,
     "end_time": "2022-01-17T17:04:37.785851",
     "exception": false,
     "start_time": "2022-01-17T17:04:33.162681",
     "status": "completed"
    },
    "tags": []
   },
   "outputs": [
    {
     "data": {
      "text/plain": [
       "<All keys matched successfully>"
      ]
     },
     "execution_count": 13,
     "metadata": {},
     "output_type": "execute_result"
    }
   ],
   "source": [
    "# model = timm.create_model('swin_base_patch4_window7_224', pretrained=True)\n",
    "# head = nn.Sequential(OrderedDict([\n",
    "#     ('fc1', nn.Linear(1024, 512)),\n",
    "#     ('relu1', nn.ReLU()),\n",
    "#     ('fc2', nn.Linear(512, 256)),\n",
    "#     ('relu2', nn.ReLU()),\n",
    "#     ('fc3', nn.Linear(256, 5))\n",
    "# ]))\n",
    "# model.head = head\n",
    "# model = model.to(device)\n",
    "\n",
    "model.load_state_dict(torch.load('./model.path'))"
   ]
  },
  {
   "cell_type": "code",
   "execution_count": 14,
   "id": "555a0ddc",
   "metadata": {
    "execution": {
     "iopub.execute_input": "2022-01-17T17:04:46.278298Z",
     "iopub.status.busy": "2022-01-17T17:04:46.277416Z",
     "iopub.status.idle": "2022-01-17T17:05:37.741894Z",
     "shell.execute_reply": "2022-01-17T17:05:37.742300Z",
     "shell.execute_reply.started": "2022-01-17T14:04:42.557100Z"
    },
    "papermill": {
     "duration": 55.889202,
     "end_time": "2022-01-17T17:05:37.742450",
     "exception": false,
     "start_time": "2022-01-17T17:04:41.853248",
     "status": "completed"
    },
    "tags": []
   },
   "outputs": [
    {
     "name": "stdout",
     "output_type": "stream",
     "text": [
      "Testing complete in 0m 51s\n",
      "              precision    recall  f1-score   support\n",
      "\n",
      "           0    0.97965   0.93094   0.95467       362\n",
      "           1    0.95321   0.91362   0.93299       602\n",
      "           2    0.92328   0.97642   0.94911      1060\n",
      "           3    0.99167   0.88148   0.93333       135\n",
      "           4    1.00000   0.95714   0.97810        70\n",
      "\n",
      "    accuracy                        0.94572      2229\n",
      "   macro avg    0.96956   0.93192   0.94964      2229\n",
      "weighted avg    0.94707   0.94572   0.94561      2229\n",
      "\n"
     ]
    },
    {
     "data": {
      "image/png": "[encoded data removed]",
      "text/plain": [
       "<Figure size 432x288 with 2 Axes>"
      ]
     },
     "metadata": {
      "image/png": {
       "height": 293,
       "width": 352
      },
      "needs_background": "light"
     },
     "output_type": "display_data"
    }
   ],
   "source": [
    "since = time.time()\n",
    "model.eval()\n",
    "y_test = []\n",
    "y_pred = []\n",
    "for images, labels in data_loader['test']:\n",
    "    images = images.to(device)\n",
    "    labels = labels.to(device)\n",
    "    outputs = model(images)\n",
    "    _, predictions = outputs.max(1)\n",
    "    \n",
    "    y_test.append(labels.data.cpu().numpy())\n",
    "    y_pred.append(predictions.data.cpu().numpy())\n",
    "    \n",
    "y_test = np.concatenate(y_test)\n",
    "y_pred = np.concatenate(y_pred)\n",
    "time_elapsed = time.time() - since\n",
    "\n",
    "print('Testing complete in {:.0f}m {:.0f}s'.format(time_elapsed // 60, time_elapsed % 60))\n",
    "\n",
    "confusion_mtx = confusion_matrix(y_test, y_pred)\n",
    "# plot the confusion matrix\n",
    "plot_labels = ['COVID', 'Lung_Opacity', 'Normal', 'Pneunomia', 'Tuberculosis']\n",
    "\n",
    "plot_confusion_matrix(confusion_mtx, plot_labels)\n",
    "report = classification_report(y_test, y_pred, digits=5)\n",
    "print(report)"
   ]
  }
 ],
 "metadata": {
  "kernelspec": {
   "display_name": "Python 3",
   "language": "python",
   "name": "python3"
  },
  "language_info": {
   "codemirror_mode": {
    "name": "ipython",
    "version": 3
   },
   "file_extension": ".py",
   "mimetype": "text/x-python",
   "name": "python",
   "nbconvert_exporter": "python",
   "pygments_lexer": "ipython3",
   "version": "3.7.12"
  },
  "papermill": {
   "default_parameters": {},
   "duration": 10695.553791,
   "end_time": "2022-01-17T17:05:44.846763",
   "environment_variables": {},
   "exception": null,
   "input_path": "__notebook__.ipynb",
   "output_path": "__notebook__.ipynb",
   "parameters": {},
   "start_time": "2022-01-17T14:07:29.292972",
   "version": "2.3.3"
  }
 },
 "nbformat": 4,
 "nbformat_minor": 5
}
